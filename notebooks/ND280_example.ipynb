{
 "cells": [
  {
   "cell_type": "markdown",
   "id": "contemporary-equipment",
   "metadata": {},
   "source": [
    "# Neutrino Trident Production\n",
    "\n",
    "This notebook loads and tests the MC events for neutrino trident production off nuclei and protons,\n",
    "\n",
    "$$\\nu_\\alpha \\,+\\, N \\,\\to\\, \\nu_\\beta \\,+\\, \\ell^+_{\\kappa} \\,+\\, \\ell^-_{\\gamma} \\,+\\, N.$$\n",
    "\n",
    "This notebook can be easily adapted to generate and analyse your own experiment definition in PATH=../exps/\n",
    "\n",
    "\n",
    "Note that only the four-momenta of the final state charged leptons and neutrino are provided, together with the neutrino energy $E_\\nu$ and the momentum transfer to the nuclear targer $Q^2$.\n",
    "\n",
    "This work is directly based on $\\textit{arXiv:1807.10973}$."
   ]
  },
  {
   "cell_type": "markdown",
   "id": "wanted-novel",
   "metadata": {},
   "source": [
    "## Init"
   ]
  },
  {
   "cell_type": "code",
   "execution_count": 1,
   "id": "centered-crown",
   "metadata": {},
   "outputs": [],
   "source": [
    "%load_ext autoreload\n",
    "%autoreload 2\n",
    "%matplotlib inline"
   ]
  },
  {
   "cell_type": "code",
   "execution_count": 2,
   "id": "continuous-electron",
   "metadata": {},
   "outputs": [],
   "source": [
    "import numpy as np\n",
    "from scipy import *\n",
    "import os\n",
    "import sys\n",
    "import matplotlib.pyplot as plt\n",
    "from matplotlib import rc, rcParams\n",
    "import matplotlib.lines as mlines\n",
    "from matplotlib.pyplot import *\n",
    "\n",
    "\n",
    "# Neutrino Trident Production\n",
    "\n",
    "from source import *"
   ]
  },
  {
   "cell_type": "markdown",
   "id": "ranking-oxide",
   "metadata": {},
   "source": [
    "## Define scattering targets and the total mass to be used"
   ]
  },
  {
   "cell_type": "code",
   "execution_count": 3,
   "id": "certified-liability",
   "metadata": {},
   "outputs": [
    {
     "name": "stdout",
     "output_type": "stream",
     "text": [
      "all materials: 22.340 t\n",
      "except for Z=82: 10.340 t\n"
     ]
    }
   ],
   "source": [
    "# masses in t \n",
    "massZn=0.8\n",
    "massCu=0.4\n",
    "massO=3.32\n",
    "massC=5.4\n",
    "massPb=12.0\n",
    "massH=0.42\n",
    "\n",
    "# mass, Z, A, PB or noPB\n",
    "materials = np.array([[massPb, 82, 207, False],\n",
    "            [massCu, 29, 65, False],\n",
    "            [massZn, 30, 65, False],\n",
    "            [massC, 6, 12, False],\n",
    "            [massO, 8, 16, False],\n",
    "            [massH, 1, 1, False],\n",
    "            [8/16*massO + 6/12*massC + 30/65*massZn + 82/207*massPb, 1, 1, True],\n",
    "            [8/16*massO + 6/12*massC + 35/65*massZn + (207-82)/207*massPb, 0, 1, True]]).T\n",
    "\n",
    "# check total detector mass\n",
    "nuclei_mask=np.array(1-materials[-1], dtype=bool)\n",
    "\n",
    "total_det_mass=np.sum(materials[0][nuclei_mask])\n",
    "exception_mass=np.sum(materials[0][(nuclei_mask)&(materials[1]!=82)])\n",
    "\n",
    "print(f\"all materials: {total_det_mass:.3f} t\")\n",
    "print(f\"except for Z=82: {exception_mass:.3f} t\")"
   ]
  },
  {
   "cell_type": "markdown",
   "id": "circular-diabetes",
   "metadata": {},
   "source": [
    "## Generate trident events with exp scripts in exp\n",
    "\n",
    "this call ./exp.sh, reads all output npy files in data/exp/ folder, and combines all generation cases (targets, nu vs nubar, scattering regime) into a single dictionary."
   ]
  },
  {
   "cell_type": "code",
   "execution_count": 8,
   "id": "noble-karaoke",
   "metadata": {},
   "outputs": [
    {
     "name": "stdout",
     "output_type": "stream",
     "text": [
      "data/ND280_FHC/\n",
      "Trident channel: numu_to_numu_mu+_mu-\n",
      "\n",
      "Integral: 4.84397e+12+-8.80401e+09, Chi2 prob: 0.269047\n",
      "correction: 0.166781\n",
      "Total number of events: 105000\n",
      "Number of NaNed events: 0\n",
      "Saving events to file: data/ND280_FHC/MC_events_numu_to_numu_mu+_mu-_coh_6_12_gv_0.000980_ga_0.000000_mz_0.100000.npy\n",
      "size of events: 1575000\n",
      "Time to fill and iterate a vector of  ints : 0.037672 s\n",
      "Trident channel: numu_to_numu_mu+_mu-\n",
      "\n",
      "Integral: 7.89845e+12+-1.44461e+10, Chi2 prob: 0.24044\n",
      "correction: 0.157003\n",
      "Total number of events: 105000\n",
      "Number of NaNed events: 0\n",
      "Saving events to file: data/ND280_FHC/MC_events_numu_to_numu_mu+_mu-_coh_8_16_gv_0.000980_ga_0.000000_mz_0.100000.npy\n",
      "size of events: 1575000\n",
      "Time to fill and iterate a vector of  ints : 0.040508 s\n",
      "Trident channel: numu_to_numu_mu+_mu-\n",
      "\n",
      "Integral: 2.4686e+14+-4.5364e+11, Chi2 prob: 0.373793\n",
      "correction: 0.139636\n",
      "Total number of events: 105000\n",
      "Number of NaNed events: 0\n",
      "Saving events to file: data/ND280_FHC/MC_events_numu_to_numu_mu+_mu-_coh_82_207_gv_0.000980_ga_0.000000_mz_0.100000.npy\n",
      "size of events: 1575000\n",
      "Time to fill and iterate a vector of  ints : 0.042085 s\n",
      "Trident channel: numu_to_numu_mu+_mu-\n",
      "\n",
      "Integral: 6.25029e+13+-1.11541e+11, Chi2 prob: 0.121888\n",
      "correction: 0.146719\n",
      "Total number of events: 105000\n",
      "Number of NaNed events: 0\n",
      "Saving events to file: data/ND280_FHC/MC_events_numu_to_numu_mu+_mu-_coh_30_65_gv_0.000980_ga_0.000000_mz_0.100000.npy\n",
      "size of events: 1575000\n",
      "Time to fill and iterate a vector of  ints : 0.037987 s\n",
      "Trident channel: numu_to_numu_mu+_mu-\n",
      "\n",
      "Integral: 5.94292e+13+-1.0797e+11, Chi2 prob: 0.498709\n",
      "correction: 0.148913\n",
      "Total number of events: 105000\n",
      "Number of NaNed events: 0\n",
      "Saving events to file: data/ND280_FHC/MC_events_numu_to_numu_mu+_mu-_coh_29_63_gv_0.000980_ga_0.000000_mz_0.100000.npy\n",
      "size of events: 1575000\n",
      "Time to fill and iterate a vector of  ints : 0.03816 s\n",
      "Trident channel: numubar_to_numubar_mu+_mu-\n",
      "\n",
      "Integral: 5.4278e+12+-1.40291e+10, Chi2 prob: 0.878721\n",
      "correction: 0.150781\n",
      "Total number of events: 105000\n",
      "Number of NaNed events: 0\n",
      "Saving events to file: data/ND280_FHC/MC_events_numubar_to_numubar_mu+_mu-_coh_6_12_gv_0.000980_ga_0.000000_mz_0.100000.npy\n",
      "size of events: 1575000\n",
      "Time to fill and iterate a vector of  ints : 0.036625 s\n",
      "Trident channel: numubar_to_numubar_mu+_mu-\n",
      "\n",
      "Integral: 8.72332e+12+-2.31846e+10, Chi2 prob: 0.598067\n",
      "correction: 0.163513\n",
      "Total number of events: 105000\n",
      "Number of NaNed events: 0\n",
      "Saving events to file: data/ND280_FHC/MC_events_numubar_to_numubar_mu+_mu-_coh_8_16_gv_0.000980_ga_0.000000_mz_0.100000.npy\n",
      "size of events: 1575000\n",
      "Time to fill and iterate a vector of  ints : 0.038442 s\n",
      "Trident channel: numubar_to_numubar_mu+_mu-\n",
      "\n",
      "Integral: 2.24734e+14+-6.12545e+11, Chi2 prob: 0.690873\n",
      "correction: 0.168225\n",
      "Total number of events: 105000\n",
      "Number of NaNed events: 0\n",
      "Saving events to file: data/ND280_FHC/MC_events_numubar_to_numubar_mu+_mu-_coh_82_207_gv_0.000980_ga_0.000000_mz_0.100000.npy\n",
      "size of events: 1575000\n",
      "Time to fill and iterate a vector of  ints : 0.036897 s\n",
      "Trident channel: numubar_to_numubar_mu+_mu-\n",
      "\n",
      "Integral: 6.35181e+13+-1.71206e+11, Chi2 prob: 0.705202\n",
      "correction: 0.1646\n",
      "Total number of events: 105000\n",
      "Number of NaNed events: 0\n",
      "Saving events to file: data/ND280_FHC/MC_events_numubar_to_numubar_mu+_mu-_coh_30_65_gv_0.000980_ga_0.000000_mz_0.100000.npy\n",
      "size of events: 1575000\n",
      "Time to fill and iterate a vector of  ints : 0.041426 s\n",
      "Trident channel: numubar_to_numubar_mu+_mu-\n",
      "\n",
      "Integral: 6.04964e+13+-1.64757e+11, Chi2 prob: 0.468286\n",
      "correction: 0.177396\n",
      "Total number of events: 105000\n",
      "Number of NaNed events: 0\n",
      "Saving events to file: data/ND280_FHC/MC_events_numubar_to_numubar_mu+_mu-_coh_29_63_gv_0.000980_ga_0.000000_mz_0.100000.npy\n",
      "size of events: 1575000\n",
      "Time to fill and iterate a vector of  ints : 0.043005 s\n",
      "Trident channel: numu_to_numu_mu+_mu-\n",
      "\n",
      "Integral: 5.39439e+11+-9.53395e+08, Chi2 prob: 0.00455395\n",
      "correction: 0.147181\n",
      "Total number of events: 105000\n",
      "Number of NaNed events: 0\n",
      "Saving events to file: data/ND280_FHC/MC_events_numu_to_numu_mu+_mu-_proton_PB_gv_0.000980_ga_0.000000_mz_0.100000.npy\n",
      "size of events: 1575000\n",
      "Time to fill and iterate a vector of  ints : 0.039255 s\n",
      "Trident channel: numubar_to_numubar_mu+_mu-\n",
      "\n",
      "Integral: 6.72389e+11+-1.75549e+09, Chi2 prob: 0.989164\n",
      "correction: 0.157658\n",
      "Total number of events: 105000\n",
      "Number of NaNed events: 0\n",
      "Saving events to file: data/ND280_FHC/MC_events_numubar_to_numubar_mu+_mu-_proton_PB_gv_0.000980_ga_0.000000_mz_0.100000.npy\n",
      "size of events: 1575000\n",
      "Time to fill and iterate a vector of  ints : 0.043418 s\n",
      "Trident channel: numu_to_numu_mu+_mu-\n",
      "\n",
      "Integral: 8.14674e+10+-1.46022e+08, Chi2 prob: 0.828999\n",
      "correction: 0.159137\n",
      "Total number of events: 105000\n",
      "Number of NaNed events: 0\n",
      "Saving events to file: data/ND280_FHC/MC_events_numu_to_numu_mu+_mu-_neutron_PB_gv_0.000980_ga_0.000000_mz_0.100000.npy\n",
      "size of events: 1575000\n",
      "Time to fill and iterate a vector of  ints : 0.041371 s\n",
      "Trident channel: numubar_to_numubar_mu+_mu-\n",
      "\n",
      "Integral: 9.89512e+10+-2.46523e+08, Chi2 prob: 0.135382\n",
      "correction: 0.159951\n",
      "Total number of events: 105000\n",
      "Number of NaNed events: 0\n",
      "Saving events to file: data/ND280_FHC/MC_events_numubar_to_numubar_mu+_mu-_neutron_PB_gv_0.000980_ga_0.000000_mz_0.100000.npy\n",
      "size of events: 1575000\n",
      "Time to fill and iterate a vector of  ints : 0.043106 s\n",
      "Trident channel: numu_to_numu_mu+_mu-\n",
      "\n",
      "Integral: 7.82902e+11+-1.35699e+09, Chi2 prob: 0.432379\n",
      "correction: 0.148333\n",
      "Total number of events: 105000\n",
      "Number of NaNed events: 0\n",
      "Saving events to file: data/ND280_FHC/MC_events_numu_to_numu_mu+_mu-_proton_noPB_gv_0.000980_ga_0.000000_mz_0.100000.npy\n",
      "size of events: 1575000\n",
      "Time to fill and iterate a vector of  ints : 0.038038 s\n",
      "Trident channel: numubar_to_numubar_mu+_mu-\n",
      "\n",
      "Integral: 9.70454e+11+-2.4924e+09, Chi2 prob: 0.357755\n",
      "correction: 0.156884\n",
      "Total number of events: 105000\n",
      "Number of NaNed events: 0\n",
      "Saving events to file: data/ND280_FHC/MC_events_numubar_to_numubar_mu+_mu-_proton_noPB_gv_0.000980_ga_0.000000_mz_0.100000.npy\n",
      "size of events: 1575000\n",
      "Time to fill and iterate a vector of  ints : 0.040279 s\n",
      "\n",
      "\n",
      "coh_8_16\n",
      "proton_PB\n",
      "proton_noPB\n",
      "coh_30_65\n",
      "coh_8_16\n",
      "coh_29_63\n",
      "proton_noPB\n",
      "coh_6_12\n",
      "coh_82_207\n",
      "coh_82_207\n",
      "proton_PB\n",
      "coh_6_12\n",
      "coh_30_65\n",
      "neutron_PB\n",
      "neutron_PB\n",
      "coh_29_63\n",
      "Files read: 16\n",
      "data/ND280_FHC/\n",
      "Trident channel: numu_to_numu_mu+_mu-\n",
      "\n",
      "Integral: 4.84248e+12+-8.79664e+09, Chi2 prob: 0.488885\n",
      "correction: 0.159433\n",
      "Total number of events: 105000\n",
      "Number of NaNed events: 0\n",
      "Saving events to file: data/ND280_FHC/MC_events_numu_to_numu_mu+_mu-_coh_6_12_gv_0.000980_ga_0.000000_mz_0.100000.npy\n",
      "size of events: 1575000\n",
      "Time to fill and iterate a vector of  ints : 0.044377 s\n",
      "Trident channel: numu_to_numu_mu+_mu-\n",
      "\n",
      "Integral: 7.85157e+12+-1.40694e+10, Chi2 prob: 0.629883\n",
      "correction: 0.149309\n",
      "Total number of events: 105000\n",
      "Number of NaNed events: 0\n",
      "Saving events to file: data/ND280_FHC/MC_events_numu_to_numu_mu+_mu-_coh_8_16_gv_0.000980_ga_0.000000_mz_0.100000.npy\n",
      "size of events: 1575000\n",
      "Time to fill and iterate a vector of  ints : 0.0437 s\n",
      "Trident channel: numu_to_numu_mu+_mu-\n",
      "\n",
      "Integral: 2.46732e+14+-4.79644e+11, Chi2 prob: 0.448006\n",
      "correction: 0.164828\n",
      "Total number of events: 105000\n",
      "Number of NaNed events: 0\n",
      "Saving events to file: data/ND280_FHC/MC_events_numu_to_numu_mu+_mu-_coh_82_207_gv_0.000980_ga_0.000000_mz_0.100000.npy\n",
      "size of events: 1575000\n",
      "Time to fill and iterate a vector of  ints : 0.043999 s\n",
      "Trident channel: numu_to_numu_mu+_mu-\n",
      "\n",
      "Integral: 6.23744e+13+-1.1284e+11, Chi2 prob: 0.548464\n",
      "correction: 0.162212\n",
      "Total number of events: 105000\n",
      "Number of NaNed events: 0\n",
      "Saving events to file: data/ND280_FHC/MC_events_numu_to_numu_mu+_mu-_coh_30_65_gv_0.000980_ga_0.000000_mz_0.100000.npy\n",
      "size of events: 1575000\n",
      "Time to fill and iterate a vector of  ints : 0.046588 s\n",
      "Trident channel: numu_to_numu_mu+_mu-\n",
      "\n",
      "Integral: 5.94077e+13+-1.07063e+11, Chi2 prob: 0.749256\n",
      "correction: 0.164929\n",
      "Total number of events: 105000\n",
      "Number of NaNed events: 0\n",
      "Saving events to file: data/ND280_FHC/MC_events_numu_to_numu_mu+_mu-_coh_29_63_gv_0.000980_ga_0.000000_mz_0.100000.npy\n",
      "size of events: 1575000\n",
      "Time to fill and iterate a vector of  ints : 0.04618 s\n",
      "Trident channel: numubar_to_numubar_mu+_mu-\n",
      "\n",
      "Integral: 5.43671e+12+-1.45231e+10, Chi2 prob: 0.565824\n",
      "correction: 0.172281\n",
      "Total number of events: 105000\n",
      "Number of NaNed events: 0\n",
      "Saving events to file: data/ND280_FHC/MC_events_numubar_to_numubar_mu+_mu-_coh_6_12_gv_0.000980_ga_0.000000_mz_0.100000.npy\n",
      "size of events: 1575000\n",
      "Time to fill and iterate a vector of  ints : 0.04615 s\n",
      "Trident channel: numubar_to_numubar_mu+_mu-\n",
      "\n",
      "Integral: 8.7297e+12+-2.31079e+10, Chi2 prob: 0.257619\n",
      "correction: 0.17023\n",
      "Total number of events: 105000\n",
      "Number of NaNed events: 0\n",
      "Saving events to file: data/ND280_FHC/MC_events_numubar_to_numubar_mu+_mu-_coh_8_16_gv_0.000980_ga_0.000000_mz_0.100000.npy\n",
      "size of events: 1575000\n",
      "Time to fill and iterate a vector of  ints : 0.048847 s\n",
      "Trident channel: numubar_to_numubar_mu+_mu-\n",
      "\n",
      "Integral: 2.25113e+14+-6.26104e+11, Chi2 prob: 0.928852\n",
      "correction: 0.170779\n",
      "Total number of events: 105000\n",
      "Number of NaNed events: 0\n",
      "Saving events to file: data/ND280_FHC/MC_events_numubar_to_numubar_mu+_mu-_coh_82_207_gv_0.000980_ga_0.000000_mz_0.100000.npy\n",
      "size of events: 1575000\n",
      "Time to fill and iterate a vector of  ints : 0.047116 s\n",
      "Trident channel: numubar_to_numubar_mu+_mu-\n",
      "\n",
      "Integral: 6.34356e+13+-1.70069e+11, Chi2 prob: 0.368096\n",
      "correction: 0.15935\n",
      "Total number of events: 105000\n",
      "Number of NaNed events: 0\n",
      "Saving events to file: data/ND280_FHC/MC_events_numubar_to_numubar_mu+_mu-_coh_30_65_gv_0.000980_ga_0.000000_mz_0.100000.npy\n",
      "size of events: 1575000\n",
      "Time to fill and iterate a vector of  ints : 0.050002 s\n",
      "Trident channel: numubar_to_numubar_mu+_mu-\n",
      "\n",
      "Integral: 6.02627e+13+-1.61676e+11, Chi2 prob: 0.481296\n",
      "correction: 0.16947\n",
      "Total number of events: 105000\n",
      "Number of NaNed events: 0\n",
      "Saving events to file: data/ND280_FHC/MC_events_numubar_to_numubar_mu+_mu-_coh_29_63_gv_0.000980_ga_0.000000_mz_0.100000.npy\n",
      "size of events: 1575000\n",
      "Time to fill and iterate a vector of  ints : 0.045554 s\n",
      "Trident channel: numu_to_numu_mu+_mu-\n",
      "\n",
      "Integral: 5.4155e+11+-9.54104e+08, Chi2 prob: 0.875834\n",
      "correction: 0.154659\n",
      "Total number of events: 105000\n",
      "Number of NaNed events: 0\n",
      "Saving events to file: data/ND280_FHC/MC_events_numu_to_numu_mu+_mu-_proton_PB_gv_0.000980_ga_0.000000_mz_0.100000.npy\n",
      "size of events: 1575000\n",
      "Time to fill and iterate a vector of  ints : 0.049018 s\n",
      "Trident channel: numubar_to_numubar_mu+_mu-\n",
      "\n",
      "Integral: 6.70495e+11+-1.73659e+09, Chi2 prob: 0.630861\n",
      "correction: 0.163731\n",
      "Total number of events: 105000\n",
      "Number of NaNed events: 0\n",
      "Saving events to file: data/ND280_FHC/MC_events_numubar_to_numubar_mu+_mu-_proton_PB_gv_0.000980_ga_0.000000_mz_0.100000.npy\n",
      "size of events: 1575000\n",
      "Time to fill and iterate a vector of  ints : 0.048816 s\n",
      "Trident channel: numu_to_numu_mu+_mu-\n",
      "\n",
      "Integral: 8.14168e+10+-1.43491e+08, Chi2 prob: 0.750794\n",
      "correction: 0.158406\n",
      "Total number of events: 105000\n",
      "Number of NaNed events: 0\n",
      "Saving events to file: data/ND280_FHC/MC_events_numu_to_numu_mu+_mu-_neutron_PB_gv_0.000980_ga_0.000000_mz_0.100000.npy\n",
      "size of events: 1575000\n",
      "Time to fill and iterate a vector of  ints : 0.044259 s\n",
      "Trident channel: numubar_to_numubar_mu+_mu-\n",
      "\n",
      "Integral: 9.92927e+10+-2.54008e+08, Chi2 prob: 0.108195\n",
      "correction: 0.172883\n",
      "Total number of events: 105000\n",
      "Number of NaNed events: 0\n",
      "Saving events to file: data/ND280_FHC/MC_events_numubar_to_numubar_mu+_mu-_neutron_PB_gv_0.000980_ga_0.000000_mz_0.100000.npy\n",
      "size of events: 1575000\n",
      "Time to fill and iterate a vector of  ints : 0.047952 s\n",
      "Trident channel: numu_to_numu_mu+_mu-\n",
      "\n",
      "Integral: 7.84488e+11+-1.37469e+09, Chi2 prob: 0.61468\n",
      "correction: 0.151586\n",
      "Total number of events: 105000\n",
      "Number of NaNed events: 0\n",
      "Saving events to file: data/ND280_FHC/MC_events_numu_to_numu_mu+_mu-_proton_noPB_gv_0.000980_ga_0.000000_mz_0.100000.npy\n",
      "size of events: 1575000\n",
      "Time to fill and iterate a vector of  ints : 0.050418 s\n",
      "Trident channel: numubar_to_numubar_mu+_mu-\n",
      "\n",
      "Integral: 9.70497e+11+-2.47082e+09, Chi2 prob: 0.417139\n",
      "correction: 0.151918\n",
      "Total number of events: 105000\n",
      "Number of NaNed events: 0\n",
      "Saving events to file: data/ND280_FHC/MC_events_numubar_to_numubar_mu+_mu-_proton_noPB_gv_0.000980_ga_0.000000_mz_0.100000.npy\n",
      "size of events: 1575000\n",
      "Time to fill and iterate a vector of  ints : 0.045013 s\n",
      "\n",
      "\n",
      "coh_8_16\n",
      "proton_PB\n",
      "proton_noPB\n",
      "coh_30_65\n",
      "coh_8_16\n",
      "coh_29_63\n",
      "proton_noPB\n",
      "coh_6_12\n",
      "coh_82_207\n",
      "coh_82_207\n",
      "proton_PB\n",
      "coh_6_12\n",
      "coh_30_65\n",
      "neutron_PB\n",
      "neutron_PB\n",
      "coh_29_63\n",
      "Files read: 16\n"
     ]
    }
   ],
   "source": [
    "# minus\n",
    "ND280f=gen.generate_tridents(\"ND280_FHC\",9.8e-4,0.1,materials)\n",
    "# plus\n",
    "ND280r=gen.generate_tridents(\"ND280_FHC\",9.8e-4,0.1,materials)"
   ]
  },
  {
   "cell_type": "markdown",
   "id": "cordless-motivation",
   "metadata": {},
   "source": [
    "## Compute number of events with correct normalization"
   ]
  },
  {
   "cell_type": "code",
   "execution_count": 9,
   "id": "placed-partition",
   "metadata": {},
   "outputs": [
    {
     "name": "stdout",
     "output_type": "stream",
     "text": [
      "\n",
      " numode total number of events =  43.312507951100299414\n",
      "\n",
      " nubarmode total number of events =  38.455574013883596234\n"
     ]
    }
   ],
   "source": [
    "#################\n",
    "# convert event weights to # of events\n",
    "invcm2_to_invm2=1e4\n",
    "dE=0.05\n",
    "zb_to_cm2 = 1e-45\n",
    "nucleons_to_tons = const.NAvo*1e6\n",
    "\n",
    "# T2K FHC\n",
    "POT_plus = 1.97 #1e21\n",
    "norm_fhc = nucleons_to_tons*zb_to_cm2*POT_plus/dE\n",
    "\n",
    "# T2K RHC\n",
    "POT_minus = 1.63 #1e21\n",
    "norm_rhc = nucleons_to_tons*zb_to_cm2*POT_minus/dE\n",
    "\n",
    "print(\"\\n numode total number of events = \", np.sum(ND280f['weights'])*norm_fhc)\n",
    "print(\"\\n nubarmode total number of events = \", np.sum(ND280r['weights'])*norm_rhc)"
   ]
  },
  {
   "cell_type": "markdown",
   "id": "random-johnston",
   "metadata": {},
   "source": [
    "# Class of kinematics"
   ]
  },
  {
   "cell_type": "code",
   "execution_count": 10,
   "id": "handled-sending",
   "metadata": {},
   "outputs": [
    {
     "name": "stdout",
     "output_type": "stream",
     "text": [
      "Total samples imported:  1680000\n",
      "Total samples imported:  1680000\n"
     ]
    }
   ],
   "source": [
    "nu = kin.kin(ND280f,const.m_mu,const.m_mu)\n",
    "nubar = kin.kin(ND280r,const.m_mu,const.m_mu)"
   ]
  },
  {
   "cell_type": "code",
   "execution_count": 11,
   "id": "approximate-question",
   "metadata": {},
   "outputs": [
    {
     "data": {
      "text/plain": [
       "<matplotlib.legend.Legend at 0x126f0ff40>"
      ]
     },
     "execution_count": 11,
     "metadata": {},
     "output_type": "execute_result"
    },
    {
     "data": {
      "image/png": "[encoded data removed]",
      "text/plain": [
       "<Figure size 864x432 with 2 Axes>"
      ]
     },
     "metadata": {
      "needs_background": "light"
     },
     "output_type": "display_data"
    }
   ],
   "source": [
    "# plot the distribution in neutrino energy as a sanity check\n",
    "def plot_nuflux(ax, colour, MC, title):\n",
    "    # defs\n",
    "    kwargs = {\"facecolor\" : \"None\", \n",
    "              \"edgecolor\" : colour,\n",
    "              \"lw\"        : 2.0,\n",
    "              \"alpha\"     : 0.5,\n",
    "              \"weights\" : MC.w,\n",
    "              \"bins\" : 40,\n",
    "              \"density\" : True,\n",
    "              \"label\" : title} \n",
    "    \n",
    "    # hists\n",
    "    h = ax.hist(MC.Enu, range=(0.0,MC.Enu_max), **kwargs)\n",
    "    ax.set_xlabel(r\"$E_\\nu$ (GeV)\")\n",
    "\n",
    "fig,  axes = plt.subplots(nrows=1, ncols=2,figsize = (12,6))\n",
    "(ax1,ax2) = axes\n",
    "\n",
    "plot_nuflux(ax1,\"indigo\", nu, \n",
    "           r\"$\\nu_\\mu \\to \\nu_\\mu + \\mu^+ + \\mu^-$\")\n",
    "\n",
    "plot_nuflux(ax2,\"orange\", nubar, \n",
    "           r\"$\\overline{\\nu}_\\mu \\to \\overline{\\nu}_\\mu + \\mu^+ + \\mu^-$\")\n",
    "\n",
    "ax1.legend(loc=\"upper right\", frameon=False, fontsize=11)\n",
    "ax2.legend(loc=\"upper right\", frameon=False, fontsize=11)"
   ]
  },
  {
   "cell_type": "markdown",
   "id": "pregnant-courtesy",
   "metadata": {},
   "source": [
    "# Check a set of kinematical distributions\n"
   ]
  },
  {
   "cell_type": "code",
   "execution_count": 8,
   "id": "stopped-norway",
   "metadata": {},
   "outputs": [
    {
     "data": {
      "text/plain": [
       "1680000"
      ]
     },
     "execution_count": 8,
     "metadata": {},
     "output_type": "execute_result"
    }
   ],
   "source": [
    "np.size(nu.Z)"
   ]
  },
  {
   "cell_type": "code",
   "execution_count": 9,
   "id": "opponent-desire",
   "metadata": {},
   "outputs": [
    {
     "data": {
      "text/plain": [
       "array([15.69918919,  0.89444909, 14.97823197, ...,  5.06809579,\n",
       "        7.05766021,  9.36640239])"
      ]
     },
     "execution_count": 9,
     "metadata": {},
     "output_type": "execute_result"
    }
   ],
   "source": [
    "nu.Enu[nu.cp==1]"
   ]
  },
  {
   "cell_type": "code",
   "execution_count": null,
   "id": "bored-participation",
   "metadata": {},
   "outputs": [],
   "source": []
  },
  {
   "cell_type": "code",
   "execution_count": 1,
   "id": "overhead-cleveland",
   "metadata": {
    "scrolled": false
   },
   "outputs": [
    {
     "ename": "NameError",
     "evalue": "name 'plt' is not defined",
     "output_type": "error",
     "traceback": [
      "\u001b[0;31m---------------------------------------------------------------------------\u001b[0m",
      "\u001b[0;31mNameError\u001b[0m                                 Traceback (most recent call last)",
      "\u001b[0;32m<ipython-input-1-384de1dafca2>\u001b[0m in \u001b[0;36m<module>\u001b[0;34m\u001b[0m\n\u001b[1;32m      2\u001b[0m \u001b[0;34m\u001b[0m\u001b[0m\n\u001b[1;32m      3\u001b[0m \u001b[0;31m# figs\u001b[0m\u001b[0;34m\u001b[0m\u001b[0;34m\u001b[0m\u001b[0;34m\u001b[0m\u001b[0m\n\u001b[0;32m----> 4\u001b[0;31m \u001b[0mfig1\u001b[0m\u001b[0;34m,\u001b[0m  \u001b[0maxes1\u001b[0m \u001b[0;34m=\u001b[0m \u001b[0mplt\u001b[0m\u001b[0;34m.\u001b[0m\u001b[0msubplots\u001b[0m\u001b[0;34m(\u001b[0m\u001b[0mnrows\u001b[0m\u001b[0;34m=\u001b[0m\u001b[0;36m2\u001b[0m\u001b[0;34m,\u001b[0m \u001b[0mncols\u001b[0m\u001b[0;34m=\u001b[0m\u001b[0;36m3\u001b[0m\u001b[0;34m,\u001b[0m\u001b[0mfigsize\u001b[0m \u001b[0;34m=\u001b[0m \u001b[0;34m(\u001b[0m\u001b[0;36m16\u001b[0m\u001b[0;34m,\u001b[0m\u001b[0;36m5\u001b[0m\u001b[0;34m)\u001b[0m\u001b[0;34m)\u001b[0m\u001b[0;34m\u001b[0m\u001b[0;34m\u001b[0m\u001b[0m\n\u001b[0m\u001b[1;32m      5\u001b[0m \u001b[0mfig2\u001b[0m\u001b[0;34m,\u001b[0m  \u001b[0maxes2\u001b[0m \u001b[0;34m=\u001b[0m \u001b[0mplt\u001b[0m\u001b[0;34m.\u001b[0m\u001b[0msubplots\u001b[0m\u001b[0;34m(\u001b[0m\u001b[0mnrows\u001b[0m\u001b[0;34m=\u001b[0m\u001b[0;36m2\u001b[0m\u001b[0;34m,\u001b[0m \u001b[0mncols\u001b[0m\u001b[0;34m=\u001b[0m\u001b[0;36m3\u001b[0m\u001b[0;34m,\u001b[0m\u001b[0mfigsize\u001b[0m \u001b[0;34m=\u001b[0m \u001b[0;34m(\u001b[0m\u001b[0;36m16\u001b[0m\u001b[0;34m,\u001b[0m\u001b[0;36m5\u001b[0m\u001b[0;34m)\u001b[0m\u001b[0;34m)\u001b[0m\u001b[0;34m\u001b[0m\u001b[0;34m\u001b[0m\u001b[0m\n\u001b[1;32m      6\u001b[0m \u001b[0;34m\u001b[0m\u001b[0m\n",
      "\u001b[0;31mNameError\u001b[0m: name 'plt' is not defined"
     ]
    }
   ],
   "source": [
    "fsize = 14\n",
    "\n",
    "# figs\n",
    "fig1,  axes1 = plt.subplots(nrows=2, ncols=3,figsize = (16,5))\n",
    "fig2,  axes2 = plt.subplots(nrows=2, ncols=3,figsize = (16,5))\n",
    "\n",
    "def plot_dists(MC, colour, title, axes, mask):\n",
    "\n",
    "    ((ax1, ax2, ax3), (ax4, ax5, ax6)) = axes\n",
    "\n",
    "    # defs\n",
    "    kwargs = {\"facecolor\" : \"None\", \n",
    "              \"edgecolor\" : colour,\n",
    "              \"lw\"        : 2.0,\n",
    "              \"alpha\"     : 0.8,\n",
    "              \"weights\" : MC.w[mask],\n",
    "              \"bins\" : 20,\n",
    "              \"density\" : False,\n",
    "              \"label\"  : title} \n",
    "    \n",
    "    # hists\n",
    "    h = ax1.hist(MC.Eminus(mask), range=(0,MC.Enu_max*0.8), **kwargs)\n",
    "    ax1.set_xlabel(r\"$E_-$ (GeV)\")\n",
    "\n",
    "    h = ax2.hist(MC.minus_beam(mask)*const.rad_to_deg, range=(0,60), **kwargs)\n",
    "    ax2.set_xlabel(r\"$\\theta_-(^\\circ$)\")\n",
    "\n",
    "    h = ax3.hist(MC.sepangle(mask)*const.rad_to_deg, range=(0,90), **kwargs)\n",
    "    ax3.set_xlabel(r\"$\\theta_{\\ell^+ \\ell^-}$ ($^\\circ$)\")\n",
    "    \n",
    "    h = ax4.hist(MC.Eplus(mask), range=(0,MC.Enu_max*0.8), **kwargs)\n",
    "    ax4.set_xlabel(r\"$E_+$ (GeV)\")\n",
    "\n",
    "    h = ax5.hist(MC.plus_beam(mask)*const.rad_to_deg, range=(0,60), **kwargs)\n",
    "    ax5.set_xlabel(r\"$\\theta_+$ ($^\\circ$)\")\n",
    "\n",
    "    h = ax6.hist(MC.invmassSQR(mask), range=((MC.mm+MC.mp)**2,2.0), **kwargs)    \n",
    "    ax6.set_xlabel(r\"$m_{\\ell^+\\ell^-}$ (GeV$^2$)\")\n",
    "    \n",
    "    for ax in axes.flatten():\n",
    "        ax.set_yscale('log')\n",
    "        ax.set_ylim(ax.get_ylim()[0], ax.get_ylim()[1]*3)\n",
    "\n",
    "\n",
    "########################################\n",
    "# neutrino\n",
    "\n",
    "fig1.suptitle(\"Neutrino mode normalized histograms\", fontsize=22)\n",
    "plot_dists(nu,'green', \n",
    "           r\"$\\nu_\\mu \\to \\nu_\\mu + \\mu^+ + \\mu^-$ all\", axes1, mask=nu.all_events)\n",
    "plot_dists(nu,'orange', \n",
    "           r\"$\\nu_\\mu \\to \\nu_\\mu + \\mu^+ + \\mu^-$ coh\", axes1, mask=nu.only_coh)\n",
    "plot_dists(nu,'purple', \n",
    "           r\"$\\nu_\\mu \\to \\nu_\\mu + \\mu^+ + \\mu^-$ incoh\", axes1, mask=nu.only_incoh)\n",
    "\n",
    "axes1[0,0].legend(loc='upper right', frameon=False, fontsize=0.7*fsize)\n",
    "\n",
    "\n",
    "fig2.suptitle(\"Antineutrino mode normalized histograms\", fontsize=22)\n",
    "\n",
    "plot_dists(nubar,'green', \n",
    "           r\"$\\nu_\\mu \\to \\nu_\\mu + \\mu^+ + \\mu^- + $ all\", axes2, mask=nubar.all_events)\n",
    "plot_dists(nubar,'orange', \n",
    "           r\"$\\nu_\\mu \\to \\nu_\\mu + \\mu^+ + \\mu^- + $ coh\", axes2, mask=nubar.only_coh)\n",
    "plot_dists(nubar,'purple', \n",
    "           r\"$\\nu_\\mu \\to \\nu_\\mu + \\mu^+ + \\mu^- + $ incoh\", axes2, mask=nubar.only_incoh)\n",
    "\n",
    "axes2[0,0].legend(loc='upper right', frameon=False, fontsize=0.7*fsize)\n"
   ]
  },
  {
   "cell_type": "markdown",
   "id": "agricultural-allah",
   "metadata": {},
   "source": [
    "## Some trivial check of the numerics"
   ]
  },
  {
   "cell_type": "code",
   "execution_count": 19,
   "id": "tough-failure",
   "metadata": {},
   "outputs": [
    {
     "data": {
      "image/png": "[encoded data removed]",
      "text/plain": [
       "<Figure size 720x144 with 3 Axes>"
      ]
     },
     "metadata": {
      "needs_background": "light"
     },
     "output_type": "display_data"
    },
    {
     "data": {
      "image/png": "[encoded data removed]",
      "text/plain": [
       "<Figure size 720x144 with 3 Axes>"
      ]
     },
     "metadata": {
      "needs_background": "light"
     },
     "output_type": "display_data"
    }
   ],
   "source": [
    "# Test the different kinematical limits\n",
    "# charged lepton masses are recovered\n",
    "def check_masses(MC):\n",
    "    fig, (ax1, ax2, ax3) = plt.subplots(nrows=1, ncols=3,figsize = (10,2))\n",
    "    # charged lepton masses are recovered\n",
    "    mplus  = np.sqrt(Cfv.dot4(MC.Pplus, MC.Pplus))\n",
    "    mminus = np.sqrt(Cfv.dot4(MC.Pminus, MC.Pminus))\n",
    "    mnu = Cfv.dot4(MC.Pnu, MC.Pnu)\n",
    "    \n",
    "    a = mplus/MC.mp - 1.\n",
    "    b = mminus/MC.mm - 1.\n",
    "    c = mnu\n",
    "#     a = MC.mp\n",
    "#     b = MC.mm\n",
    "\n",
    "    ax1.set_xlim(np.min(a), np.max(a)), ax1.set_ylim(np.min(b), np.max(b))\n",
    "    ax2.set_xlim(np.min(a), np.max(a)), ax2.set_ylim(np.min(c), np.max(c))\n",
    "    ax3.set_xlim(np.min(b), np.max(b)), ax3.set_ylim(np.min(c), np.max(c))\n",
    "    ax1.set_xlabel('a'), ax1.set_ylabel('b')\n",
    "    ax2.set_xlabel('a'), ax2.set_ylabel('c')\n",
    "    ax3.set_xlabel('b'), ax3.set_ylabel('c')\n",
    "    \n",
    "    ax1.scatter(a,b, lw=0, s=6,c=\"r\")\n",
    "    ax2.scatter(a,c, lw=0, s=6,c=\"r\")\n",
    "    ax3.scatter(b,c, lw=0, s=6,c=\"r\")\n",
    "\n",
    "    \n",
    "check_masses(nu)\n",
    "check_masses(nubar)"
   ]
  },
  {
   "cell_type": "code",
   "execution_count": null,
   "id": "unlike-capability",
   "metadata": {},
   "outputs": [],
   "source": []
  }
 ],
 "metadata": {
  "kernelspec": {
   "display_name": "Python 3",
   "language": "python",
   "name": "python3"
  },
  "language_info": {
   "codemirror_mode": {
    "name": "ipython",
    "version": 3
   },
   "file_extension": ".py",
   "mimetype": "text/x-python",
   "name": "python",
   "nbconvert_exporter": "python",
   "pygments_lexer": "ipython3",
   "version": "3.9.9"
  }
 },
 "nbformat": 4,
 "nbformat_minor": 5
}
