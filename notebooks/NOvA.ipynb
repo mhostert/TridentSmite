{
 "cells": [
  {
   "cell_type": "markdown",
   "id": "contemporary-equipment",
   "metadata": {},
   "source": [
    "# Neutrino Trident Production\n",
    "\n",
    "This notebook loads and tests the MC events for neutrino trident production off nuclei and protons,\n",
    "\n",
    "$$\\nu_\\alpha \\,+\\, N \\,\\to\\, \\nu_\\beta \\,+\\, \\ell^+_{\\kappa} \\,+\\, \\ell^-_{\\gamma} \\,+\\, N.$$\n",
    "\n",
    "This notebook can be easily adapted to generate and analyse your own experiment definition in PATH=../exps/\n",
    "\n",
    "\n",
    "Note that only the four-momenta of the final state charged leptons and neutrino are provided, together with the neutrino energy $E_\\nu$ and the momentum transfer to the nuclear targer $Q^2$.\n",
    "\n",
    "This work is directly based on $\\textit{arXiv:1807.10973}$."
   ]
  },
  {
   "cell_type": "markdown",
   "id": "wanted-novel",
   "metadata": {},
   "source": [
    "## Init"
   ]
  },
  {
   "cell_type": "code",
   "execution_count": 1,
   "id": "centered-crown",
   "metadata": {},
   "outputs": [],
   "source": [
    "%load_ext autoreload\n",
    "%autoreload 2\n",
    "%matplotlib inline"
   ]
  },
  {
   "cell_type": "code",
   "execution_count": 2,
   "id": "continuous-electron",
   "metadata": {},
   "outputs": [],
   "source": [
    "import numpy as np\n",
    "from scipy import *\n",
    "import os\n",
    "import sys\n",
    "import matplotlib.pyplot as plt\n",
    "from matplotlib import rc, rcParams\n",
    "import matplotlib.lines as mlines\n",
    "from matplotlib.pyplot import *\n",
    "\n",
    "\n",
    "# Neutrino Trident Production\n",
    "\n",
    "from source import *"
   ]
  },
  {
   "cell_type": "markdown",
   "id": "ranking-oxide",
   "metadata": {},
   "source": [
    "## Define scattering targets and the total mass to be used\n",
    "relative mass composition given in https://arxiv.org/pdf/1902.00558.pdf"
   ]
  },
  {
   "cell_type": "code",
   "execution_count": 21,
   "id": "certified-liability",
   "metadata": {},
   "outputs": [
    {
     "name": "stdout",
     "output_type": "stream",
     "text": [
      "all materials: 192.614 t\n"
     ]
    }
   ],
   "source": [
    "# masses in t \n",
    "totmass=193\n",
    "massTi=3.2e-2*totmass\n",
    "massCl=16.1e-2*totmass\n",
    "massO=3.00e-2*totmass\n",
    "massC=66.7e-2*totmass\n",
    "massH=10.8e-2*totmass\n",
    "\n",
    "# mass, Z, A, PB or noPB for pelastic events\n",
    "materials = np.array([\\\n",
    "            [massC, 6, 12, False],\n",
    "            [massCl, 17, 35, False],\n",
    "            [massTi, 22, 48, False],\n",
    "            [massO, 8, 16, False],\n",
    "            [massH, 1, 1, False],\n",
    "            [8/16*massO + 6/12*massC + 22/48*massTi + 17/35*massCl, 1, 1, True],\n",
    "            [8/16*massO + 6/12*massC + (48-22)/48*massTi + (35-17)/35*massCl, 0, 1, True]]).T\n",
    "\n",
    "# check total detector mass\n",
    "nuclei_mask=np.array(1-materials[-1], dtype=bool)\n",
    "total_det_mass=np.sum(materials[0][nuclei_mask])\n",
    "\n",
    "print(f\"all materials: {total_det_mass:.3f} t\")"
   ]
  },
  {
   "cell_type": "markdown",
   "id": "circular-diabetes",
   "metadata": {},
   "source": [
    "## Generate trident events with exp scripts in exp\n",
    "\n",
    "this call ./exp.sh, reads all output npy files in data/exp/ folder, and combines all generation cases (targets, nu vs nubar, scattering regime) into a single dictionary."
   ]
  },
  {
   "cell_type": "code",
   "execution_count": 22,
   "id": "noble-karaoke",
   "metadata": {},
   "outputs": [
    {
     "name": "stdout",
     "output_type": "stream",
     "text": [
      "data/NOvA_FHC/\n",
      "Trident channel: numu_to_numu_mu+_mu-\n",
      "\n",
      "Integral: 17209.3+-34.3177, Chi2 prob: 0.0507855\n",
      "correction: 0.152126\n",
      "Total number of events: 105000\n",
      "Number of NaNed events: 0\n",
      "Saving events to file: data/NOvA_FHC/MC_events_numu_to_numu_mu+_mu-_coh_6_12_gv_0.000980_ga_0.000000_mz_0.100000.npy\n",
      "size of events: 1575000\n",
      "Time to fill and iterate a vector of  ints : 0.039186 s\n",
      "Trident channel: numubar_to_numubar_mu+_mu-\n",
      "\n",
      "Integral: 1778.06+-5.2254, Chi2 prob: 0.124505\n",
      "correction: 0.148511\n",
      "Total number of events: 105000\n",
      "Number of NaNed events: 0\n",
      "Saving events to file: data/NOvA_FHC/MC_events_numubar_to_numubar_mu+_mu-_coh_6_12_gv_0.000980_ga_0.000000_mz_0.100000.npy\n",
      "size of events: 1575000\n",
      "Time to fill and iterate a vector of  ints : 0.039227 s\n",
      "Trident channel: numu_to_numu_mu+_mu-\n",
      "\n",
      "Integral: 28275.3+-58.4758, Chi2 prob: 0.781372\n",
      "correction: 0.161019\n",
      "Total number of events: 105000\n",
      "Number of NaNed events: 0\n",
      "Saving events to file: data/NOvA_FHC/MC_events_numu_to_numu_mu+_mu-_coh_8_16_gv_0.000980_ga_0.000000_mz_0.100000.npy\n",
      "size of events: 1575000\n",
      "Time to fill and iterate a vector of  ints : 0.040013 s\n",
      "Trident channel: numubar_to_numubar_mu+_mu-\n",
      "\n",
      "Integral: 2924.31+-8.74034, Chi2 prob: 0.277909\n",
      "correction: 0.16825\n",
      "Total number of events: 105000\n",
      "Number of NaNed events: 0\n",
      "Saving events to file: data/NOvA_FHC/MC_events_numubar_to_numubar_mu+_mu-_coh_8_16_gv_0.000980_ga_0.000000_mz_0.100000.npy\n",
      "size of events: 1575000\n",
      "Time to fill and iterate a vector of  ints : 0.040711 s\n",
      "Trident channel: numu_to_numu_mu+_mu-\n",
      "\n",
      "Integral: 97206.6+-194.683, Chi2 prob: 0.153725\n",
      "correction: 0.133675\n",
      "Total number of events: 105000\n",
      "Number of NaNed events: 0\n",
      "Saving events to file: data/NOvA_FHC/MC_events_numu_to_numu_mu+_mu-_coh_17_35_gv_0.000980_ga_0.000000_mz_0.100000.npy\n",
      "size of events: 1575000\n",
      "Time to fill and iterate a vector of  ints : 0.040823 s\n",
      "Trident channel: numubar_to_numubar_mu+_mu-\n",
      "\n",
      "Integral: 10074.6+-28.7147, Chi2 prob: 0.641292\n",
      "correction: 0.161747\n",
      "Total number of events: 105000\n",
      "Number of NaNed events: 0\n",
      "Saving events to file: data/NOvA_FHC/MC_events_numubar_to_numubar_mu+_mu-_coh_17_35_gv_0.000980_ga_0.000000_mz_0.100000.npy\n",
      "size of events: 1575000\n",
      "Time to fill and iterate a vector of  ints : 0.039756 s\n",
      "Trident channel: numu_to_numu_mu+_mu-\n",
      "\n",
      "Integral: 142967+-294.093, Chi2 prob: 0.0306767\n",
      "correction: 0.1588\n",
      "Total number of events: 105000\n",
      "Number of NaNed events: 0\n",
      "Saving events to file: data/NOvA_FHC/MC_events_numu_to_numu_mu+_mu-_coh_22_48_gv_0.000980_ga_0.000000_mz_0.100000.npy\n",
      "size of events: 1575000\n",
      "Time to fill and iterate a vector of  ints : 0.043073 s\n",
      "Trident channel: numubar_to_numubar_mu+_mu-\n",
      "\n",
      "Integral: 14918.2+-42.5963, Chi2 prob: 0.633486\n",
      "correction: 0.147959\n",
      "Total number of events: 105000\n",
      "Number of NaNed events: 0\n",
      "Saving events to file: data/NOvA_FHC/MC_events_numubar_to_numubar_mu+_mu-_coh_22_48_gv_0.000980_ga_0.000000_mz_0.100000.npy\n",
      "size of events: 1575000\n",
      "Time to fill and iterate a vector of  ints : 0.037804 s\n",
      "Trident channel: numu_to_numu_mu+_mu-\n",
      "\n",
      "Integral: 1871.8+-3.6983, Chi2 prob: 0.923664\n",
      "correction: 0.15234\n",
      "Total number of events: 105000\n",
      "Number of NaNed events: 0\n",
      "Saving events to file: data/NOvA_FHC/MC_events_numu_to_numu_mu+_mu-_proton_PB_gv_0.000980_ga_0.000000_mz_0.100000.npy\n",
      "size of events: 1575000\n",
      "Time to fill and iterate a vector of  ints : 0.040671 s\n",
      "Trident channel: numubar_to_numubar_mu+_mu-\n",
      "\n",
      "Integral: 191.883+-0.546527, Chi2 prob: 0.978707\n",
      "correction: 0.162932\n",
      "Total number of events: 105000\n",
      "Number of NaNed events: 0\n",
      "Saving events to file: data/NOvA_FHC/MC_events_numubar_to_numubar_mu+_mu-_proton_PB_gv_0.000980_ga_0.000000_mz_0.100000.npy\n",
      "size of events: 1575000\n",
      "Time to fill and iterate a vector of  ints : 0.039453 s\n",
      "Trident channel: numu_to_numu_mu+_mu-\n",
      "\n",
      "Integral: 285.862+-0.560591, Chi2 prob: 0.49527\n",
      "correction: 0.159975\n",
      "Total number of events: 105000\n",
      "Number of NaNed events: 0\n",
      "Saving events to file: data/NOvA_FHC/MC_events_numu_to_numu_mu+_mu-_neutron_PB_gv_0.000980_ga_0.000000_mz_0.100000.npy\n",
      "size of events: 1575000\n",
      "Time to fill and iterate a vector of  ints : 0.038017 s\n",
      "Trident channel: numubar_to_numubar_mu+_mu-\n",
      "\n",
      "Integral: 29.1286+-0.0816547, Chi2 prob: 0.805766\n",
      "correction: 0.147426\n",
      "Total number of events: 105000\n",
      "Number of NaNed events: 0\n",
      "Saving events to file: data/NOvA_FHC/MC_events_numubar_to_numubar_mu+_mu-_neutron_PB_gv_0.000980_ga_0.000000_mz_0.100000.npy\n",
      "size of events: 1575000\n",
      "Time to fill and iterate a vector of  ints : 0.03874 s\n",
      "Trident channel: numu_to_numu_mu+_mu-\n",
      "\n",
      "Integral: 2724.31+-5.3055, Chi2 prob: 0.481898\n",
      "correction: 0.1436\n",
      "Total number of events: 105000\n",
      "Number of NaNed events: 0\n",
      "Saving events to file: data/NOvA_FHC/MC_events_numu_to_numu_mu+_mu-_proton_noPB_gv_0.000980_ga_0.000000_mz_0.100000.npy\n",
      "size of events: 1575000\n",
      "Time to fill and iterate a vector of  ints : 0.035161 s\n",
      "Trident channel: numubar_to_numubar_mu+_mu-\n",
      "\n",
      "Integral: 278.641+-0.789649, Chi2 prob: 0.00121835\n",
      "correction: 0.154809\n",
      "Total number of events: 105000\n",
      "Number of NaNed events: 0\n",
      "Saving events to file: data/NOvA_FHC/MC_events_numubar_to_numubar_mu+_mu-_proton_noPB_gv_0.000980_ga_0.000000_mz_0.100000.npy\n",
      "size of events: 1575000\n",
      "Time to fill and iterate a vector of  ints : 0.036665 s\n",
      "\n",
      "\n",
      "coh_17_35\n",
      "coh_8_16\n",
      "proton_PB\n",
      "proton_noPB\n",
      "coh_22_48\n",
      "coh_8_16\n",
      "proton_noPB\n",
      "coh_6_12\n",
      "coh_17_35\n",
      "coh_22_48\n",
      "proton_PB\n",
      "coh_6_12\n",
      "neutron_PB\n",
      "neutron_PB\n",
      "Files read: 14\n",
      "data/NOvA_RHC/\n",
      "Trident channel: numu_to_numu_mu+_mu-\n",
      "\n",
      "Integral: 3265.47+-33.9799, Chi2 prob: 0.0943048\n",
      "correction: 0.62635\n",
      "Total number of events: 10000\n",
      "Number of NaNed events: 0\n",
      "Saving events to file: data/NOvA_RHC/MC_events_numu_to_numu_mu+_mu-_coh_6_12_gv_0.000980_ga_0.000000_mz_0.100000.npy\n",
      "size of events: 150000\n",
      "Time to fill and iterate a vector of  ints : 0.004092 s\n",
      "Trident channel: numubar_to_numubar_mu+_mu-\n",
      "\n",
      "Integral: 9548.86+-219.757, Chi2 prob: 0.771577\n",
      "correction: 0.505238\n",
      "Total number of events: 10000\n",
      "Number of NaNed events: 0\n",
      "Saving events to file: data/NOvA_RHC/MC_events_numubar_to_numubar_mu+_mu-_coh_6_12_gv_0.000980_ga_0.000000_mz_0.100000.npy\n",
      "size of events: 150000\n",
      "Time to fill and iterate a vector of  ints : 0.003923 s\n",
      "Trident channel: numu_to_numu_mu+_mu-\n",
      "\n",
      "Integral: 5403.53+-57.64, Chi2 prob: 0.272785\n",
      "correction: 0.634004\n",
      "Total number of events: 10000\n",
      "Number of NaNed events: 0\n",
      "Saving events to file: data/NOvA_RHC/MC_events_numu_to_numu_mu+_mu-_coh_8_16_gv_0.000980_ga_0.000000_mz_0.100000.npy\n",
      "size of events: 150000\n",
      "Time to fill and iterate a vector of  ints : 0.004175 s\n",
      "Trident channel: numubar_to_numubar_mu+_mu-\n",
      "\n",
      "Integral: 15783.1+-350.581, Chi2 prob: 0.802474\n",
      "correction: 0.529229\n",
      "Total number of events: 10000\n",
      "Number of NaNed events: 0\n",
      "Saving events to file: data/NOvA_RHC/MC_events_numubar_to_numubar_mu+_mu-_coh_8_16_gv_0.000980_ga_0.000000_mz_0.100000.npy\n",
      "size of events: 150000\n",
      "Time to fill and iterate a vector of  ints : 0.003945 s\n",
      "Trident channel: numu_to_numu_mu+_mu-\n",
      "\n",
      "Integral: 18581.3+-189.337, Chi2 prob: 0.180377\n",
      "correction: 0.644857\n",
      "Total number of events: 10000\n",
      "Number of NaNed events: 0\n",
      "Saving events to file: data/NOvA_RHC/MC_events_numu_to_numu_mu+_mu-_coh_17_35_gv_0.000980_ga_0.000000_mz_0.100000.npy\n",
      "size of events: 150000\n",
      "Time to fill and iterate a vector of  ints : 0.00416 s\n",
      "Trident channel: numubar_to_numubar_mu+_mu-\n",
      "\n",
      "Integral: 52327.6+-1077.13, Chi2 prob: 0.527502\n",
      "correction: 0.653102\n",
      "Total number of events: 10000\n",
      "Number of NaNed events: 0\n",
      "Saving events to file: data/NOvA_RHC/MC_events_numubar_to_numubar_mu+_mu-_coh_17_35_gv_0.000980_ga_0.000000_mz_0.100000.npy\n",
      "size of events: 150000\n",
      "Time to fill and iterate a vector of  ints : 0.004208 s\n",
      "Trident channel: numu_to_numu_mu+_mu-\n",
      "\n",
      "Integral: 27641.7+-288.585, Chi2 prob: 0.0491237\n",
      "correction: 0.670652\n",
      "Total number of events: 10000\n",
      "Number of NaNed events: 0\n",
      "Saving events to file: data/NOvA_RHC/MC_events_numu_to_numu_mu+_mu-_coh_22_48_gv_0.000980_ga_0.000000_mz_0.100000.npy\n",
      "size of events: 150000\n",
      "Time to fill and iterate a vector of  ints : 0.005728 s\n",
      "Trident channel: numubar_to_numubar_mu+_mu-\n",
      "\n",
      "Integral: 78214.3+-2241.18, Chi2 prob: 0.337414\n",
      "correction: 0.67416\n",
      "Total number of events: 10000\n",
      "Number of NaNed events: 0\n",
      "Saving events to file: data/NOvA_RHC/MC_events_numubar_to_numubar_mu+_mu-_coh_22_48_gv_0.000980_ga_0.000000_mz_0.100000.npy\n",
      "size of events: 150000\n",
      "Time to fill and iterate a vector of  ints : 0.00397 s\n",
      "Trident channel: numu_to_numu_mu+_mu-\n",
      "\n",
      "Integral: 340.914+-3.79154, Chi2 prob: 0.354052\n",
      "correction: 0.684436\n",
      "Total number of events: 10000\n",
      "Number of NaNed events: 0\n",
      "Saving events to file: data/NOvA_RHC/MC_events_numu_to_numu_mu+_mu-_proton_PB_gv_0.000980_ga_0.000000_mz_0.100000.npy\n",
      "size of events: 150000\n",
      "Time to fill and iterate a vector of  ints : 0.004455 s\n",
      "Trident channel: numubar_to_numubar_mu+_mu-\n",
      "\n",
      "Integral: 1083.51+-19.1945, Chi2 prob: 0.920128\n",
      "correction: 0.631474\n",
      "Total number of events: 10000\n",
      "Number of NaNed events: 0\n",
      "Saving events to file: data/NOvA_RHC/MC_events_numubar_to_numubar_mu+_mu-_proton_PB_gv_0.000980_ga_0.000000_mz_0.100000.npy\n",
      "size of events: 150000\n",
      "Time to fill and iterate a vector of  ints : 0.004255 s\n",
      "Trident channel: numu_to_numu_mu+_mu-\n",
      "\n",
      "Integral: 52.5125+-0.655938, Chi2 prob: 0.349675\n",
      "correction: 0.669761\n",
      "Total number of events: 10000\n",
      "Number of NaNed events: 0\n",
      "Saving events to file: data/NOvA_RHC/MC_events_numu_to_numu_mu+_mu-_neutron_PB_gv_0.000980_ga_0.000000_mz_0.100000.npy\n",
      "size of events: 150000\n",
      "Time to fill and iterate a vector of  ints : 0.004421 s\n",
      "Trident channel: numubar_to_numubar_mu+_mu-\n",
      "\n",
      "Integral: 157.468+-3.91341, Chi2 prob: 0.63541\n",
      "correction: 0.718292\n",
      "Total number of events: 10000\n",
      "Number of NaNed events: 0\n",
      "Saving events to file: data/NOvA_RHC/MC_events_numubar_to_numubar_mu+_mu-_neutron_PB_gv_0.000980_ga_0.000000_mz_0.100000.npy\n",
      "size of events: 150000\n",
      "Time to fill and iterate a vector of  ints : 0.004253 s\n",
      "Trident channel: numu_to_numu_mu+_mu-\n",
      "\n",
      "Integral: 492.785+-5.01299, Chi2 prob: 0.367705\n",
      "correction: 0.66217\n",
      "Total number of events: 10000\n",
      "Number of NaNed events: 0\n",
      "Saving events to file: data/NOvA_RHC/MC_events_numu_to_numu_mu+_mu-_proton_noPB_gv_0.000980_ga_0.000000_mz_0.100000.npy\n",
      "size of events: 150000\n",
      "Time to fill and iterate a vector of  ints : 0.004035 s\n",
      "Trident channel: numubar_to_numubar_mu+_mu-\n",
      "\n",
      "Integral: 1579.45+-34.2751, Chi2 prob: 0.607996\n",
      "correction: 0.601433\n",
      "Total number of events: 10000\n",
      "Number of NaNed events: 0\n",
      "Saving events to file: data/NOvA_RHC/MC_events_numubar_to_numubar_mu+_mu-_proton_noPB_gv_0.000980_ga_0.000000_mz_0.100000.npy\n",
      "size of events: 150000\n",
      "Time to fill and iterate a vector of  ints : 0.004215 s\n",
      "\n",
      "\n",
      "coh_17_35\n",
      "coh_8_16\n",
      "proton_PB\n",
      "proton_noPB\n",
      "coh_22_48\n",
      "coh_8_16\n",
      "proton_noPB\n",
      "coh_6_12\n",
      "coh_17_35\n",
      "coh_22_48\n",
      "proton_PB\n",
      "coh_6_12\n",
      "neutron_PB\n",
      "neutron_PB\n",
      "Files read: 14\n"
     ]
    }
   ],
   "source": [
    "# minus\n",
    "NOVAf=gen.generate_tridents(\"NOvA_FHC\",9.8e-4,0.1,materials)\n",
    "# plus\n",
    "NOVAr=gen.generate_tridents(\"NOvA_RHC\",9.8e-4,0.1,materials)"
   ]
  },
  {
   "cell_type": "markdown",
   "id": "cordless-motivation",
   "metadata": {},
   "source": [
    "## Compute number of events with correct normalization"
   ]
  },
  {
   "cell_type": "code",
   "execution_count": 24,
   "id": "placed-partition",
   "metadata": {},
   "outputs": [
    {
     "name": "stdout",
     "output_type": "stream",
     "text": [
      "\n",
      " numode total number of events =  776.0707196876800761\n",
      "\n",
      " nubarmode total number of events =  606.41537894362702416\n"
     ]
    }
   ],
   "source": [
    "#################\n",
    "# convert event weights to # of events\n",
    "invm2_to_incm2=1e-4\n",
    "dE=1.0\n",
    "zb_to_cm2 = 1e-45\n",
    "nucleons_to_tons = const.NAvo*1e6\n",
    "\n",
    "# NuMI FHC\n",
    "POT_plus = 1.36e15 #1e6\n",
    "norm_plus = nucleons_to_tons*zb_to_cm2*POT_plus*invm2_to_incm2/dE\n",
    "\n",
    "# NuMI RHC\n",
    "POT_minus = 1.25e15 #1e6\n",
    "norm_minus = nucleons_to_tons*zb_to_cm2*POT_minus*invm2_to_incm2/dE\n",
    "\n",
    "print(\"\\n numode total number of events = \", np.sum(NOVAf['weights'])*norm_plus)\n",
    "print(\"\\n nubarmode total number of events = \", np.sum(NOVAr['weights'])*norm_minus)"
   ]
  },
  {
   "cell_type": "markdown",
   "id": "random-johnston",
   "metadata": {},
   "source": [
    "# Class of kinematics"
   ]
  },
  {
   "cell_type": "code",
   "execution_count": 25,
   "id": "handled-sending",
   "metadata": {},
   "outputs": [
    {
     "name": "stdout",
     "output_type": "stream",
     "text": [
      "Total samples imported:  1470000\n",
      "Total samples imported:  140000\n"
     ]
    }
   ],
   "source": [
    "nu = kin.kin(NOVAf,const.m_mu,const.m_mu)\n",
    "nubar = kin.kin(NOVAr,const.m_mu,const.m_mu)"
   ]
  },
  {
   "cell_type": "markdown",
   "id": "fluid-platinum",
   "metadata": {},
   "source": [
    "## Events as a function of neutrino energy \n",
    "\n",
    "Comapre with ND280 -- NuMI much wider band than J-PARC, so we get more events at high energy"
   ]
  },
  {
   "cell_type": "code",
   "execution_count": 40,
   "id": "approximate-question",
   "metadata": {},
   "outputs": [
    {
     "data": {
      "text/plain": [
       "<matplotlib.legend.Legend at 0x12e66c8b0>"
      ]
     },
     "execution_count": 40,
     "metadata": {},
     "output_type": "execute_result"
    },
    {
     "data": {
      "image/png": "[encoded data removed]",
      "text/plain": [
       "<Figure size 864x432 with 2 Axes>"
      ]
     },
     "metadata": {
      "needs_background": "light"
     },
     "output_type": "display_data"
    }
   ],
   "source": [
    "# plot the distribution in neutrino energy as a sanity check\n",
    "def plot_nuflux(ax, colour, MC, title):\n",
    "    # defs\n",
    "    kwargs = {\"facecolor\" : \"None\", \n",
    "              \"edgecolor\" : colour,\n",
    "              \"lw\"        : 2.0,\n",
    "              \"alpha\"     : 0.5,\n",
    "              \"weights\" : MC.w,\n",
    "              \"bins\" : 40,\n",
    "              \"density\" : True,\n",
    "              \"label\" : title} \n",
    "    \n",
    "    # hists\n",
    "    h = ax.hist(MC.Enu, range=(0.0,MC.Enu_max), **kwargs)\n",
    "    ax.set_xlabel(r\"$E_\\nu$ (GeV)\")\n",
    "\n",
    "fig,  axes = plt.subplots(nrows=1, ncols=2,figsize = (12,6))\n",
    "(ax1,ax2) = axes\n",
    "\n",
    "plot_nuflux(ax1,\"indigo\", nu, \n",
    "           r\"$\\nu_\\mu \\to \\nu_\\mu + \\mu^+ + \\mu^-$\")\n",
    "\n",
    "plot_nuflux(ax2,\"orange\", nubar, \n",
    "           r\"$\\overline{\\nu}_\\mu \\to \\overline{\\nu}_\\mu + \\mu^+ + \\mu^-$\")\n",
    "\n",
    "ax1.legend(loc=\"upper right\", frameon=False, fontsize=11)\n",
    "ax2.legend(loc=\"upper right\", frameon=False, fontsize=11)"
   ]
  },
  {
   "cell_type": "markdown",
   "id": "pregnant-courtesy",
   "metadata": {},
   "source": [
    "# Check a set of kinematical distributions\n"
   ]
  },
  {
   "cell_type": "code",
   "execution_count": 36,
   "id": "overhead-cleveland",
   "metadata": {
    "scrolled": false
   },
   "outputs": [
    {
     "data": {
      "text/plain": [
       "<matplotlib.legend.Legend at 0x12e09f070>"
      ]
     },
     "execution_count": 36,
     "metadata": {},
     "output_type": "execute_result"
    },
    {
     "data": {
      "image/png": "[encoded data removed]",
      "text/plain": [
       "<Figure size 1152x576 with 6 Axes>"
      ]
     },
     "metadata": {
      "needs_background": "light"
     },
     "output_type": "display_data"
    },
    {
     "data": {
      "image/png": "[encoded data removed]",
      "text/plain": [
       "<Figure size 1152x576 with 6 Axes>"
      ]
     },
     "metadata": {
      "needs_background": "light"
     },
     "output_type": "display_data"
    }
   ],
   "source": [
    "fsize = 14\n",
    "\n",
    "# figs\n",
    "fig1,  axes1 = plt.subplots(nrows=2, ncols=3,figsize = (16,8))\n",
    "fig2,  axes2 = plt.subplots(nrows=2, ncols=3,figsize = (16,8))\n",
    "\n",
    "def plot_dists(MC, colour, title, axes, mask):\n",
    "\n",
    "    ((ax1, ax2, ax3), (ax4, ax5, ax6)) = axes\n",
    "\n",
    "    # defs\n",
    "    kwargs = {\"facecolor\" : \"None\", \n",
    "              \"edgecolor\" : colour,\n",
    "              \"lw\"        : 2.0,\n",
    "              \"alpha\"     : 0.8,\n",
    "              \"weights\" : MC.w[mask],\n",
    "              \"bins\" : 20,\n",
    "              \"density\" : False,\n",
    "              \"label\"  : title} \n",
    "    \n",
    "    # hists\n",
    "    h = ax1.hist(MC.Eminus(mask), range=(0,MC.Enu_max*0.8), **kwargs)\n",
    "    ax1.set_xlabel(r\"$E_-$ (GeV)\")\n",
    "\n",
    "    h = ax2.hist(MC.minus_beam(mask)*const.rad_to_deg, range=(0,60), **kwargs)\n",
    "    ax2.set_xlabel(r\"$\\theta_-(^\\circ$)\")\n",
    "\n",
    "    h = ax3.hist(MC.sepangle(mask)*const.rad_to_deg, range=(0,90), **kwargs)\n",
    "    ax3.set_xlabel(r\"$\\theta_{\\ell^+ \\ell^-}$ ($^\\circ$)\")\n",
    "    \n",
    "    h = ax4.hist(MC.Eplus(mask), range=(0,MC.Enu_max*0.8), **kwargs)\n",
    "    ax4.set_xlabel(r\"$E_+$ (GeV)\")\n",
    "\n",
    "    h = ax5.hist(MC.plus_beam(mask)*const.rad_to_deg, range=(0,60), **kwargs)\n",
    "    ax5.set_xlabel(r\"$\\theta_+$ ($^\\circ$)\")\n",
    "\n",
    "    h = ax6.hist(MC.invmassSQR(mask), range=((MC.mm+MC.mp)**2,2.0), **kwargs)    \n",
    "    ax6.set_xlabel(r\"$m_{\\ell^+\\ell^-}$ (GeV$^2$)\")\n",
    "    \n",
    "#     for ax in axes.flatten():\n",
    "#         ax.set_yscale('log')\n",
    "#         ax.set_ylim(ax.get_ylim()[0], ax.get_ylim()[1]*3)\n",
    "\n",
    "\n",
    "########################################\n",
    "# neutrino\n",
    "\n",
    "fig1.suptitle(\"Neutrino mode normalized histograms\", fontsize=22)\n",
    "plot_dists(nu,'green', \n",
    "           r\"$\\nu_\\mu \\to \\nu_\\mu + \\mu^+ + \\mu^-$ all\", axes1, mask=nu.all_events)\n",
    "plot_dists(nu,'orange', \n",
    "           r\"$\\nu_\\mu \\to \\nu_\\mu + \\mu^+ + \\mu^-$ coh\", axes1, mask=nu.only_coh)\n",
    "plot_dists(nu,'purple', \n",
    "           r\"$\\nu_\\mu \\to \\nu_\\mu + \\mu^+ + \\mu^-$ incoh\", axes1, mask=nu.only_incoh)\n",
    "\n",
    "axes1[0,0].legend(loc='upper right', frameon=False, fontsize=0.7*fsize)\n",
    "\n",
    "\n",
    "fig2.suptitle(\"Antineutrino mode normalized histograms\", fontsize=22)\n",
    "\n",
    "plot_dists(nubar,'green', \n",
    "           r\"$\\nu_\\mu \\to \\nu_\\mu + \\mu^+ + \\mu^- + $ all\", axes2, mask=nubar.all_events)\n",
    "plot_dists(nubar,'orange', \n",
    "           r\"$\\nu_\\mu \\to \\nu_\\mu + \\mu^+ + \\mu^- + $ coh\", axes2, mask=nubar.only_coh)\n",
    "plot_dists(nubar,'purple', \n",
    "           r\"$\\nu_\\mu \\to \\nu_\\mu + \\mu^+ + \\mu^- + $ incoh\", axes2, mask=nubar.only_incoh)\n",
    "\n",
    "axes2[0,0].legend(loc='upper right', frameon=False, fontsize=0.7*fsize)\n",
    "\n"
   ]
  },
  {
   "cell_type": "markdown",
   "id": "agricultural-allah",
   "metadata": {},
   "source": [
    "## Some trivial check of the numerics"
   ]
  },
  {
   "cell_type": "code",
   "execution_count": 37,
   "id": "tough-failure",
   "metadata": {},
   "outputs": [
    {
     "data": {
      "image/png": "[encoded data removed]",
      "text/plain": [
       "<Figure size 720x144 with 3 Axes>"
      ]
     },
     "metadata": {
      "needs_background": "light"
     },
     "output_type": "display_data"
    },
    {
     "data": {
      "image/png": "[encoded data removed]",
      "text/plain": [
       "<Figure size 720x144 with 3 Axes>"
      ]
     },
     "metadata": {
      "needs_background": "light"
     },
     "output_type": "display_data"
    }
   ],
   "source": [
    "# Test the different kinematical limits\n",
    "# charged lepton masses are recovered\n",
    "def check_masses(MC):\n",
    "    fig, (ax1, ax2, ax3) = plt.subplots(nrows=1, ncols=3,figsize = (10,2))\n",
    "    # charged lepton masses are recovered\n",
    "    mplus  = np.sqrt(Cfv.dot4(MC.Pplus, MC.Pplus))\n",
    "    mminus = np.sqrt(Cfv.dot4(MC.Pminus, MC.Pminus))\n",
    "    mnu = Cfv.dot4(MC.Pnu, MC.Pnu)\n",
    "    \n",
    "    a = mplus/MC.mp - 1.\n",
    "    b = mminus/MC.mm - 1.\n",
    "    c = mnu\n",
    "#     a = MC.mp\n",
    "#     b = MC.mm\n",
    "\n",
    "    ax1.set_xlim(np.min(a), np.max(a)), ax1.set_ylim(np.min(b), np.max(b))\n",
    "    ax2.set_xlim(np.min(a), np.max(a)), ax2.set_ylim(np.min(c), np.max(c))\n",
    "    ax3.set_xlim(np.min(b), np.max(b)), ax3.set_ylim(np.min(c), np.max(c))\n",
    "    ax1.set_xlabel('a'), ax1.set_ylabel('b')\n",
    "    ax2.set_xlabel('a'), ax2.set_ylabel('c')\n",
    "    ax3.set_xlabel('b'), ax3.set_ylabel('c')\n",
    "    \n",
    "    ax1.scatter(a,b, lw=0, s=6,c=\"r\")\n",
    "    ax2.scatter(a,c, lw=0, s=6,c=\"r\")\n",
    "    ax3.scatter(b,c, lw=0, s=6,c=\"r\")\n",
    "\n",
    "    \n",
    "check_masses(nu)\n",
    "check_masses(nubar)"
   ]
  },
  {
   "cell_type": "code",
   "execution_count": null,
   "id": "unlike-capability",
   "metadata": {},
   "outputs": [],
   "source": []
  },
  {
   "cell_type": "code",
   "execution_count": null,
   "id": "fabulous-contents",
   "metadata": {},
   "outputs": [],
   "source": []
  }
 ],
 "metadata": {
  "kernelspec": {
   "display_name": "Python 3",
   "language": "python",
   "name": "python3"
  },
  "language_info": {
   "codemirror_mode": {
    "name": "ipython",
    "version": 3
   },
   "file_extension": ".py",
   "mimetype": "text/x-python",
   "name": "python",
   "nbconvert_exporter": "python",
   "pygments_lexer": "ipython3",
   "version": "3.9.9"
  }
 },
 "nbformat": 4,
 "nbformat_minor": 5
}
