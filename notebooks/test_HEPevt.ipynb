{
 "cells": [
  {
   "cell_type": "markdown",
   "metadata": {},
   "source": [
    "# Neutrino Trident Production\n",
    "\n",
    "This notebook loads and tests the MC events for neutrino trident production off nuclei and protons,\n",
    "\n",
    "$$\\nu_\\alpha \\,+\\, N \\,\\to\\, \\nu_\\beta \\,+\\, \\ell^+_{\\kappa} \\,+\\, \\ell^-_{\\gamma} \\,+\\, N.$$\n",
    "\n",
    "\n",
    "This work is directly based on $\\textit{arXiv:1807.10973}$."
   ]
  },
  {
   "cell_type": "markdown",
   "metadata": {},
   "source": [
    "## Init"
   ]
  },
  {
   "cell_type": "code",
   "execution_count": 44,
   "metadata": {},
   "outputs": [],
   "source": [
    "%matplotlib inline\n",
    "\n",
    "# standard\n",
    "import matplotlib.pyplot as plt\n",
    "from matplotlib import rc, rcParams\n",
    "import matplotlib.lines as mlines\n",
    "from matplotlib.pyplot import *\n",
    "import sys\n",
    "import scipy.ndimage as ndimage\n",
    "import os\n",
    "from scipy.interpolate import interp1d\n",
    "\n",
    "# custom modules\n",
    "import fourvec as vec\n",
    "import const\n",
    "\n",
    "# Class with all the relevant quantities of a given trident channel/mode\n",
    "class MC:\n",
    "    ##############################################    \n",
    "    # Import datafile and set lepton masses\n",
    "    def __init__(self, samplesfile, mplus, mminus, Enu_range):\n",
    "        # array with all data \n",
    "        # Enu Q^2 P+(0) P+(1) P+(2) P+(3) P-(0) P-(1) P-(2) P-(3) weight\n",
    "        self.a  = np.array(np.genfromtxt(samplesfile, dtype=np.float64))\n",
    "                \n",
    "        # Only events within energy range\n",
    "        self.Enu_min = Enu_range[0]\n",
    "        self.Enu_max = Enu_range[1]\n",
    "        self.mask= [(self.a[:,0]>self.Enu_min)&(self.a[:,0]<self.Enu_max)]\n",
    "        self.a = self.a[self.mask]\n",
    "        \n",
    "        # charge lepton masses \n",
    "        self.mp = mplus\n",
    "        self.mm = mminus\n",
    "\n",
    "        # relevant quantities\n",
    "        self.Enu = self.a[:,0] \n",
    "        self.Q2  = self.a[:,1] \n",
    "        self.w   = self.a[:,-1]\n",
    "        self.Pplus = self.a[:,2:6].T \n",
    "        self.Pminus = self.a[:,6:10].T\n",
    "        \n",
    "        print \"Samples imported: \", np.size(self.w)\n",
    "\n",
    "\n",
    "    ##############################################\n",
    "    # Function to reweight the neutrino flux\n",
    "    # the new flux file has to have the GLoBES format of 7 columns:\n",
    "    #\n",
    "    # Enu(GeV) nue numu nutau nue_bar numu_bar nutau_bar\n",
    "    #\n",
    "    # The uniform flux is used in the MC is set to 1, so user can choose the units of the new weights\n",
    "    def Reweight(self, new_flux_file, flavour):\n",
    "        M = np.loadtxt(new_flux_file, dtype=np.float64)\n",
    "        en = M[:,0]\n",
    "        f  = M[:,flavour]\n",
    "        # interpolate numu flux and fill out of range values w/ 0\n",
    "        flux = interp1d(en, f, fill_value=0, bounds_error=False)\n",
    "        \n",
    "        self.new_w = self.w * flux(self.Enu)\n",
    "\n",
    "    ##############################################    \n",
    "    # flux convolved cross section calculated from the samples in 1e-48cm^2*arbitrary_flux_units (using uniform flux)\n",
    "    def total_fxs(self):\n",
    "        return np.sum(self.w)\n",
    "    \n",
    "    # flux convolved cross section calculated from the samples in 1e-48cm^2*arbitrary_flux_units (using new flux)\n",
    "    def total_fxs_new_flux(self):\n",
    "        return np.sum(self.new_w)\n",
    "    ##############################################    \n",
    "    \n",
    "    \n",
    "    ##############################################    \n",
    "    # invariant mass of the two charged leptons \n",
    "    def invmassSQR(self):\n",
    "        return vec.dot4(self.Pplus+self.Pminus, self.Pplus+self.Pminus)\n",
    "\n",
    "    # separation angle of the two charged leptons in rads \n",
    "    def sepangle(self):\n",
    "        return np.arccos(vec.dot3(self.Pplus, self.Pminus)/np.sqrt(vec.dot3(self.Pplus, self.Pplus)*vec.dot3(self.Pminus, self.Pminus)))\n",
    "\n",
    "    # angle of wrt to the beam of negatively charged lepton in rads \n",
    "    def minus_beam(self):\n",
    "        return np.arccos(self.Pminus[3,:]/np.sqrt(vec.dot3(self.Pminus, self.Pminus)))\n",
    "    \n",
    "    # angle of wrt to the beam of positively charged lepton in rads \n",
    "    def plus_beam(self):\n",
    "        return np.arccos(self.Pplus[3,:]/np.sqrt(vec.dot3(self.Pplus, self.Pplus)))\n",
    "\n",
    "    # Energy of negatively charged lepton in GeV\n",
    "    def Eminus(self):\n",
    "        return self.Pminus[0,:]\n",
    "\n",
    "    # Energy of positively charged lepton in GeV\n",
    "    def Eplus(self):\n",
    "        return self.Pplus[0,:]\n"
   ]
  },
  {
   "cell_type": "code",
   "execution_count": 45,
   "metadata": {},
   "outputs": [],
   "source": [
    "%matplotlib inline\n",
    "\n",
    "# standard\n",
    "import matplotlib.pyplot as plt\n",
    "from matplotlib import rc, rcParams\n",
    "import matplotlib.lines as mlines\n",
    "from matplotlib.pyplot import *\n",
    "import sys\n",
    "import scipy.ndimage as ndimage\n",
    "import os\n",
    "from scipy.interpolate import interp1d\n",
    "\n",
    "# custom modules\n",
    "import fourvec as vec\n",
    "import const\n",
    "\n",
    "# Class with all the relevant quantities of a given trident channel/mode\n",
    "class MC_HEP:\n",
    "    ##############################################    \n",
    "    # Import datafile and set lepton masses\n",
    "    def __init__(self, samplesfile, mplus, mminus, Enu_range):\n",
    "        # array with all data \n",
    "        # Enu Q^2 P+(0) P+(1) P+(2) P+(3) P-(0) P-(1) P-(2) P-(3) weight\n",
    "        \n",
    "        with open(samplesfile,\"r\") as f:\n",
    "            a=np.array([x.split() for x in f.readlines()])\n",
    "    \n",
    "#         self.a  = np.array(np.genfromtxt(samplesfile))\n",
    "                \n",
    "        # Only events within energy range\n",
    "        self.Enu_min = Enu_range[0]\n",
    "        self.Enu_max = Enu_range[1]\n",
    "# #         self.mask= [(self.a[:,0]>self.Enu_min)&(self.a[:,0]<self.Enu_max)]\n",
    "# #         self.a = self.a[self.mask]\n",
    "        \n",
    "        # charge lepton masses \n",
    "        self.mp = mplus\n",
    "        self.mm = mminus\n",
    "        self.event_plus = []\n",
    "        self.event_minus = []\n",
    "        self.events_nu = []\n",
    "        print 'Number of events:', np.shape(a)[0]/4\n",
    "        for i in range(np.shape(a)[0]/4):\n",
    "            self.events_nu = np.append(self.events_nu,a[i*4+1])\n",
    "            self.event_plus = np.append(self.event_plus,a[i*4+2])\n",
    "            self.event_minus = np.append(self.event_minus,a[i*4+3])\n",
    "        \n",
    "        \n",
    "        self.events_nu = np.array(np.reshape(self.events_nu, (np.shape(a)[0]/4,15)),dtype=np.float64)\n",
    "        self.event_plus = np.array(np.reshape(self.event_plus, (np.shape(a)[0]/4,15)),dtype=np.float64)\n",
    "        self.event_minus = np.array(np.reshape(self.event_minus, (np.shape(a)[0]/4,15)),dtype=np.float64)\n",
    "        \n",
    "        \n",
    "        # relevant quantities\n",
    "        self.Enu = self.events_nu[:,6]\n",
    "        self.Pplus = self.event_plus[:,6:10].T \n",
    "        self.Pminus = self.event_minus[:,6:10].T\n",
    "\n",
    "    ##############################################    \n",
    "    # invariant mass of the two charged leptons \n",
    "    def invmassSQR(self):\n",
    "        return vec.dot4(self.Pplus+self.Pminus, self.Pplus+self.Pminus)\n",
    "\n",
    "    # separation angle of the two charged leptons in rads \n",
    "    def sepangle(self):\n",
    "        return np.arccos(vec.dot3(self.Pplus, self.Pminus)/np.sqrt(vec.dot3(self.Pplus, self.Pplus)*vec.dot3(self.Pminus, self.Pminus)))\n",
    "\n",
    "    # angle of wrt to the beam of negatively charged lepton in rads \n",
    "    def minus_beam(self):\n",
    "        return np.arccos(self.Pminus[3,:]/np.sqrt(vec.dot3(self.Pminus, self.Pminus)))\n",
    "    \n",
    "    # angle of wrt to the beam of positively charged lepton in rads \n",
    "    def plus_beam(self):\n",
    "        return np.arccos(self.Pplus[3,:]/np.sqrt(vec.dot3(self.Pplus, self.Pplus)))\n",
    "\n",
    "    # Energy of negatively charged lepton in GeV\n",
    "    def Eminus(self):\n",
    "        return self.Pminus[0,:]\n",
    "\n",
    "    # Energy of positively charged lepton in GeV\n",
    "    def Eplus(self):\n",
    "        return self.Pplus[0,:]\n"
   ]
  },
  {
   "cell_type": "markdown",
   "metadata": {},
   "source": [
    "## Import data for $^{16}$O and $p^+$\n",
    "\n",
    "In this example I will import the MC events for Argon and protons (with and without Pauli blocking).\n",
    "Note the usual shorthand for trident channels:\n",
    "\n",
    "$$abcd \\equiv \\nu_a \\,\\to\\, \\nu_b \\,+\\, \\ell_c^+ \\,+\\, \\ell_d^-$$\n"
   ]
  },
  {
   "cell_type": "code",
   "execution_count": 46,
   "metadata": {},
   "outputs": [
    {
     "name": "stdout",
     "output_type": "stream",
     "text": [
      "Samples imported:  405093\n",
      "Number of events: 10000\n"
     ]
    }
   ],
   "source": [
    "#########################################\n",
    "# Neutrinos\n",
    "# with open(\"../HEPevt/MC_events_numu_to_numu_mu+_mu-_coh_6_12.dat\",\"r\") as f:\n",
    "#     a=np.array([x.split() for x in f.readlines()])\n",
    "\n",
    "# Coherent for 12C\n",
    "mm_Ccoh = MC(\"../events/MC_events_numu_to_numu_mu+_mu-_coh_6_12_0_10.dat\", const.Mmu, const.Mmu, (0.1,10.))\n",
    "mm_Ccoh_HEP = MC_HEP(\"../HEPevt/MC_events_numu_to_numu_mu+_mu-_coh_6_12.dat\", const.Mmu, const.Mmu, (0.01,10.))\n"
   ]
  },
  {
   "cell_type": "markdown",
   "metadata": {},
   "source": [
    "# Trident event distribution in $E_\\nu$"
   ]
  },
  {
   "cell_type": "code",
   "execution_count": 49,
   "metadata": {},
   "outputs": [
    {
     "data": {
      "text/plain": [
       "<matplotlib.legend.Legend at 0x7fb9a03dee10>"
      ]
     },
     "execution_count": 49,
     "metadata": {},
     "output_type": "execute_result"
    },
    {
     "data": {
      "image/png": "[encoded data removed]",
      "text/plain": [
       "<Figure size 1440x432 with 2 Axes>"
      ]
     },
     "metadata": {
      "needs_background": "light"
     },
     "output_type": "display_data"
    },
    {
     "data": {
      "image/png": "[encoded data removed]",
      "text/plain": [
       "<Figure size 1440x432 with 2 Axes>"
      ]
     },
     "metadata": {
      "needs_background": "light"
     },
     "output_type": "display_data"
    }
   ],
   "source": [
    "# plot the distribution in neutrino energy as a sanity check\n",
    "def plot_nuflux(ax, colour, MC, title):\n",
    "    # defs\n",
    "    kwargs = {\"facecolor\" : \"None\", \n",
    "              \"edgecolor\" : colour,\n",
    "              \"lw\"        : 2.0,\n",
    "              \"alpha\"     : 0.5,\n",
    "              \"weights\" : MC.w,\n",
    "              \"bins\" : 40,\n",
    "              \"density\" : True,\n",
    "              \"label\" : title} \n",
    "    \n",
    "    # hists\n",
    "    h = ax.hist(MC.Enu, range=(0.1,MC.Enu_max), **kwargs)\n",
    "    ax.set_xlabel(r\"$E_\\nu$ (GeV)\")\n",
    "\n",
    "fig,  axes = plt.subplots(nrows=1, ncols=2,figsize = (20,6))\n",
    "(ax1, ax2)= axes\n",
    "def plot_nuflux_HEP(ax, colour, MC, title):\n",
    "    # defs\n",
    "    kwargs = {\"facecolor\" : \"None\", \n",
    "              \"edgecolor\" : colour,\n",
    "              \"lw\"        : 2.0,\n",
    "              \"alpha\"     : 0.5,\n",
    "              \"bins\" : 40,\n",
    "              \"density\" : True,\n",
    "              \"label\" : title} \n",
    "    \n",
    "    # hists\n",
    "    h = ax.hist(MC.Enu, range=(0.01,MC.Enu_max), **kwargs)\n",
    "    ax.set_xlabel(r\"$E_\\nu$ (GeV)\")\n",
    "\n",
    "fig,  axes = plt.subplots(nrows=1, ncols=2,figsize = (20,6))\n",
    "(ax1, ax2)= axes\n",
    "\n",
    "plot_nuflux_HEP(ax1,\"green\", mm_Ccoh_HEP, \n",
    "           r\"$\\nu_\\mu + ^{12}$C$ \\to \\nu_\\mu + \\mu^+ + \\mu^- + ^{12}$C\")\n",
    "plot_nuflux(ax1,\"indigo\", mm_Ccoh, \n",
    "           r\"$\\nu_\\mu + ^{12}$C$ \\to \\nu_\\mu + \\mu^+ + \\mu^- + ^{12}$C\")\n",
    "\n",
    "\n",
    "# plot_nuflux(ax1,\"indigo\", mm_Ocoh, \n",
    "#            r\"$\\nu_\\mu + ^{16}$O$ \\to \\nu_\\mu + \\mu^+ + \\mu^- + ^{16}$O\")\n",
    "# plot_nuflux(ax1,\"orange\", mm_Pbcoh, \n",
    "#            r\"$\\nu_\\mu + ^{207}$Pb$ \\to \\nu_\\mu + \\mu^+ + \\mu^- + ^{207}$Pb\")\n",
    "\n",
    "# plot_nuflux(ax2,\"indigo\", mm_dif_PB, \n",
    "#            r\"$\\nu_\\mu + p^+ \\to \\nu_\\mu + \\mu^+ + \\mu^- + p^+$ (PB)\")\n",
    "\n",
    "\n",
    "ax1.legend(loc=\"upper right\", frameon=False, fontsize=11)\n",
    "ax2.legend(loc=\"upper right\", frameon=False, fontsize=11)\n"
   ]
  },
  {
   "cell_type": "markdown",
   "metadata": {},
   "source": [
    "## Plotting physical observables with the reweighted samples"
   ]
  },
  {
   "cell_type": "code",
   "execution_count": 43,
   "metadata": {
    "scrolled": true
   },
   "outputs": [
    {
     "data": {
      "text/plain": [
       "<matplotlib.legend.Legend at 0x7fb9a1a5d150>"
      ]
     },
     "execution_count": 43,
     "metadata": {},
     "output_type": "execute_result"
    },
    {
     "data": {
      "image/png": "[encoded data removed]",
      "text/plain": [
       "<Figure size 1152x576 with 6 Axes>"
      ]
     },
     "metadata": {
      "needs_background": "light"
     },
     "output_type": "display_data"
    },
    {
     "data": {
      "image/png": "[encoded data removed]",
      "text/plain": [
       "<Figure size 1152x576 with 6 Axes>"
      ]
     },
     "metadata": {
      "needs_background": "light"
     },
     "output_type": "display_data"
    }
   ],
   "source": [
    "fsize = 14\n",
    "rad_to_deg = 180.0/np.pi\n",
    "\n",
    "# figs\n",
    "fig1,  axes1 = plt.subplots(nrows=2, ncols=3,figsize = (16,8))\n",
    "fig2,  axes2 = plt.subplots(nrows=2, ncols=3,figsize = (16,8))\n",
    "\n",
    "def plot_dists(MC, colour, title, axes):\n",
    "\n",
    "    ((ax1, ax2, ax3), (ax4, ax5, ax6)) = axes\n",
    "\n",
    "\n",
    "    # defs\n",
    "    kwargs = {\"facecolor\" : \"None\", \n",
    "              \"edgecolor\" : colour,\n",
    "              \"lw\"        : 2.0,\n",
    "              \"alpha\"     : 0.8,\n",
    "              \"bins\" : 20,\n",
    "              \"density\" : False,\n",
    "              \"label\"  : title} \n",
    "    \n",
    "    # hists\n",
    "    h = ax1.hist(MC.Eminus(), range=(0,MC.Enu_max*0.8), **kwargs)\n",
    "    ax1.set_xlabel(r\"$E_-$ (GeV)\")\n",
    "\n",
    "    h = ax2.hist(MC.minus_beam()*rad_to_deg, range=(0,60), **kwargs)\n",
    "    ax2.set_xlabel(r\"$\\theta_-(^\\circ$)\")\n",
    "\n",
    "    h = ax3.hist(MC.sepangle()*rad_to_deg, range=(0,90), **kwargs)\n",
    "    ax3.set_xlabel(r\"$\\theta_{\\ell^+ \\ell^-}$ ($^\\circ$)\")\n",
    "    \n",
    "    h = ax4.hist(MC.Eplus(), range=(0,MC.Enu_max*0.8), **kwargs)\n",
    "    ax4.set_xlabel(r\"$E_+$ (GeV)\")\n",
    "\n",
    "    h = ax5.hist(MC.plus_beam()*rad_to_deg, range=(0,60), **kwargs)\n",
    "    ax5.set_xlabel(r\"$\\theta_+$ ($^\\circ$)\")\n",
    "\n",
    "    h = ax6.hist(MC.invmassSQR(), range=((MC.mm+MC.mp)**2,2.0), **kwargs)    \n",
    "    ax6.set_xlabel(r\"$m_{\\ell^+\\ell^-}$ (GeV$^2$)\")\n",
    "    \n",
    "\n",
    "########################################\n",
    "# neutrino\n",
    "fig1.suptitle(\"Neutrino normalized histograms\", fontsize=22)\n",
    "# plot_dists(mm_Ocoh,'green', \n",
    "#            r\"$\\nu_\\mu + ^{16}$O$ \\to \\nu_\\mu + \\mu^+ + \\mu^- + ^{16}$O\", axes1)\n",
    "# plot_dists(mm_Pbcoh,'green', \n",
    "#            r\"$\\nu_\\mu + ^{207}$Pb$ \\to \\nu_\\mu + \\mu^+ + \\mu^- + ^{207}$Pb\", axes2)\n",
    "# axes1[0,0].legend(loc='upper right', frameon=False, fontsize=0.7*fsize)\n",
    "\n",
    "# fig2.suptitle(\"Neutrino normalized histograms\", fontsize=22)\n",
    "\n",
    "\n",
    "plot_dists(mm_Ccoh,'indigo', \n",
    "           r\"$\\nu_\\mu + ^{12}$C$ \\to \\nu_\\mu + \\mu^+ + \\mu^- + ^{12}$C\", axes1)\n",
    "# plot_dists(mm_dif_PB,'indigo', \n",
    "#            r\"$\\nu_\\mu + p^+ \\to \\nu_\\mu + \\mu^+ + \\mu^- + p^+$ (PB)\", axes2)\n",
    "axes2[0,0].legend(loc='upper right', frameon=False, fontsize=0.7*fsize)\n"
   ]
  },
  {
   "cell_type": "markdown",
   "metadata": {},
   "source": [
    "## Additional tests"
   ]
  },
  {
   "cell_type": "code",
   "execution_count": null,
   "metadata": {},
   "outputs": [],
   "source": []
  },
  {
   "cell_type": "code",
   "execution_count": null,
   "metadata": {},
   "outputs": [],
   "source": []
  },
  {
   "cell_type": "code",
   "execution_count": 36,
   "metadata": {},
   "outputs": [
    {
     "name": "stdout",
     "output_type": "stream",
     "text": [
      "[        nan  0.13858549         nan         nan]\n"
     ]
    },
    {
     "name": "stderr",
     "output_type": "stream",
     "text": [
      "/usr/local/lib/python2.7/dist-packages/ipykernel_launcher.py:8: RuntimeWarning: invalid value encountered in sqrt\n",
      "  \n",
      "/usr/local/lib/python2.7/dist-packages/ipykernel_launcher.py:9: RuntimeWarning: invalid value encountered in sqrt\n",
      "  if __name__ == '__main__':\n"
     ]
    },
    {
     "data": {
      "image/png": "[encoded data removed]",
      "text/plain": [
       "<Figure size 1008x216 with 2 Axes>"
      ]
     },
     "metadata": {
      "needs_background": "light"
     },
     "output_type": "display_data"
    }
   ],
   "source": [
    "# Test the different kinematical limits\n",
    "\n",
    "fig, (ax1, ax2) = plt.subplots(nrows=1, ncols=2,figsize = (14,3))\n",
    "\n",
    "# charged lepton masses are recovered\n",
    "def check_masses(MC, ax):\n",
    "    # charged lepton masses are recovered\n",
    "    mplus  = np.sqrt(vec.dot4(MC.Pplus, MC.Pplus))\n",
    "    mminus = np.sqrt(vec.dot4(MC.Pminus, MC.Pminus))\n",
    "    \n",
    "    a = mplus/MC.mp - 1.\n",
    "    b = mminus/MC.mm - 1.\n",
    "    print a\n",
    "    #     a = MC.mp\n",
    "#     b = MC.mm\n",
    "\n",
    "#     ax.set_xlim(np.min(a), np.max(a)), ax.set_ylim(np.min(b), np.max(b))\n",
    "    ax.set_xlabel('a'), ax.set_ylabel('b')\n",
    "    ax.scatter(a,b, lw=0, s=6,c=\"r\")\n",
    "\n",
    "    \n",
    "check_masses(mm_Ccoh, ax1)\n",
    "# check_masses(mm_dif_PB, ax2)\n"
   ]
  },
  {
   "cell_type": "code",
   "execution_count": null,
   "metadata": {},
   "outputs": [],
   "source": []
  },
  {
   "cell_type": "code",
   "execution_count": null,
   "metadata": {},
   "outputs": [],
   "source": []
  }
 ],
 "metadata": {
  "kernelspec": {
   "display_name": "Python 3",
   "language": "python",
   "name": "python3"
  },
  "language_info": {
   "codemirror_mode": {
    "name": "ipython",
    "version": 3
   },
   "file_extension": ".py",
   "mimetype": "text/x-python",
   "name": "python",
   "nbconvert_exporter": "python",
   "pygments_lexer": "ipython3",
   "version": "3.9.5"
  }
 },
 "nbformat": 4,
 "nbformat_minor": 2
}
