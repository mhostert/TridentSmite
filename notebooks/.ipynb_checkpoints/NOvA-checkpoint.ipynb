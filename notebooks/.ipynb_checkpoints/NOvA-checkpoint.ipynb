{
 "cells": [
  {
   "cell_type": "markdown",
   "id": "contemporary-equipment",
   "metadata": {},
   "source": [
    "# Neutrino Trident Production\n",
    "\n",
    "This notebook loads and tests the MC events for neutrino trident production off nuclei and protons,\n",
    "\n",
    "$$\\nu_\\alpha \\,+\\, N \\,\\to\\, \\nu_\\beta \\,+\\, \\ell^+_{\\kappa} \\,+\\, \\ell^-_{\\gamma} \\,+\\, N.$$\n",
    "\n",
    "This notebook can be easily adapted to generate and analyse your own experiment definition in PATH=../exps/\n",
    "\n",
    "\n",
    "Note that only the four-momenta of the final state charged leptons and neutrino are provided, together with the neutrino energy $E_\\nu$ and the momentum transfer to the nuclear targer $Q^2$.\n",
    "\n",
    "This work is directly based on $\\textit{arXiv:1807.10973}$."
   ]
  },
  {
   "cell_type": "markdown",
   "id": "wanted-novel",
   "metadata": {},
   "source": [
    "## Init"
   ]
  },
  {
   "cell_type": "code",
   "execution_count": 1,
   "id": "centered-crown",
   "metadata": {},
   "outputs": [],
   "source": [
    "%load_ext autoreload\n",
    "%autoreload 2\n",
    "%matplotlib inline"
   ]
  },
  {
   "cell_type": "code",
   "execution_count": 2,
   "id": "continuous-electron",
   "metadata": {},
   "outputs": [],
   "source": [
    "import numpy as np\n",
    "from scipy import *\n",
    "import os\n",
    "import sys\n",
    "import matplotlib.pyplot as plt\n",
    "from matplotlib import rc, rcParams\n",
    "import matplotlib.lines as mlines\n",
    "from matplotlib.pyplot import *\n",
    "\n",
    "\n",
    "# Neutrino Trident Production\n",
    "\n",
    "from source import *"
   ]
  },
  {
   "cell_type": "markdown",
   "id": "ranking-oxide",
   "metadata": {},
   "source": [
    "## Define scattering targets and the total mass to be used\n",
    "relative mass composition given in https://arxiv.org/pdf/1902.00558.pdf"
   ]
  },
  {
   "cell_type": "code",
   "execution_count": 13,
   "id": "certified-liability",
   "metadata": {},
   "outputs": [
    {
     "name": "stdout",
     "output_type": "stream",
     "text": [
      "all materials: 192.614 t\n"
     ]
    }
   ],
   "source": [
    "# masses in t \n",
    "totmass=193\n",
    "massTi=3.2e-2*totmass\n",
    "massCl=16.1e-2*totmass\n",
    "massO=3.00e-2*totmass\n",
    "massC=66.7e-2*totmass\n",
    "massH=10.8e-2*totmass\n",
    "\n",
    "# mass, Z, A, PB or noPB for pelastic events\n",
    "materials = np.array([\\\n",
    "            [massC, 6, 12, False],\n",
    "            [massCl, 17, 35, False],\n",
    "            [massTi, 22, 48, False],\n",
    "            [massO, 8, 16, False],\n",
    "            [massH, 1, 1, False],\n",
    "            [8/16*massO + 6/12*massC + 22/48*massTi + 17/35*massCl, 1, 1, True],\n",
    "            [8/16*massO + 6/12*massC + (48-22)/48*massTi + (35-17)/35*massCl, 0, 1, True]]).T\n",
    "\n",
    "# check total detector mass\n",
    "nuclei_mask=np.array(1-materials[-1], dtype=bool)\n",
    "total_det_mass=np.sum(materials[0][nuclei_mask])\n",
    "\n",
    "print(f\"all materials: {total_det_mass:.3f} t\")"
   ]
  },
  {
   "cell_type": "markdown",
   "id": "circular-diabetes",
   "metadata": {},
   "source": [
    "## Generate trident events with exp scripts in exp\n",
    "\n",
    "this call ./exp.sh, reads all output npy files in data/exp/ folder, and combines all generation cases (targets, nu vs nubar, scattering regime) into a single dictionary."
   ]
  },
  {
   "cell_type": "code",
   "execution_count": 16,
   "id": "noble-karaoke",
   "metadata": {},
   "outputs": [
    {
     "name": "stdout",
     "output_type": "stream",
     "text": [
      "data/NOvA_FHC/\n",
      "Trident channel: numu_to_numu_mu+_mu-\n",
      "\n",
      "Integral: 17270.7+-35.7203, Chi2 prob: 0.662623\n",
      "correction: 0.163325\n",
      "Total number of events: 105000\n",
      "Number of NaNed events: 0\n",
      "Saving events to file: data/NOvA_FHC/MC_events_numu_to_numu_mu+_mu-_coh_6_12_gv_0.000980_ga_0.000000_mz_0.100000.npy\n",
      "size of events: 1575000\n",
      "Time to fill and iterate a vector of  ints : 0.04453 s\n",
      "Trident channel: numubar_to_numubar_mu+_mu-\n",
      "\n",
      "Integral: 1785.92+-5.256, Chi2 prob: 0.131249\n",
      "correction: 0.169485\n",
      "Total number of events: 105000\n",
      "Number of NaNed events: 0\n",
      "Saving events to file: data/NOvA_FHC/MC_events_numubar_to_numubar_mu+_mu-_coh_6_12_gv_0.000980_ga_0.000000_mz_0.100000.npy\n",
      "size of events: 1575000\n",
      "Time to fill and iterate a vector of  ints : 0.041149 s\n",
      "Trident channel: numu_to_numu_mu+_mu-\n",
      "\n",
      "Integral: 28297.2+-57.1267, Chi2 prob: 0.152199\n",
      "correction: 0.150601\n",
      "Total number of events: 105000\n",
      "Number of NaNed events: 0\n",
      "Saving events to file: data/NOvA_FHC/MC_events_numu_to_numu_mu+_mu-_coh_8_16_gv_0.000980_ga_0.000000_mz_0.100000.npy\n",
      "size of events: 1575000\n",
      "Time to fill and iterate a vector of  ints : 0.044363 s\n",
      "Trident channel: numubar_to_numubar_mu+_mu-\n",
      "\n",
      "Integral: 2929.94+-8.61483, Chi2 prob: 0.535229\n",
      "correction: 0.177154\n",
      "Total number of events: 105000\n",
      "Number of NaNed events: 0\n",
      "Saving events to file: data/NOvA_FHC/MC_events_numubar_to_numubar_mu+_mu-_coh_8_16_gv_0.000980_ga_0.000000_mz_0.100000.npy\n",
      "size of events: 1575000\n",
      "Time to fill and iterate a vector of  ints : 0.045303 s\n",
      "Trident channel: numu_to_numu_mu+_mu-\n",
      "\n",
      "Integral: 97258.3+-196.005, Chi2 prob: 0.370882\n",
      "correction: 0.153765\n",
      "Total number of events: 105000\n",
      "Number of NaNed events: 0\n",
      "Saving events to file: data/NOvA_FHC/MC_events_numu_to_numu_mu+_mu-_coh_17_35_gv_0.000980_ga_0.000000_mz_0.100000.npy\n",
      "size of events: 1575000\n",
      "Time to fill and iterate a vector of  ints : 0.048862 s\n",
      "Trident channel: numubar_to_numubar_mu+_mu-\n",
      "\n",
      "Integral: 10159.7+-29.5584, Chi2 prob: 0.799235\n",
      "correction: 0.157972\n",
      "Total number of events: 105000\n",
      "Number of NaNed events: 0\n",
      "Saving events to file: data/NOvA_FHC/MC_events_numubar_to_numubar_mu+_mu-_coh_17_35_gv_0.000980_ga_0.000000_mz_0.100000.npy\n",
      "size of events: 1575000\n",
      "Time to fill and iterate a vector of  ints : 0.047667 s\n",
      "Trident channel: numu_to_numu_mu+_mu-\n",
      "\n",
      "Integral: 143848+-287.325, Chi2 prob: 0.429326\n",
      "correction: 0.153625\n",
      "Total number of events: 105000\n",
      "Number of NaNed events: 0\n",
      "Saving events to file: data/NOvA_FHC/MC_events_numu_to_numu_mu+_mu-_coh_22_48_gv_0.000980_ga_0.000000_mz_0.100000.npy\n",
      "size of events: 1575000\n",
      "Time to fill and iterate a vector of  ints : 0.046385 s\n",
      "Trident channel: numubar_to_numubar_mu+_mu-\n",
      "\n",
      "Integral: 14877.7+-42.1946, Chi2 prob: 0.15162\n",
      "correction: 0.153093\n",
      "Total number of events: 105000\n",
      "Number of NaNed events: 0\n",
      "Saving events to file: data/NOvA_FHC/MC_events_numubar_to_numubar_mu+_mu-_coh_22_48_gv_0.000980_ga_0.000000_mz_0.100000.npy\n",
      "size of events: 1575000\n",
      "Time to fill and iterate a vector of  ints : 0.049777 s\n",
      "Trident channel: numu_to_numu_mu+_mu-\n",
      "\n",
      "Integral: 1871.76+-3.66715, Chi2 prob: 0.215992\n",
      "correction: 0.144225\n",
      "Total number of events: 105000\n",
      "Number of NaNed events: 0\n",
      "Saving events to file: data/NOvA_FHC/MC_events_numu_to_numu_mu+_mu-_proton_PB_gv_0.000980_ga_0.000000_mz_0.100000.npy\n",
      "size of events: 1575000\n",
      "Time to fill and iterate a vector of  ints : 0.046298 s\n",
      "Trident channel: numubar_to_numubar_mu+_mu-\n",
      "\n",
      "Integral: 191.234+-0.540094, Chi2 prob: 0.612674\n",
      "correction: 0.155988\n",
      "Total number of events: 105000\n",
      "Number of NaNed events: 0\n",
      "Saving events to file: data/NOvA_FHC/MC_events_numubar_to_numubar_mu+_mu-_proton_PB_gv_0.000980_ga_0.000000_mz_0.100000.npy\n",
      "size of events: 1575000\n",
      "Time to fill and iterate a vector of  ints : 0.04627 s\n",
      "Trident channel: numu_to_numu_mu+_mu-\n",
      "\n",
      "Integral: 286.44+-0.564507, Chi2 prob: 0.0752952\n",
      "correction: 0.137891\n",
      "Total number of events: 105000\n",
      "Number of NaNed events: 0\n",
      "Saving events to file: data/NOvA_FHC/MC_events_numu_to_numu_mu+_mu-_neutron_PB_gv_0.000980_ga_0.000000_mz_0.100000.npy\n",
      "size of events: 1575000\n",
      "Time to fill and iterate a vector of  ints : 0.042781 s\n",
      "Trident channel: numubar_to_numubar_mu+_mu-\n",
      "\n",
      "Integral: 29.3652+-0.0779156, Chi2 prob: 0.152824\n",
      "correction: 0.145437\n",
      "Total number of events: 105000\n",
      "Number of NaNed events: 0\n",
      "Saving events to file: data/NOvA_FHC/MC_events_numubar_to_numubar_mu+_mu-_neutron_PB_gv_0.000980_ga_0.000000_mz_0.100000.npy\n",
      "size of events: 1575000\n",
      "Time to fill and iterate a vector of  ints : 0.043648 s\n",
      "Trident channel: numu_to_numu_mu+_mu-\n",
      "\n",
      "Integral: 2727.44+-5.29722, Chi2 prob: 0.72384\n",
      "correction: 0.139362\n",
      "Total number of events: 105000\n",
      "Number of NaNed events: 0\n",
      "Saving events to file: data/NOvA_FHC/MC_events_numu_to_numu_mu+_mu-_proton_noPB_gv_0.000980_ga_0.000000_mz_0.100000.npy\n",
      "size of events: 1575000\n",
      "Time to fill and iterate a vector of  ints : 0.046386 s\n",
      "Trident channel: numubar_to_numubar_mu+_mu-\n",
      "\n",
      "Integral: 280.442+-0.800663, Chi2 prob: 0.872505\n",
      "correction: 0.161894\n",
      "Total number of events: 105000\n",
      "Number of NaNed events: 0\n",
      "Saving events to file: data/NOvA_FHC/MC_events_numubar_to_numubar_mu+_mu-_proton_noPB_gv_0.000980_ga_0.000000_mz_0.100000.npy\n",
      "size of events: 1575000\n",
      "Time to fill and iterate a vector of  ints : 0.044618 s\n",
      "\n",
      "\n",
      "coh_17_35\n",
      "coh_8_16\n",
      "proton_PB\n",
      "proton_noPB\n",
      "coh_22_48\n",
      "coh_8_16\n",
      "proton_noPB\n",
      "coh_6_12\n",
      "coh_17_35\n",
      "coh_22_48\n",
      "proton_PB\n",
      "coh_6_12\n",
      "neutron_PB\n",
      "neutron_PB\n",
      "Files read: 14\n",
      "data/NOvA_RHC/\n",
      "Trident channel: numu_to_numu_mu+_mu-\n",
      "\n",
      "Integral: 3292.37+-31.633, Chi2 prob: 0.35409\n",
      "correction: 0.613681\n",
      "Total number of events: 10000\n",
      "Number of NaNed events: 0\n",
      "Saving events to file: data/NOvA_RHC/MC_events_numu_to_numu_mu+_mu-_coh_6_12_gv_0.000980_ga_0.000000_mz_0.100000.npy\n",
      "size of events: 150000\n",
      "Time to fill and iterate a vector of  ints : 0.004988 s\n",
      "Trident channel: numubar_to_numubar_mu+_mu-\n",
      "\n",
      "Integral: 9839.14+-230.077, Chi2 prob: 0.179703\n",
      "correction: 0.520852\n",
      "Total number of events: 10000\n",
      "Number of NaNed events: 0\n",
      "Saving events to file: data/NOvA_RHC/MC_events_numubar_to_numubar_mu+_mu-_coh_6_12_gv_0.000980_ga_0.000000_mz_0.100000.npy\n",
      "size of events: 150000\n",
      "Time to fill and iterate a vector of  ints : 0.006454 s\n",
      "Trident channel: numu_to_numu_mu+_mu-\n",
      "\n",
      "Integral: 5418.03+-51.5125, Chi2 prob: 0.537987\n",
      "correction: 0.623605\n",
      "Total number of events: 10000\n",
      "Number of NaNed events: 0\n",
      "Saving events to file: data/NOvA_RHC/MC_events_numu_to_numu_mu+_mu-_coh_8_16_gv_0.000980_ga_0.000000_mz_0.100000.npy\n",
      "size of events: 150000\n",
      "Time to fill and iterate a vector of  ints : 0.004446 s\n",
      "Trident channel: numubar_to_numubar_mu+_mu-\n",
      "\n",
      "Integral: 15638.2+-353.333, Chi2 prob: 0.575018\n",
      "correction: 0.717398\n",
      "Total number of events: 10000\n",
      "Number of NaNed events: 0\n",
      "Saving events to file: data/NOvA_RHC/MC_events_numubar_to_numubar_mu+_mu-_coh_8_16_gv_0.000980_ga_0.000000_mz_0.100000.npy\n",
      "size of events: 150000\n",
      "Time to fill and iterate a vector of  ints : 0.004323 s\n",
      "Trident channel: numu_to_numu_mu+_mu-\n",
      "\n",
      "Integral: 19060.1+-239.385, Chi2 prob: 0.158813\n",
      "correction: 0.66777\n",
      "Total number of events: 10000\n",
      "Number of NaNed events: 0\n",
      "Saving events to file: data/NOvA_RHC/MC_events_numu_to_numu_mu+_mu-_coh_17_35_gv_0.000980_ga_0.000000_mz_0.100000.npy\n",
      "size of events: 150000\n",
      "Time to fill and iterate a vector of  ints : 0.004173 s\n",
      "Trident channel: numubar_to_numubar_mu+_mu-\n",
      "\n",
      "Integral: 50885.2+-1335.12, Chi2 prob: 0.62455\n",
      "correction: 0.69043\n",
      "Total number of events: 10000\n",
      "Number of NaNed events: 0\n",
      "Saving events to file: data/NOvA_RHC/MC_events_numubar_to_numubar_mu+_mu-_coh_17_35_gv_0.000980_ga_0.000000_mz_0.100000.npy\n",
      "size of events: 150000\n",
      "Time to fill and iterate a vector of  ints : 0.004782 s\n",
      "Trident channel: numu_to_numu_mu+_mu-\n",
      "\n",
      "Integral: 27863.1+-319.318, Chi2 prob: 0.432405\n",
      "correction: 0.613382\n",
      "Total number of events: 10000\n",
      "Number of NaNed events: 0\n",
      "Saving events to file: data/NOvA_RHC/MC_events_numu_to_numu_mu+_mu-_coh_22_48_gv_0.000980_ga_0.000000_mz_0.100000.npy\n",
      "size of events: 150000\n",
      "Time to fill and iterate a vector of  ints : 0.005992 s\n",
      "Trident channel: numubar_to_numubar_mu+_mu-\n",
      "\n",
      "Integral: 77990.9+-1871.89, Chi2 prob: 0.52381\n",
      "correction: 0.67423\n",
      "Total number of events: 10000\n",
      "Number of NaNed events: 0\n",
      "Saving events to file: data/NOvA_RHC/MC_events_numubar_to_numubar_mu+_mu-_coh_22_48_gv_0.000980_ga_0.000000_mz_0.100000.npy\n",
      "size of events: 150000\n",
      "Time to fill and iterate a vector of  ints : 0.004834 s\n",
      "Trident channel: numu_to_numu_mu+_mu-\n",
      "\n",
      "Integral: 342.251+-3.92943, Chi2 prob: 0.56367\n",
      "correction: 0.603217\n",
      "Total number of events: 10000\n",
      "Number of NaNed events: 0\n",
      "Saving events to file: data/NOvA_RHC/MC_events_numu_to_numu_mu+_mu-_proton_PB_gv_0.000980_ga_0.000000_mz_0.100000.npy\n",
      "size of events: 150000\n",
      "Time to fill and iterate a vector of  ints : 0.005125 s\n",
      "Trident channel: numubar_to_numubar_mu+_mu-\n",
      "\n",
      "Integral: 1101.16+-24.0534, Chi2 prob: 0.205237\n",
      "correction: 0.543982\n",
      "Total number of events: 10000\n",
      "Number of NaNed events: 0\n",
      "Saving events to file: data/NOvA_RHC/MC_events_numubar_to_numubar_mu+_mu-_proton_PB_gv_0.000980_ga_0.000000_mz_0.100000.npy\n",
      "size of events: 150000\n",
      "Time to fill and iterate a vector of  ints : 0.005433 s\n",
      "Trident channel: numu_to_numu_mu+_mu-\n",
      "\n",
      "Integral: 52.6243+-0.679305, Chi2 prob: 0.164142\n",
      "correction: 0.625545\n",
      "Total number of events: 10000\n",
      "Number of NaNed events: 0\n",
      "Saving events to file: data/NOvA_RHC/MC_events_numu_to_numu_mu+_mu-_neutron_PB_gv_0.000980_ga_0.000000_mz_0.100000.npy\n",
      "size of events: 150000\n",
      "Time to fill and iterate a vector of  ints : 0.005603 s\n",
      "Trident channel: numubar_to_numubar_mu+_mu-\n",
      "\n",
      "Integral: 167.042+-3.75506, Chi2 prob: 0.292636\n",
      "correction: 0.653843\n",
      "Total number of events: 10000\n",
      "Number of NaNed events: 0\n",
      "Saving events to file: data/NOvA_RHC/MC_events_numubar_to_numubar_mu+_mu-_neutron_PB_gv_0.000980_ga_0.000000_mz_0.100000.npy\n",
      "size of events: 150000\n",
      "Time to fill and iterate a vector of  ints : 0.005099 s\n",
      "Trident channel: numu_to_numu_mu+_mu-\n",
      "\n",
      "Integral: 506.367+-5.0512, Chi2 prob: 0.156839\n",
      "correction: 0.66161\n",
      "Total number of events: 10000\n",
      "Number of NaNed events: 0\n",
      "Saving events to file: data/NOvA_RHC/MC_events_numu_to_numu_mu+_mu-_proton_noPB_gv_0.000980_ga_0.000000_mz_0.100000.npy\n",
      "size of events: 150000\n",
      "Time to fill and iterate a vector of  ints : 0.004675 s\n",
      "Trident channel: numubar_to_numubar_mu+_mu-\n",
      "\n",
      "Integral: 1532.03+-31.9969, Chi2 prob: 0.911485\n",
      "correction: 0.607616\n",
      "Total number of events: 10000\n",
      "Number of NaNed events: 0\n",
      "Saving events to file: data/NOvA_RHC/MC_events_numubar_to_numubar_mu+_mu-_proton_noPB_gv_0.000980_ga_0.000000_mz_0.100000.npy\n",
      "size of events: 150000\n",
      "Time to fill and iterate a vector of  ints : 0.004603 s\n",
      "\n",
      "\n",
      "coh_17_35\n",
      "coh_8_16\n",
      "proton_PB\n",
      "proton_noPB\n",
      "coh_22_48\n",
      "coh_8_16\n",
      "proton_noPB\n",
      "coh_6_12\n",
      "coh_17_35\n",
      "coh_22_48\n",
      "proton_PB\n",
      "coh_6_12\n",
      "neutron_PB\n",
      "neutron_PB\n",
      "Files read: 14\n"
     ]
    }
   ],
   "source": [
    "# minus\n",
    "NOVAf=gen.generate_tridents(\"NOvA_FHC\",9.8e-4,0.1,materials)\n",
    "# plus\n",
    "NOVAr=gen.generate_tridents(\"NOvA_RHC\",9.8e-4,0.1,materials)"
   ]
  },
  {
   "cell_type": "markdown",
   "id": "cordless-motivation",
   "metadata": {},
   "source": [
    "## Compute number of events with correct normalization"
   ]
  },
  {
   "cell_type": "code",
   "execution_count": 18,
   "id": "placed-partition",
   "metadata": {},
   "outputs": [
    {
     "name": "stdout",
     "output_type": "stream",
     "text": [
      "\n",
      " numode total number of events =  851.5650301205212012\n",
      "\n",
      " nubarmode total number of events =  656.44961253306330207\n"
     ]
    }
   ],
   "source": [
    "#################\n",
    "# convert event weights to # of events\n",
    "invm2_to_incm2=1e-4\n",
    "dE=1.0\n",
    "zb_to_cm2 = 1e-45\n",
    "nucleons_to_tons = const.NAvo*1e6\n",
    "\n",
    "# NuMI FHC\n",
    "POT_plus = 1.36e15 #1e6\n",
    "norm_plus = nucleons_to_tons*zb_to_cm2*POT_plus*invm2_to_incm2/dE\n",
    "\n",
    "# NuMI RHC\n",
    "POT_minus = 1.25e15 #1e6\n",
    "norm_minus = nucleons_to_tons*zb_to_cm2*POT_minus*invm2_to_incm2/dE\n",
    "\n",
    "print(\"\\n numode total number of events = \", np.sum(NOVAf['weights'])*norm_plus)\n",
    "print(\"\\n nubarmode total number of events = \", np.sum(NOVAr['weights'])*norm_minus)"
   ]
  },
  {
   "cell_type": "markdown",
   "id": "random-johnston",
   "metadata": {},
   "source": [
    "# Class of kinematics"
   ]
  },
  {
   "cell_type": "code",
   "execution_count": 20,
   "id": "handled-sending",
   "metadata": {},
   "outputs": [
    {
     "name": "stdout",
     "output_type": "stream",
     "text": [
      "Total samples imported:  1470000\n",
      "Total samples imported:  140000\n"
     ]
    }
   ],
   "source": [
    "nu = kin.kin(NOVAf,const.m_mu,const.m_mu)\n",
    "nubar = kin.kin(NOVAr,const.m_mu,const.m_mu)"
   ]
  },
  {
   "cell_type": "code",
   "execution_count": 7,
   "id": "approximate-question",
   "metadata": {},
   "outputs": [
    {
     "data": {
      "text/plain": [
       "<matplotlib.legend.Legend at 0x12c858b80>"
      ]
     },
     "execution_count": 7,
     "metadata": {},
     "output_type": "execute_result"
    },
    {
     "data": {
      "image/png": "[encoded data removed]",
      "text/plain": [
       "<Figure size 864x432 with 2 Axes>"
      ]
     },
     "metadata": {
      "needs_background": "light"
     },
     "output_type": "display_data"
    }
   ],
   "source": [
    "# plot the distribution in neutrino energy as a sanity check\n",
    "def plot_nuflux(ax, colour, MC, title):\n",
    "    # defs\n",
    "    kwargs = {\"facecolor\" : \"None\", \n",
    "              \"edgecolor\" : colour,\n",
    "              \"lw\"        : 2.0,\n",
    "              \"alpha\"     : 0.5,\n",
    "              \"weights\" : MC.w,\n",
    "              \"bins\" : 40,\n",
    "              \"density\" : True,\n",
    "              \"label\" : title} \n",
    "    \n",
    "    # hists\n",
    "    h = ax.hist(MC.Enu, range=(0.0,MC.Enu_max), **kwargs)\n",
    "    ax.set_xlabel(r\"$E_\\nu$ (GeV)\")\n",
    "\n",
    "fig,  axes = plt.subplots(nrows=1, ncols=2,figsize = (12,6))\n",
    "(ax1,ax2) = axes\n",
    "\n",
    "plot_nuflux(ax1,\"indigo\", nu, \n",
    "           r\"$\\nu_\\mu \\to \\nu_\\mu + \\mu^+ + \\mu^-$\")\n",
    "\n",
    "plot_nuflux(ax2,\"orange\", nubar, \n",
    "           r\"$\\overline{\\nu}_\\mu \\to \\overline{\\nu}_\\mu + \\mu^+ + \\mu^-$\")\n",
    "\n",
    "ax1.legend(loc=\"upper right\", frameon=False, fontsize=11)\n",
    "ax2.legend(loc=\"upper right\", frameon=False, fontsize=11)"
   ]
  },
  {
   "cell_type": "markdown",
   "id": "pregnant-courtesy",
   "metadata": {},
   "source": [
    "# Check a set of kinematical distributions\n"
   ]
  },
  {
   "cell_type": "code",
   "execution_count": 8,
   "id": "stopped-norway",
   "metadata": {},
   "outputs": [
    {
     "data": {
      "text/plain": [
       "1680000"
      ]
     },
     "execution_count": 8,
     "metadata": {},
     "output_type": "execute_result"
    }
   ],
   "source": [
    "np.size(nu.Z)"
   ]
  },
  {
   "cell_type": "code",
   "execution_count": 9,
   "id": "opponent-desire",
   "metadata": {},
   "outputs": [
    {
     "data": {
      "text/plain": [
       "array([15.69918919,  0.89444909, 14.97823197, ...,  5.06809579,\n",
       "        7.05766021,  9.36640239])"
      ]
     },
     "execution_count": 9,
     "metadata": {},
     "output_type": "execute_result"
    }
   ],
   "source": [
    "nu.Enu[nu.cp==1]"
   ]
  },
  {
   "cell_type": "code",
   "execution_count": null,
   "id": "bored-participation",
   "metadata": {},
   "outputs": [],
   "source": []
  },
  {
   "cell_type": "code",
   "execution_count": 23,
   "id": "overhead-cleveland",
   "metadata": {
    "scrolled": false
   },
   "outputs": [
    {
     "data": {
      "text/plain": [
       "<matplotlib.legend.Legend at 0x130711940>"
      ]
     },
     "execution_count": 23,
     "metadata": {},
     "output_type": "execute_result"
    },
    {
     "data": {
      "image/png": "[encoded data removed]",
      "text/plain": [
       "<Figure size 1152x360 with 6 Axes>"
      ]
     },
     "metadata": {
      "needs_background": "light"
     },
     "output_type": "display_data"
    },
    {
     "data": {
      "image/png": "[encoded data removed]",
      "text/plain": [
       "<Figure size 1152x360 with 6 Axes>"
      ]
     },
     "metadata": {
      "needs_background": "light"
     },
     "output_type": "display_data"
    }
   ],
   "source": [
    "fsize = 14\n",
    "\n",
    "# figs\n",
    "fig1,  axes1 = plt.subplots(nrows=2, ncols=3,figsize = (16,5))\n",
    "fig2,  axes2 = plt.subplots(nrows=2, ncols=3,figsize = (16,5))\n",
    "\n",
    "def plot_dists(MC, colour, title, axes, mask):\n",
    "\n",
    "    ((ax1, ax2, ax3), (ax4, ax5, ax6)) = axes\n",
    "\n",
    "    # defs\n",
    "    kwargs = {\"facecolor\" : \"None\", \n",
    "              \"edgecolor\" : colour,\n",
    "              \"lw\"        : 2.0,\n",
    "              \"alpha\"     : 0.8,\n",
    "              \"weights\" : MC.w[mask],\n",
    "              \"bins\" : 20,\n",
    "              \"density\" : False,\n",
    "              \"label\"  : title} \n",
    "    \n",
    "    # hists\n",
    "    h = ax1.hist(MC.Eminus(mask), range=(0,MC.Enu_max*0.8), **kwargs)\n",
    "    ax1.set_xlabel(r\"$E_-$ (GeV)\")\n",
    "\n",
    "    h = ax2.hist(MC.minus_beam(mask)*const.rad_to_deg, range=(0,60), **kwargs)\n",
    "    ax2.set_xlabel(r\"$\\theta_-(^\\circ$)\")\n",
    "\n",
    "    h = ax3.hist(MC.sepangle(mask)*const.rad_to_deg, range=(0,90), **kwargs)\n",
    "    ax3.set_xlabel(r\"$\\theta_{\\ell^+ \\ell^-}$ ($^\\circ$)\")\n",
    "    \n",
    "    h = ax4.hist(MC.Eplus(mask), range=(0,MC.Enu_max*0.8), **kwargs)\n",
    "    ax4.set_xlabel(r\"$E_+$ (GeV)\")\n",
    "\n",
    "    h = ax5.hist(MC.plus_beam(mask)*const.rad_to_deg, range=(0,60), **kwargs)\n",
    "    ax5.set_xlabel(r\"$\\theta_+$ ($^\\circ$)\")\n",
    "\n",
    "    h = ax6.hist(MC.invmassSQR(mask), range=((MC.mm+MC.mp)**2,2.0), **kwargs)    \n",
    "    ax6.set_xlabel(r\"$m_{\\ell^+\\ell^-}$ (GeV$^2$)\")\n",
    "    \n",
    "    for ax in axes.flatten():\n",
    "        ax.set_yscale('log')\n",
    "        ax.set_ylim(ax.get_ylim()[0], ax.get_ylim()[1]*3)\n",
    "\n",
    "\n",
    "########################################\n",
    "# neutrino\n",
    "\n",
    "fig1.suptitle(\"Neutrino mode normalized histograms\", fontsize=22)\n",
    "plot_dists(nu,'green', \n",
    "           r\"$\\nu_\\mu \\to \\nu_\\mu + \\mu^+ + \\mu^-$ all\", axes1, mask=nu.all_events)\n",
    "plot_dists(nu,'orange', \n",
    "           r\"$\\nu_\\mu \\to \\nu_\\mu + \\mu^+ + \\mu^-$ coh\", axes1, mask=nu.only_coh)\n",
    "plot_dists(nu,'purple', \n",
    "           r\"$\\nu_\\mu \\to \\nu_\\mu + \\mu^+ + \\mu^-$ incoh\", axes1, mask=nu.only_incoh)\n",
    "\n",
    "axes1[0,0].legend(loc='upper right', frameon=False, fontsize=0.7*fsize)\n",
    "\n",
    "\n",
    "fig2.suptitle(\"Antineutrino mode normalized histograms\", fontsize=22)\n",
    "\n",
    "plot_dists(nubar,'green', \n",
    "           r\"$\\nu_\\mu \\to \\nu_\\mu + \\mu^+ + \\mu^- + $ all\", axes2, mask=nu.all_events)\n",
    "plot_dists(nubar,'orange', \n",
    "           r\"$\\nu_\\mu \\to \\nu_\\mu + \\mu^+ + \\mu^- + $ coh\", axes2, mask=nubar.only_coh)\n",
    "plot_dists(nubar,'purple', \n",
    "           r\"$\\nu_\\mu \\to \\nu_\\mu + \\mu^+ + \\mu^- + $ incoh\", axes2, mask=nubar.only_incoh)\n",
    "\n",
    "axes2[0,0].legend(loc='upper right', frameon=False, fontsize=0.7*fsize)\n"
   ]
  },
  {
   "cell_type": "markdown",
   "id": "agricultural-allah",
   "metadata": {},
   "source": [
    "## Some trivial check of the numerics"
   ]
  },
  {
   "cell_type": "code",
   "execution_count": 19,
   "id": "tough-failure",
   "metadata": {},
   "outputs": [
    {
     "data": {
      "image/png": "[encoded data removed]",
      "text/plain": [
       "<Figure size 720x144 with 3 Axes>"
      ]
     },
     "metadata": {
      "needs_background": "light"
     },
     "output_type": "display_data"
    },
    {
     "data": {
      "image/png": "[encoded data removed]",
      "text/plain": [
       "<Figure size 720x144 with 3 Axes>"
      ]
     },
     "metadata": {
      "needs_background": "light"
     },
     "output_type": "display_data"
    }
   ],
   "source": [
    "# Test the different kinematical limits\n",
    "# charged lepton masses are recovered\n",
    "def check_masses(MC):\n",
    "    fig, (ax1, ax2, ax3) = plt.subplots(nrows=1, ncols=3,figsize = (10,2))\n",
    "    # charged lepton masses are recovered\n",
    "    mplus  = np.sqrt(Cfv.dot4(MC.Pplus, MC.Pplus))\n",
    "    mminus = np.sqrt(Cfv.dot4(MC.Pminus, MC.Pminus))\n",
    "    mnu = Cfv.dot4(MC.Pnu, MC.Pnu)\n",
    "    \n",
    "    a = mplus/MC.mp - 1.\n",
    "    b = mminus/MC.mm - 1.\n",
    "    c = mnu\n",
    "#     a = MC.mp\n",
    "#     b = MC.mm\n",
    "\n",
    "    ax1.set_xlim(np.min(a), np.max(a)), ax1.set_ylim(np.min(b), np.max(b))\n",
    "    ax2.set_xlim(np.min(a), np.max(a)), ax2.set_ylim(np.min(c), np.max(c))\n",
    "    ax3.set_xlim(np.min(b), np.max(b)), ax3.set_ylim(np.min(c), np.max(c))\n",
    "    ax1.set_xlabel('a'), ax1.set_ylabel('b')\n",
    "    ax2.set_xlabel('a'), ax2.set_ylabel('c')\n",
    "    ax3.set_xlabel('b'), ax3.set_ylabel('c')\n",
    "    \n",
    "    ax1.scatter(a,b, lw=0, s=6,c=\"r\")\n",
    "    ax2.scatter(a,c, lw=0, s=6,c=\"r\")\n",
    "    ax3.scatter(b,c, lw=0, s=6,c=\"r\")\n",
    "\n",
    "    \n",
    "check_masses(nu)\n",
    "check_masses(nubar)"
   ]
  },
  {
   "cell_type": "code",
   "execution_count": null,
   "id": "unlike-capability",
   "metadata": {},
   "outputs": [],
   "source": []
  },
  {
   "cell_type": "code",
   "execution_count": null,
   "id": "valuable-transfer",
   "metadata": {},
   "outputs": [],
   "source": []
  }
 ],
 "metadata": {
  "kernelspec": {
   "display_name": "Python 3",
   "language": "python",
   "name": "python3"
  },
  "language_info": {
   "codemirror_mode": {
    "name": "ipython",
    "version": 3
   },
   "file_extension": ".py",
   "mimetype": "text/x-python",
   "name": "python",
   "nbconvert_exporter": "python",
   "pygments_lexer": "ipython3",
   "version": "3.9.2"
  }
 },
 "nbformat": 4,
 "nbformat_minor": 5
}
