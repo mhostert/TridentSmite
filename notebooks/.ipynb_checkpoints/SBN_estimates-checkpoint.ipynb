{
 "cells": [
  {
   "cell_type": "markdown",
   "id": "coupled-enough",
   "metadata": {},
   "source": [
    "# Neutrino Trident Production\n",
    "\n",
    "This notebook loads and tests the MC events for neutrino trident production off nuclei and protons,\n",
    "\n",
    "$$\\nu_\\alpha \\,+\\, N \\,\\to\\, \\nu_\\beta \\,+\\, \\ell^+_{\\kappa} \\,+\\, \\ell^-_{\\gamma} \\,+\\, N.$$\n",
    "\n",
    "In this version, we only import MC events for Oxygen and protons with neutrino energies between 0.1 to 10 GeV. This notebook can be easily adapted to import other regimes and targets. Note that only the four-momenta of the final state charged leptons is provided, together with the neutrino energy $E_\\nu$ and the momentum transfer to the nuclear targer $Q^2$.\n",
    "\n",
    "This work is directly based on $\\textit{arXiv:1807.10973}$."
   ]
  },
  {
   "cell_type": "markdown",
   "id": "residential-fellow",
   "metadata": {},
   "source": [
    "## Init"
   ]
  },
  {
   "cell_type": "code",
   "execution_count": 4,
   "id": "thirty-watershed",
   "metadata": {},
   "outputs": [
    {
     "name": "stdout",
     "output_type": "stream",
     "text": [
      "The autoreload extension is already loaded. To reload it, use:\n",
      "  %reload_ext autoreload\n"
     ]
    }
   ],
   "source": [
    "%load_ext autoreload\n",
    "%autoreload 2\n",
    "%matplotlib inline"
   ]
  },
  {
   "cell_type": "code",
   "execution_count": 37,
   "id": "biological-institution",
   "metadata": {},
   "outputs": [],
   "source": [
    "# standard\n",
    "import matplotlib.pyplot as plt\n",
    "from matplotlib import rc, rcParams\n",
    "import matplotlib.lines as mlines\n",
    "from matplotlib.pyplot import *\n",
    "import sys\n",
    "import scipy.ndimage as ndimage\n",
    "import os\n",
    "from scipy.interpolate import interp1d\n",
    "\n",
    "# custom modules\n",
    "from source import const, Cfv, fourvec\n",
    "\n",
    "# Class with all the relevant quantities of a given trident channel/mode\n",
    "class MC:\n",
    "    ##############################################    \n",
    "    # Import datafile and set lepton masses\n",
    "    def __init__(self, samplesfile, mplus, mminus, Enu_range):\n",
    "        # array with all data \n",
    "        # Enu Q^2 P+(0) P+(1) P+(2) P+(3) P-(0) P-(1) P-(2) P-(3) weight\n",
    "        self.a  = np.array(np.genfromtxt(samplesfile, dtype=np.float64))\n",
    "                \n",
    "        # Only events within energy range\n",
    "        self.Enu_min = Enu_range[0]\n",
    "        self.Enu_max = Enu_range[1]\n",
    "        self.mask= ((self.a[:,0]>self.Enu_min)&(self.a[:,0]<self.Enu_max))\n",
    "        self.a = self.a[self.mask]\n",
    "        \n",
    "        # charge lepton masses \n",
    "        self.mp = mplus\n",
    "        self.mm = mminus\n",
    "\n",
    "        # relevant quantities\n",
    "        self.Enu = self.a[:,0] \n",
    "        self.Q2  = self.a[:,1] \n",
    "        self.w   = self.a[:,-1]\n",
    "        self.Pplus = self.a[:,2:6]\n",
    "        self.Pminus = self.a[:,6:10]\n",
    "        \n",
    "        print(\"Samples imported: \", np.size(self.w))\n",
    "\n",
    "\n",
    "    ##############################################\n",
    "    # Function to reweight the neutrino flux\n",
    "    # the new flux file has to have the usual format of 7 columns:\n",
    "    #\n",
    "    # Enu(GeV) nue numu nutau nue_bar numu_bar nutau_bar\n",
    "    #\n",
    "    # The uniform flux is used in the MC is set to 1, so user can choose the units of the new weights\n",
    "    def Reweight(self, old_flux_file, new_flux_file, flavour):\n",
    "        M_old = np.loadtxt(old_flux_file, dtype=np.float64)\n",
    "        en_old = M_old[:,0]\n",
    "        f_old  = M_old[:,flavour]     \n",
    "        M = np.loadtxt(new_flux_file, dtype=np.float64)\n",
    "        en = M[:,0]\n",
    "        f  = M[:,flavour]\n",
    "        # interpolate numu flux and fill out of range values w/ 0\n",
    "        flux_old = interp1d(en_old, f_old, fill_value=0, bounds_error=False)\n",
    "        flux = interp1d(en, f, fill_value=0, bounds_error=False)\n",
    "        \n",
    "        self.new_w = self.w * np.where( flux(self.Enu)*flux_old(self.Enu) > 0, flux(self.Enu)/flux_old(self.Enu) , 0)\n",
    "\n",
    "    ##############################################    \n",
    "    # flux convolved cross section calculated from the samples in 1e-48cm^2*arbitrary_flux_units (using uniform flux)\n",
    "    def total_fxs(self):\n",
    "        return np.sum(self.w)\n",
    "    \n",
    "    # flux convolved cross section calculated from the samples in 1e-48cm^2*arbitrary_flux_units (using new flux)\n",
    "    def total_fxs_new_flux(self):\n",
    "        return np.sum(self.new_w)\n",
    "    ##############################################    \n",
    "    \n",
    "    \n",
    "    ##############################################    \n",
    "    # invariant mass of the two charged leptons \n",
    "    def invmassSQR(self):\n",
    "        return source.Cfv.dot4(self.Pplus+self.Pminus, self.Pplus+self.Pminus)\n",
    "\n",
    "    # separation angle of the two charged leptons in rads \n",
    "    def sepangle(self):\n",
    "        return np.arccos(source.Cfv.dot3(self.Pplus, self.Pminus)/np.sqrt(source.Cfv.dot3(self.Pplus, self.Pplus)*source.Cfv.dot3(self.Pminus, self.Pminus)))\n",
    "\n",
    "    # angle of wrt to the beam of negatively charged lepton in rads \n",
    "    def minus_beam(self):\n",
    "        return np.arccos(self.Pminus[:,3]/np.sqrt(source.Cfv.dot3(self.Pminus, self.Pminus)))\n",
    "    \n",
    "    # angle of wrt to the beam of positively charged lepton in rads \n",
    "    def plus_beam(self):\n",
    "        return np.arccos(self.Pplus[:,3]/np.sqrt(source.Cfv.dot3(self.Pplus, self.Pplus)))\n",
    "\n",
    "    # Energy of negatively charged lepton in GeV\n",
    "    def Eminus(self):\n",
    "        return self.Pminus[:,0]\n",
    "\n",
    "    # Energy of positively charged lepton in GeV\n",
    "    def Eplus(self):\n",
    "        return self.Pplus[:,0]\n"
   ]
  },
  {
   "cell_type": "markdown",
   "id": "egyptian-enclosure",
   "metadata": {},
   "source": [
    "## Import data for $^{40}$Ar and $p^+$\n",
    "\n",
    "In this example I will import the MC events for Argon and protons (with and without Pauli blocking).\n",
    "Note the usual shorthand for trident channels:\n",
    "\n",
    "$$abcd \\equiv \\nu_a \\,\\to\\, \\nu_b \\,+\\, \\ell_c^+ \\,+\\, \\ell_d^-$$\n"
   ]
  },
  {
   "cell_type": "code",
   "execution_count": 38,
   "id": "patent-commons",
   "metadata": {},
   "outputs": [
    {
     "name": "stdout",
     "output_type": "stream",
     "text": [
      "Samples imported:  404547\n",
      "Samples imported:  404605\n",
      "Samples imported:  404807\n",
      "Samples imported:  404751\n",
      "Samples imported:  198135\n",
      "Samples imported:  404332\n"
     ]
    }
   ],
   "source": [
    "#########################################\n",
    "# Neutrinos\n",
    "EMAX = 5 \n",
    "# Coherent for 40Ar\n",
    "mm_Arcoh = MC(\"../events/MC_events_numu_to_numu_mu+_mu-_coh_18_40_0_\"+str(int(EMAX))+\".dat\", const.Mmu, const.Mmu, (0.1,EMAX))\n",
    "mmbar_Arcoh = MC(\"../events/MC_events_numubar_to_numubar_mu+_mu-_coh_18_40_0_\"+str(int(EMAX))+\".dat\", const.Mmu, const.Mmu, (0.1,EMAX))\n",
    "ee_Arcoh = MC(\"../events/MC_events_nue_to_nue_mu+_mu-_coh_18_40_0_\"+str(int(EMAX))+\".dat\", const.Me, const.Me, (0.1,EMAX))\n",
    "eebar_Arcoh = MC(\"../events/MC_events_nuebar_to_nuebar_mu+_mu-_coh_18_40_0_\"+str(int(EMAX))+\".dat\", const.Me, const.Me, (0.1,EMAX))\n",
    "# Elatic proton -- Pauli blocking ON\n",
    "mm_dif_PB = MC(\"../events/MC_events_numu_to_numu_mu+_mu-_proton_PB_0_30.dat\", const.Mmu, const.Mmu, (0.1,EMAX))\n",
    "mmbar_dif_PB = MC(\"../events/MC_events_numubar_to_numubar_mu+_mu-_proton_PB_0_\"+str(int(EMAX))+\".dat\", const.Mmu, const.Mmu, (0.1,EMAX))"
   ]
  },
  {
   "cell_type": "code",
   "execution_count": 41,
   "id": "european-planning",
   "metadata": {},
   "outputs": [
    {
     "name": "stderr",
     "output_type": "stream",
     "text": [
      "<ipython-input-37-eb96f8c1c87b>:61: RuntimeWarning: invalid value encountered in true_divide\n",
      "  self.new_w = self.w * np.where( flux(self.Enu)/flux_old(self.Enu) > 0, flux(self.Enu)/flux_old(self.Enu) , 0)\n"
     ]
    }
   ],
   "source": [
    "SBND_mm_Arcoh = mm_Arcoh\n",
    "SBND_mm_Arcoh.Reweight(\"../fluxes/SBN/Flux_SBN_MB.dat\", \"../fluxes/SBN/Flux_SBN_ICARUS.dat\",2)\n",
    "SBND_mmbar_Arcoh = mmbar_Arcoh\n",
    "SBND_mmbar_Arcoh.Reweight(\"../fluxes/SBN/Flux_SBN_MB.dat\", \"../fluxes/SBN/Flux_SBN_ICARUS.dat\",2)"
   ]
  },
  {
   "cell_type": "code",
   "execution_count": 42,
   "id": "tribal-cookbook",
   "metadata": {},
   "outputs": [
    {
     "data": {
      "image/png": "[encoded data removed]",
      "text/plain": [
       "<Figure size 432x288 with 1 Axes>"
      ]
     },
     "metadata": {
      "needs_background": "light"
     },
     "output_type": "display_data"
    }
   ],
   "source": [
    "_ = plt.hist(SBND_mm_Arcoh.new_w,range = (0,3),bins=100)"
   ]
  },
  {
   "cell_type": "markdown",
   "id": "objective-trance",
   "metadata": {},
   "source": [
    "# Roughly what the number of events is in the DUNE ND"
   ]
  },
  {
   "cell_type": "code",
   "execution_count": 15,
   "id": "thorough-synthesis",
   "metadata": {},
   "outputs": [
    {
     "name": "stdout",
     "output_type": "stream",
     "text": [
      "4768.640352279762\n",
      "160.6618944429518\n",
      "21.419683664171302\n",
      "2.4673942588934774\n",
      "6.4671540266021665\n",
      "5.4809800164282825\n"
     ]
    }
   ],
   "source": [
    "print(np.sum(mm_Arcoh.w))\n",
    "print(np.sum(mmbar_Arcoh.w))\n",
    "print(np.sum(ee_Arcoh.w))\n",
    "print(np.sum(eebar_Arcoh.w))\n",
    "print(np.sum(mm_dif_PB.w))\n",
    "print(np.sum(mmbar_dif_PB.w))"
   ]
  },
  {
   "cell_type": "markdown",
   "id": "democratic-asset",
   "metadata": {},
   "source": [
    "### Checking that we reproduce the results in https://arxiv.org/pdf/1902.06765.pdf"
   ]
  },
  {
   "cell_type": "code",
   "execution_count": 18,
   "id": "popular-thousand",
   "metadata": {},
   "outputs": [
    {
     "name": "stdout",
     "output_type": "stream",
     "text": [
      "mmmm coh 40Ar Events/1e21POT =  0.01857915101270483\n",
      "mmmm dif Pblocked Events/1e21POT =  0.0008106119610246352\n"
     ]
    }
   ],
   "source": [
    "mass=89 #t\n",
    "POT=1.32e21\n",
    "norm = 6.022*1e23*1e6*1e-48*1e-4/0.05*mass*POT/1e6\n",
    "\n",
    "print(\"mmmm coh 40Ar Events/1e21POT = \", (mm_Arcoh.total_fxs()+mmbar_Arcoh.total_fxs())*norm/0.9385/40)\n",
    "print(\"mmmm dif Pblocked Events/1e21POT = \", (mm_dif_PB.total_fxs()+mmbar_dif_PB.total_fxs())*norm*18/40/0.9385)"
   ]
  },
  {
   "cell_type": "markdown",
   "id": "continuous-excuse",
   "metadata": {},
   "source": [
    "# Trident event distribution in $E_\\nu$"
   ]
  },
  {
   "cell_type": "code",
   "execution_count": 108,
   "id": "suburban-somerset",
   "metadata": {
    "scrolled": true
   },
   "outputs": [
    {
     "data": {
      "text/plain": [
       "<matplotlib.legend.Legend at 0x13e825850>"
      ]
     },
     "execution_count": 108,
     "metadata": {},
     "output_type": "execute_result"
    },
    {
     "data": {
      "image/png": "[encoded data removed]",
      "text/plain": [
       "<Figure size 1440x432 with 2 Axes>"
      ]
     },
     "metadata": {
      "needs_background": "light"
     },
     "output_type": "display_data"
    }
   ],
   "source": [
    "# plot the distribution in neutrino energy as a sanity check\n",
    "def plot_nuflux(ax, colour, MC, title):\n",
    "\n",
    "    \n",
    "    # defs\n",
    "    kwargs = {\"facecolor\" : \"None\", \n",
    "              \"edgecolor\" : colour,\n",
    "              \"lw\"        : 2.0,\n",
    "              \"alpha\"     : 0.5,\n",
    "              \"weights\" : MC.w,\n",
    "              \"bins\" : 40,\n",
    "              \"density\" : True,\n",
    "              \"label\" : title} \n",
    "    \n",
    "    # hists\n",
    "    h = ax.hist(MC.Enu, range=(0.1,MC.Enu_max), **kwargs)\n",
    "    ax.set_xlabel(r\"$E_\\nu$ (GeV)\")\n",
    "\n",
    "fig,  axes = plt.subplots(nrows=1, ncols=2,figsize = (20,6))\n",
    "(ax1, ax2)= axes\n",
    "\n",
    "\n",
    "plot_nuflux(ax1,\"indigo\", mm_Arcoh, \n",
    "           r\"$\\nu_\\mu + ^{40}$Ar$ \\to \\nu_\\mu + \\mu^+ + \\mu^- + ^{40}$Ar\")\n",
    "plot_nuflux(ax1,\"green\", ee_Arcoh, \n",
    "           r\"$\\nu_e + ^{40}$Ar$ \\to \\nu_e + \\mu^+ + \\mu^- + ^{40}$Ar\")\n",
    "\n",
    "plot_nuflux(ax2,\"indigo\", mm_dif_PB, \n",
    "           r\"$\\nu_\\mu + p^+ \\to \\nu_\\mu + \\mu^+ + \\mu^- + p^+$ (PB)\")\n",
    "\n",
    "\n",
    "ax1.legend(loc=\"upper right\", frameon=False, fontsize=11)\n",
    "ax2.legend(loc=\"upper right\", frameon=False, fontsize=11)"
   ]
  },
  {
   "cell_type": "markdown",
   "id": "spanish-library",
   "metadata": {},
   "source": [
    "## Plotting physical observables with the reweighted samples"
   ]
  },
  {
   "cell_type": "code",
   "execution_count": 114,
   "id": "middle-polls",
   "metadata": {
    "scrolled": true
   },
   "outputs": [
    {
     "name": "stderr",
     "output_type": "stream",
     "text": [
      "No handles with labels found to put in legend.\n"
     ]
    },
    {
     "data": {
      "text/plain": [
       "<matplotlib.legend.Legend at 0x141f09fa0>"
      ]
     },
     "execution_count": 114,
     "metadata": {},
     "output_type": "execute_result"
    },
    {
     "data": {
      "image/png": "[encoded data removed]",
      "text/plain": [
       "<Figure size 1152x576 with 6 Axes>"
      ]
     },
     "metadata": {
      "needs_background": "light"
     },
     "output_type": "display_data"
    },
    {
     "data": {
      "image/png": "[encoded data removed]",
      "text/plain": [
       "<Figure size 1152x576 with 6 Axes>"
      ]
     },
     "metadata": {
      "needs_background": "light"
     },
     "output_type": "display_data"
    }
   ],
   "source": [
    "fsize = 14\n",
    "rad_to_deg = 180.0/np.pi\n",
    "\n",
    "# figs\n",
    "fig1,  axes1 = plt.subplots(nrows=2, ncols=3,figsize = (16,8))\n",
    "fig2,  axes2 = plt.subplots(nrows=2, ncols=3,figsize = (16,8))\n",
    "\n",
    "def plot_dists(MC, colour, title, axes):\n",
    "\n",
    "    ((ax1, ax2, ax3), (ax4, ax5, ax6)) = axes\n",
    "\n",
    "\n",
    "    # defs\n",
    "    kwargs = {\"facecolor\" : \"None\", \n",
    "              \"edgecolor\" : colour,\n",
    "              \"lw\"        : 2.0,\n",
    "              \"alpha\"     : 0.8,\n",
    "              \"weights\" : MC.w,\n",
    "              \"bins\" : 20,\n",
    "              \"density\" : True,\n",
    "              \"label\"  : title} \n",
    "    \n",
    "    # hists\n",
    "    h = ax1.hist(MC.Eminus(), range=(0,MC.Enu_max*0.8), **kwargs)\n",
    "    ax1.set_xlabel(r\"$E_-$ (GeV)\")\n",
    "\n",
    "    h = ax2.hist(MC.minus_beam()*rad_to_deg, range=(0,60), **kwargs)\n",
    "    ax2.set_xlabel(r\"$\\theta_-(^\\circ$)\")\n",
    "\n",
    "    h = ax3.hist(MC.sepangle()*rad_to_deg, range=(0,90), **kwargs)\n",
    "    ax3.set_xlabel(r\"$\\theta_{\\ell^+ \\ell^-}$ ($^\\circ$)\")\n",
    "    \n",
    "    h = ax4.hist(MC.Eplus(), range=(0,MC.Enu_max*0.8), **kwargs)\n",
    "    ax4.set_xlabel(r\"$E_+$ (GeV)\")\n",
    "\n",
    "    h = ax5.hist(MC.plus_beam()*rad_to_deg, range=(0,60), **kwargs)\n",
    "    ax5.set_xlabel(r\"$\\theta_+$ ($^\\circ$)\")\n",
    "\n",
    "    h = ax6.hist(MC.invmassSQR(), range=((MC.mm+MC.mp)**2,2.0), **kwargs)    \n",
    "    ax6.set_xlabel(r\"$m_{\\ell^+\\ell^-}$ (GeV$^2$)\")\n",
    "    \n",
    "\n",
    "########################################\n",
    "# neutrino\n",
    "fig1.suptitle(\"Neutrino normalized histograms\", fontsize=22)\n",
    "plot_dists(mm_Arcoh,'green', \n",
    "           r\"$\\nu_\\mu + ^{40}$Ar$ \\to \\nu_\\mu + \\mu^+ + \\mu^- + ^{40}$Ar\", axes1)\n",
    "plot_dists(ee_Arcoh,'indigo', \n",
    "           r\"$\\nu_e + ^{40}$Ar$ \\to \\nu_e + \\mu^+ + \\mu^- + ^{40}$Ar\", axes1)\n",
    "axes1[0,0].legend(loc='upper right', frameon=False, fontsize=0.7*fsize)\n",
    "\n",
    "fig2.suptitle(\"Neutrino normalized histograms\", fontsize=22)\n",
    "\n",
    "plot_dists(mm_dif_PB,'orange', \n",
    "           r\"$\\nu_\\mu + p^+ \\to \\nu_\\mu + \\mu^+ + \\mu^- + p^+$ (PB)\", axes1)\n",
    "axes2[0,0].legend(loc='upper right', frameon=False, fontsize=0.7*fsize)\n"
   ]
  },
  {
   "cell_type": "markdown",
   "id": "rural-nutrition",
   "metadata": {},
   "source": [
    "## Additional tests"
   ]
  },
  {
   "cell_type": "code",
   "execution_count": 55,
   "id": "crude-heavy",
   "metadata": {},
   "outputs": [
    {
     "name": "stdout",
     "output_type": "stream",
     "text": [
      "Samples imported:  398842\n"
     ]
    },
    {
     "name": "stderr",
     "output_type": "stream",
     "text": [
      "<ipython-input-44-78db9dbd2f91>:27: FutureWarning: Using a non-tuple sequence for multidimensional indexing is deprecated; use `arr[tuple(seq)]` instead of `arr[seq]`. In the future this will be interpreted as an array index, `arr[np.array(seq)]`, which will result either in an error or a different result.\n",
      "  self.a = self.a[self.mask]\n"
     ]
    }
   ],
   "source": [
    "mm_Ccoh = MC(\"../events/MC_events_numu_to_numu_mu+_mu-_coh_6_12_0_15.dat\", const.Mmu, const.Mmu, (0.1,10.))\n",
    "# HEPmm_Ccoh = MC_HEPevt(\"../HEPevt/MC_events_numu_to_numu_mu+_mu-_coh_6_12_0_10.dat\", const.Mmu, const.Mmu, (0.1,10.))\n"
   ]
  },
  {
   "cell_type": "code",
   "execution_count": null,
   "id": "focal-reggae",
   "metadata": {},
   "outputs": [],
   "source": []
  },
  {
   "cell_type": "code",
   "execution_count": 60,
   "id": "hollywood-scout",
   "metadata": {},
   "outputs": [
    {
     "data": {
      "image/png": "[encoded data removed]",
      "text/plain": [
       "<Figure size 1008x216 with 2 Axes>"
      ]
     },
     "metadata": {
      "needs_background": "light"
     },
     "output_type": "display_data"
    }
   ],
   "source": [
    "# Test the different kinematical limits\n",
    "\n",
    "fig, (ax1, ax2) = plt.subplots(nrows=1, ncols=2,figsize = (14,3))\n",
    "\n",
    "# charged lepton masses are recovered\n",
    "def check_masses(MC, ax):\n",
    "    # charged lepton masses are recovered\n",
    "    mplus  = np.sqrt(source.Cfv.dot4(MC.Pplus, MC.Pplus))\n",
    "    mminus = np.sqrt(source.Cfv.dot4(MC.Pminus, MC.Pminus))\n",
    "    \n",
    "    a = mplus/MC.mp - 1.\n",
    "    b = mminus/MC.mm - 1.\n",
    "#     a = MC.mp\n",
    "#     b = MC.mm\n",
    "\n",
    "    ax.set_xlim(np.min(a), np.max(a)), ax.set_ylim(np.min(b), np.max(b))\n",
    "    ax.set_xlabel('a'), ax.set_ylabel('b')\n",
    "    ax.scatter(a,b, lw=0, s=6,c=\"r\")\n",
    "\n",
    "    \n",
    "check_masses(mm_Ccoh, ax1)\n",
    "check_masses(mm_dif_PB, ax2)\n"
   ]
  },
  {
   "cell_type": "code",
   "execution_count": null,
   "id": "measured-slave",
   "metadata": {},
   "outputs": [],
   "source": []
  },
  {
   "cell_type": "code",
   "execution_count": null,
   "id": "municipal-potential",
   "metadata": {},
   "outputs": [],
   "source": []
  },
  {
   "cell_type": "code",
   "execution_count": null,
   "id": "forty-configuration",
   "metadata": {},
   "outputs": [],
   "source": []
  }
 ],
 "metadata": {
  "kernelspec": {
   "display_name": "Python 3",
   "language": "python",
   "name": "python3"
  },
  "language_info": {
   "codemirror_mode": {
    "name": "ipython",
    "version": 3
   },
   "file_extension": ".py",
   "mimetype": "text/x-python",
   "name": "python",
   "nbconvert_exporter": "python",
   "pygments_lexer": "ipython3",
   "version": "3.9.2"
  }
 },
 "nbformat": 4,
 "nbformat_minor": 5
}
