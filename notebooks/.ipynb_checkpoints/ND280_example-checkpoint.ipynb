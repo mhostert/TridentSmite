{
 "cells": [
  {
   "cell_type": "markdown",
   "id": "contemporary-equipment",
   "metadata": {},
   "source": [
    "# Neutrino Trident Production\n",
    "\n",
    "This notebook loads and tests the MC events for neutrino trident production off nuclei and protons,\n",
    "\n",
    "$$\\nu_\\alpha \\,+\\, N \\,\\to\\, \\nu_\\beta \\,+\\, \\ell^+_{\\kappa} \\,+\\, \\ell^-_{\\gamma} \\,+\\, N.$$\n",
    "\n",
    "This notebook can be easily adapted to generate and analyse your own experiment definition in PATH=../exps/\n",
    "\n",
    "\n",
    "Note that only the four-momenta of the final state charged leptons and neutrino are provided, together with the neutrino energy $E_\\nu$ and the momentum transfer to the nuclear targer $Q^2$.\n",
    "\n",
    "This work is directly based on $\\textit{arXiv:1807.10973}$."
   ]
  },
  {
   "cell_type": "markdown",
   "id": "wanted-novel",
   "metadata": {},
   "source": [
    "## Init"
   ]
  },
  {
   "cell_type": "code",
   "execution_count": 3,
   "id": "centered-crown",
   "metadata": {},
   "outputs": [],
   "source": [
    "%load_ext autoreload\n",
    "%autoreload 2\n",
    "%matplotlib inline"
   ]
  },
  {
   "cell_type": "code",
   "execution_count": 4,
   "id": "continuous-electron",
   "metadata": {},
   "outputs": [],
   "source": [
    "import numpy as np\n",
    "from scipy import *\n",
    "import os\n",
    "import sys\n",
    "import matplotlib.pyplot as plt\n",
    "from matplotlib import rc, rcParams\n",
    "import matplotlib.lines as mlines\n",
    "from matplotlib.pyplot import *\n",
    "\n",
    "\n",
    "# Neutrino Trident Production\n",
    "\n",
    "from source import *"
   ]
  },
  {
   "cell_type": "markdown",
   "id": "ranking-oxide",
   "metadata": {},
   "source": [
    "## Define scattering targets and the total mass to be used"
   ]
  },
  {
   "cell_type": "code",
   "execution_count": 5,
   "id": "certified-liability",
   "metadata": {},
   "outputs": [
    {
     "name": "stdout",
     "output_type": "stream",
     "text": [
      "all materials: 22.340 t\n",
      "except for Z=82: 10.340 t\n"
     ]
    }
   ],
   "source": [
    "# masses in t \n",
    "massZn=0.8\n",
    "massCu=0.4\n",
    "massO=3.32\n",
    "massC=5.4\n",
    "massPb=12.0\n",
    "massH=0.42\n",
    "\n",
    "# mass, Z, A, PB or noPB\n",
    "materials = np.array([[massPb, 82, 207, False],\n",
    "            [massCu, 29, 65, False],\n",
    "            [massZn, 30, 65, False],\n",
    "            [massC, 6, 12, False],\n",
    "            [massO, 8, 16, False],\n",
    "            [massH, 1, 1, False],\n",
    "            [8/16*massO + 6/12*massC + 30/65*massZn + 82/207*massPb, 1, 1, True],\n",
    "            [8/16*massO + 6/12*massC + 35/65*massZn + (207-82)/207*massPb, 0, 1, True]]).T\n",
    "\n",
    "# check total detector mass\n",
    "nuclei_mask=np.array(1-materials[-1], dtype=bool)\n",
    "\n",
    "total_det_mass=np.sum(materials[0][nuclei_mask])\n",
    "exception_mass=np.sum(materials[0][(nuclei_mask)&(materials[1]!=82)])\n",
    "\n",
    "print(f\"all materials: {total_det_mass:.3f} t\")\n",
    "print(f\"except for Z=82: {exception_mass:.3f} t\")"
   ]
  },
  {
   "cell_type": "markdown",
   "id": "circular-diabetes",
   "metadata": {},
   "source": [
    "## Generate trident events with exp scripts in exp\n",
    "\n",
    "this call ./exp.sh, reads all output npy files in data/exp/ folder, and combines all generation cases (targets, nu vs nubar, scattering regime) into a single dictionary."
   ]
  },
  {
   "cell_type": "code",
   "execution_count": 6,
   "id": "noble-karaoke",
   "metadata": {},
   "outputs": [
    {
     "name": "stdout",
     "output_type": "stream",
     "text": [
      "data/ND280_FHC/\n",
      "Trident channel: numu_to_numu_mu+_mu-\n",
      "\n",
      "Integral: 4.8351e+12+-8.56377e+09, Chi2 prob: 0.722519\n",
      "correction: 0.145686\n",
      "Total number of events: 105000\n",
      "Number of NaNed events: 0\n",
      "Saving events to file: data/ND280_FHC/MC_events_numu_to_numu_mu+_mu-_coh_6_12_gv_0.000980_ga_0.000000_mz_0.100000.npy\n",
      "size of events: 1575000\n",
      "Time to fill and iterate a vector of  ints : 0.073474 s\n",
      "Trident channel: numu_to_numu_mu+_mu-\n",
      "\n",
      "Integral: 7.88055e+12+-1.42187e+10, Chi2 prob: 0.219719\n",
      "correction: 0.152938\n",
      "Total number of events: 105000\n",
      "Number of NaNed events: 0\n",
      "Saving events to file: data/ND280_FHC/MC_events_numu_to_numu_mu+_mu-_coh_8_16_gv_0.000980_ga_0.000000_mz_0.100000.npy\n",
      "size of events: 1575000\n",
      "Time to fill and iterate a vector of  ints : 0.081352 s\n",
      "Trident channel: numu_to_numu_mu+_mu-\n",
      "\n",
      "Integral: 2.46579e+14+-4.68229e+11, Chi2 prob: 0.856951\n",
      "correction: 0.165301\n",
      "Total number of events: 105000\n",
      "Number of NaNed events: 0\n",
      "Saving events to file: data/ND280_FHC/MC_events_numu_to_numu_mu+_mu-_coh_82_207_gv_0.000980_ga_0.000000_mz_0.100000.npy\n",
      "size of events: 1575000\n",
      "Time to fill and iterate a vector of  ints : 0.082965 s\n",
      "Trident channel: numu_to_numu_mu+_mu-\n",
      "\n",
      "Integral: 6.25115e+13+-1.13128e+11, Chi2 prob: 0.158279\n",
      "correction: 0.162308\n",
      "Total number of events: 105000\n",
      "Number of NaNed events: 0\n",
      "Saving events to file: data/ND280_FHC/MC_events_numu_to_numu_mu+_mu-_coh_30_65_gv_0.000980_ga_0.000000_mz_0.100000.npy\n",
      "size of events: 1575000\n",
      "Time to fill and iterate a vector of  ints : 0.071566 s\n",
      "Trident channel: numu_to_numu_mu+_mu-\n",
      "\n",
      "Integral: 5.92981e+13+-1.07522e+11, Chi2 prob: 0.329883\n",
      "correction: 0.163681\n",
      "Total number of events: 105000\n",
      "Number of NaNed events: 0\n",
      "Saving events to file: data/ND280_FHC/MC_events_numu_to_numu_mu+_mu-_coh_29_63_gv_0.000980_ga_0.000000_mz_0.100000.npy\n",
      "size of events: 1575000\n",
      "Time to fill and iterate a vector of  ints : 0.069504 s\n",
      "Trident channel: numubar_to_numubar_mu+_mu-\n",
      "\n",
      "Integral: 5.44464e+12+-1.43223e+10, Chi2 prob: 0.950835\n",
      "correction: 0.162529\n",
      "Total number of events: 105000\n",
      "Number of NaNed events: 0\n",
      "Saving events to file: data/ND280_FHC/MC_events_numubar_to_numubar_mu+_mu-_coh_6_12_gv_0.000980_ga_0.000000_mz_0.100000.npy\n",
      "size of events: 1575000\n",
      "Time to fill and iterate a vector of  ints : 0.072937 s\n",
      "Trident channel: numubar_to_numubar_mu+_mu-\n",
      "\n",
      "Integral: 8.73682e+12+-2.43901e+10, Chi2 prob: 0.470539\n",
      "correction: 0.187356\n",
      "Total number of events: 105000\n",
      "Number of NaNed events: 0\n",
      "Saving events to file: data/ND280_FHC/MC_events_numubar_to_numubar_mu+_mu-_coh_8_16_gv_0.000980_ga_0.000000_mz_0.100000.npy\n",
      "size of events: 1575000\n",
      "Time to fill and iterate a vector of  ints : 0.077857 s\n",
      "Trident channel: numubar_to_numubar_mu+_mu-\n",
      "\n",
      "Integral: 2.23592e+14+-6.33789e+11, Chi2 prob: 0.0289667\n",
      "correction: 0.172494\n",
      "Total number of events: 105000\n",
      "Number of NaNed events: 0\n",
      "Saving events to file: data/ND280_FHC/MC_events_numubar_to_numubar_mu+_mu-_coh_82_207_gv_0.000980_ga_0.000000_mz_0.100000.npy\n",
      "size of events: 1575000\n",
      "Time to fill and iterate a vector of  ints : 0.083111 s\n",
      "Trident channel: numubar_to_numubar_mu+_mu-\n",
      "\n",
      "Integral: 6.29585e+13+-1.62694e+11, Chi2 prob: 0.57924\n",
      "correction: 0.163771\n",
      "Total number of events: 105000\n",
      "Number of NaNed events: 0\n",
      "Saving events to file: data/ND280_FHC/MC_events_numubar_to_numubar_mu+_mu-_coh_30_65_gv_0.000980_ga_0.000000_mz_0.100000.npy\n",
      "size of events: 1575000\n",
      "Time to fill and iterate a vector of  ints : 0.073528 s\n",
      "Trident channel: numubar_to_numubar_mu+_mu-\n",
      "\n",
      "Integral: 6.0092e+13+-1.57095e+11, Chi2 prob: 0.215092\n",
      "correction: 0.164486\n",
      "Total number of events: 105000\n",
      "Number of NaNed events: 0\n",
      "Saving events to file: data/ND280_FHC/MC_events_numubar_to_numubar_mu+_mu-_coh_29_63_gv_0.000980_ga_0.000000_mz_0.100000.npy\n",
      "size of events: 1575000\n",
      "Time to fill and iterate a vector of  ints : 0.072617 s\n",
      "Trident channel: numu_to_numu_mu+_mu-\n",
      "\n",
      "Integral: 5.42042e+11+-9.60287e+08, Chi2 prob: 0.887131\n",
      "correction: 0.154233\n",
      "Total number of events: 105000\n",
      "Number of NaNed events: 0\n",
      "Saving events to file: data/ND280_FHC/MC_events_numu_to_numu_mu+_mu-_proton_PB_gv_0.000980_ga_0.000000_mz_0.100000.npy\n",
      "size of events: 1575000\n",
      "Time to fill and iterate a vector of  ints : 0.076872 s\n",
      "Trident channel: numubar_to_numubar_mu+_mu-\n",
      "\n",
      "Integral: 6.6994e+11+-1.75824e+09, Chi2 prob: 0.986551\n",
      "correction: 0.162894\n",
      "Total number of events: 105000\n",
      "Number of NaNed events: 0\n",
      "Saving events to file: data/ND280_FHC/MC_events_numubar_to_numubar_mu+_mu-_proton_PB_gv_0.000980_ga_0.000000_mz_0.100000.npy\n",
      "size of events: 1575000\n",
      "Time to fill and iterate a vector of  ints : 0.07251 s\n",
      "Trident channel: numu_to_numu_mu+_mu-\n",
      "\n",
      "Integral: 8.15288e+10+-1.41006e+08, Chi2 prob: 0.0828959\n",
      "correction: 0.151829\n",
      "Total number of events: 105000\n",
      "Number of NaNed events: 0\n",
      "Saving events to file: data/ND280_FHC/MC_events_numu_to_numu_mu+_mu-_neutron_PB_gv_0.000980_ga_0.000000_mz_0.100000.npy\n",
      "size of events: 1575000\n",
      "Time to fill and iterate a vector of  ints : 0.076583 s\n",
      "Trident channel: numubar_to_numubar_mu+_mu-\n",
      "\n",
      "Integral: 9.95333e+10+-2.55682e+08, Chi2 prob: 0.276347\n",
      "correction: 0.185752\n",
      "Total number of events: 105000\n",
      "Number of NaNed events: 0\n",
      "Saving events to file: data/ND280_FHC/MC_events_numubar_to_numubar_mu+_mu-_neutron_PB_gv_0.000980_ga_0.000000_mz_0.100000.npy\n",
      "size of events: 1575000\n",
      "Time to fill and iterate a vector of  ints : 0.072567 s\n",
      "Trident channel: numu_to_numu_mu+_mu-\n",
      "\n",
      "Integral: 7.8445e+11+-1.36146e+09, Chi2 prob: 0.356675\n",
      "correction: 0.155427\n",
      "Total number of events: 105000\n",
      "Number of NaNed events: 0\n",
      "Saving events to file: data/ND280_FHC/MC_events_numu_to_numu_mu+_mu-_proton_noPB_gv_0.000980_ga_0.000000_mz_0.100000.npy\n",
      "size of events: 1575000\n",
      "Time to fill and iterate a vector of  ints : 0.075274 s\n",
      "Trident channel: numubar_to_numubar_mu+_mu-\n",
      "\n",
      "Integral: 9.66713e+11+-2.43978e+09, Chi2 prob: 0.735759\n",
      "correction: 0.152073\n",
      "Total number of events: 105000\n",
      "Number of NaNed events: 0\n",
      "Saving events to file: data/ND280_FHC/MC_events_numubar_to_numubar_mu+_mu-_proton_noPB_gv_0.000980_ga_0.000000_mz_0.100000.npy\n",
      "size of events: 1575000\n",
      "Time to fill and iterate a vector of  ints : 0.069198 s\n",
      "\n",
      "\n",
      "coh_8_16\n",
      "proton_PB\n",
      "proton_noPB\n",
      "coh_30_65\n",
      "coh_8_16\n",
      "coh_29_63\n",
      "proton_noPB\n",
      "coh_6_12\n",
      "coh_82_207\n",
      "coh_82_207\n",
      "proton_PB\n",
      "coh_6_12\n",
      "coh_30_65\n",
      "neutron_PB\n",
      "neutron_PB\n",
      "coh_29_63\n",
      "Files read: 16\n",
      "data/ND280_FHC/\n",
      "Trident channel: numu_to_numu_mu+_mu-\n",
      "\n",
      "Integral: 4.82572e+12+-8.74313e+09, Chi2 prob: 0.901766\n",
      "correction: 0.158311\n",
      "Total number of events: 105000\n",
      "Number of NaNed events: 0\n",
      "Saving events to file: data/ND280_FHC/MC_events_numu_to_numu_mu+_mu-_coh_6_12_gv_0.000980_ga_0.000000_mz_0.100000.npy\n",
      "size of events: 1575000\n",
      "Time to fill and iterate a vector of  ints : 0.046564 s\n",
      "Trident channel: numu_to_numu_mu+_mu-\n",
      "\n",
      "Integral: 7.86555e+12+-1.42865e+10, Chi2 prob: 0.367085\n",
      "correction: 0.154314\n",
      "Total number of events: 105000\n",
      "Number of NaNed events: 0\n",
      "Saving events to file: data/ND280_FHC/MC_events_numu_to_numu_mu+_mu-_coh_8_16_gv_0.000980_ga_0.000000_mz_0.100000.npy\n",
      "size of events: 1575000\n",
      "Time to fill and iterate a vector of  ints : 0.038934 s\n",
      "Trident channel: numu_to_numu_mu+_mu-\n",
      "\n",
      "Integral: 2.47052e+14+-4.67312e+11, Chi2 prob: 0.353296\n",
      "correction: 0.148277\n",
      "Total number of events: 105000\n",
      "Number of NaNed events: 0\n",
      "Saving events to file: data/ND280_FHC/MC_events_numu_to_numu_mu+_mu-_coh_82_207_gv_0.000980_ga_0.000000_mz_0.100000.npy\n",
      "size of events: 1575000\n",
      "Time to fill and iterate a vector of  ints : 0.046917 s\n",
      "Trident channel: numu_to_numu_mu+_mu-\n",
      "\n",
      "Integral: 6.24647e+13+-1.15748e+11, Chi2 prob: 0.824158\n",
      "correction: 0.156987\n",
      "Total number of events: 105000\n",
      "Number of NaNed events: 0\n",
      "Saving events to file: data/ND280_FHC/MC_events_numu_to_numu_mu+_mu-_coh_30_65_gv_0.000980_ga_0.000000_mz_0.100000.npy\n",
      "size of events: 1575000\n",
      "Time to fill and iterate a vector of  ints : 0.040867 s\n",
      "Trident channel: numu_to_numu_mu+_mu-\n",
      "\n",
      "Integral: 5.94234e+13+-1.05132e+11, Chi2 prob: 0.333663\n",
      "correction: 0.14937\n",
      "Total number of events: 105000\n",
      "Number of NaNed events: 0\n",
      "Saving events to file: data/ND280_FHC/MC_events_numu_to_numu_mu+_mu-_coh_29_63_gv_0.000980_ga_0.000000_mz_0.100000.npy\n",
      "size of events: 1575000\n",
      "Time to fill and iterate a vector of  ints : 0.038572 s\n",
      "Trident channel: numubar_to_numubar_mu+_mu-\n",
      "\n",
      "Integral: 5.45692e+12+-1.55068e+10, Chi2 prob: 0.91645\n",
      "correction: 0.185818\n",
      "Total number of events: 105000\n",
      "Number of NaNed events: 0\n",
      "Saving events to file: data/ND280_FHC/MC_events_numubar_to_numubar_mu+_mu-_coh_6_12_gv_0.000980_ga_0.000000_mz_0.100000.npy\n",
      "size of events: 1575000\n",
      "Time to fill and iterate a vector of  ints : 0.043918 s\n",
      "Trident channel: numubar_to_numubar_mu+_mu-\n",
      "\n",
      "Integral: 8.76818e+12+-2.34172e+10, Chi2 prob: 0.574764\n",
      "correction: 0.180213\n",
      "Total number of events: 105000\n",
      "Number of NaNed events: 0\n",
      "Saving events to file: data/ND280_FHC/MC_events_numubar_to_numubar_mu+_mu-_coh_8_16_gv_0.000980_ga_0.000000_mz_0.100000.npy\n",
      "size of events: 1575000\n",
      "Time to fill and iterate a vector of  ints : 0.047762 s\n",
      "Trident channel: numubar_to_numubar_mu+_mu-\n",
      "\n",
      "Integral: 2.24314e+14+-6.28334e+11, Chi2 prob: 0.230593\n",
      "correction: 0.176524\n",
      "Total number of events: 105000\n",
      "Number of NaNed events: 0\n",
      "Saving events to file: data/ND280_FHC/MC_events_numubar_to_numubar_mu+_mu-_coh_82_207_gv_0.000980_ga_0.000000_mz_0.100000.npy\n",
      "size of events: 1575000\n",
      "Time to fill and iterate a vector of  ints : 0.047408 s\n",
      "Trident channel: numubar_to_numubar_mu+_mu-\n",
      "\n",
      "Integral: 6.3241e+13+-1.68039e+11, Chi2 prob: 0.685202\n",
      "correction: 0.164483\n",
      "Total number of events: 105000\n",
      "Number of NaNed events: 0\n",
      "Saving events to file: data/ND280_FHC/MC_events_numubar_to_numubar_mu+_mu-_coh_30_65_gv_0.000980_ga_0.000000_mz_0.100000.npy\n",
      "size of events: 1575000\n",
      "Time to fill and iterate a vector of  ints : 0.041068 s\n",
      "Trident channel: numubar_to_numubar_mu+_mu-\n",
      "\n",
      "Integral: 6.01649e+13+-1.57816e+11, Chi2 prob: 0.674732\n",
      "correction: 0.158431\n",
      "Total number of events: 105000\n",
      "Number of NaNed events: 0\n",
      "Saving events to file: data/ND280_FHC/MC_events_numubar_to_numubar_mu+_mu-_coh_29_63_gv_0.000980_ga_0.000000_mz_0.100000.npy\n",
      "size of events: 1575000\n",
      "Time to fill and iterate a vector of  ints : 0.048128 s\n",
      "Trident channel: numu_to_numu_mu+_mu-\n",
      "\n",
      "Integral: 5.38569e+11+-9.41623e+08, Chi2 prob: 0.231471\n",
      "correction: 0.159912\n",
      "Total number of events: 105000\n",
      "Number of NaNed events: 0\n",
      "Saving events to file: data/ND280_FHC/MC_events_numu_to_numu_mu+_mu-_proton_PB_gv_0.000980_ga_0.000000_mz_0.100000.npy\n",
      "size of events: 1575000\n",
      "Time to fill and iterate a vector of  ints : 0.047322 s\n",
      "Trident channel: numubar_to_numubar_mu+_mu-\n",
      "\n",
      "Integral: 6.6837e+11+-1.76678e+09, Chi2 prob: 0.230323\n",
      "correction: 0.17078\n",
      "Total number of events: 105000\n",
      "Number of NaNed events: 0\n",
      "Saving events to file: data/ND280_FHC/MC_events_numubar_to_numubar_mu+_mu-_proton_PB_gv_0.000980_ga_0.000000_mz_0.100000.npy\n",
      "size of events: 1575000\n",
      "Time to fill and iterate a vector of  ints : 0.041599 s\n",
      "Trident channel: numu_to_numu_mu+_mu-\n",
      "\n",
      "Integral: 8.14526e+10+-1.41206e+08, Chi2 prob: 0.391383\n",
      "correction: 0.146934\n",
      "Total number of events: 105000\n",
      "Number of NaNed events: 0\n",
      "Saving events to file: data/ND280_FHC/MC_events_numu_to_numu_mu+_mu-_neutron_PB_gv_0.000980_ga_0.000000_mz_0.100000.npy\n",
      "size of events: 1575000\n",
      "Time to fill and iterate a vector of  ints : 0.047532 s\n",
      "Trident channel: numubar_to_numubar_mu+_mu-\n",
      "\n",
      "Integral: 9.93973e+10+-2.52654e+08, Chi2 prob: 0.595627\n",
      "correction: 0.165652\n",
      "Total number of events: 105000\n",
      "Number of NaNed events: 0\n",
      "Saving events to file: data/ND280_FHC/MC_events_numubar_to_numubar_mu+_mu-_neutron_PB_gv_0.000980_ga_0.000000_mz_0.100000.npy\n",
      "size of events: 1575000\n",
      "Time to fill and iterate a vector of  ints : 0.045704 s\n",
      "Trident channel: numu_to_numu_mu+_mu-\n",
      "\n",
      "Integral: 7.82358e+11+-1.36663e+09, Chi2 prob: 0.477329\n",
      "correction: 0.150803\n",
      "Total number of events: 105000\n",
      "Number of NaNed events: 0\n",
      "Saving events to file: data/ND280_FHC/MC_events_numu_to_numu_mu+_mu-_proton_noPB_gv_0.000980_ga_0.000000_mz_0.100000.npy\n",
      "size of events: 1575000\n",
      "Time to fill and iterate a vector of  ints : 0.046297 s\n",
      "Trident channel: numubar_to_numubar_mu+_mu-\n",
      "\n",
      "Integral: 9.66505e+11+-2.46679e+09, Chi2 prob: 0.759707\n",
      "correction: 0.157383\n",
      "Total number of events: 105000\n",
      "Number of NaNed events: 0\n",
      "Saving events to file: data/ND280_FHC/MC_events_numubar_to_numubar_mu+_mu-_proton_noPB_gv_0.000980_ga_0.000000_mz_0.100000.npy\n",
      "size of events: 1575000\n",
      "Time to fill and iterate a vector of  ints : 0.041567 s\n",
      "\n",
      "\n",
      "coh_8_16\n",
      "proton_PB\n",
      "proton_noPB\n",
      "coh_30_65\n",
      "coh_8_16\n",
      "coh_29_63\n",
      "proton_noPB\n",
      "coh_6_12\n",
      "coh_82_207\n",
      "coh_82_207\n",
      "proton_PB\n",
      "coh_6_12\n",
      "coh_30_65\n",
      "neutron_PB\n",
      "neutron_PB\n",
      "coh_29_63\n",
      "Files read: 16\n"
     ]
    }
   ],
   "source": [
    "# minus\n",
    "ND280f_events=gen.generate_tridents(\"ND280_FHC\",9.8e-4,0.1,materials)\n",
    "# plus\n",
    "ND280r_events=gen.generate_tridents(\"ND280_FHC\",9.8e-4,0.1,materials)"
   ]
  },
  {
   "cell_type": "markdown",
   "id": "cordless-motivation",
   "metadata": {},
   "source": [
    "## Compute number of events with correct normalization"
   ]
  },
  {
   "cell_type": "code",
   "execution_count": 5,
   "id": "placed-partition",
   "metadata": {},
   "outputs": [
    {
     "name": "stdout",
     "output_type": "stream",
     "text": [
      "\n",
      " numode total number of events =  45.719972299673528295\n",
      "\n",
      " nubarmode total number of events =  37.764258629600352304\n"
     ]
    }
   ],
   "source": [
    "#################\n",
    "# convert event weights to # of events\n",
    "invcm2_to_invm2=1e4\n",
    "dE=0.05\n",
    "zb_to_cm2 = 1e-45\n",
    "nucleons_to_tons = const.NAvo*1e6\n",
    "\n",
    "# T2K positive polarity\n",
    "POT_plus = 1.97 #1e21\n",
    "norm_fhc = nucleons_to_tons*zb_to_cm2*POT_plus/dE\n",
    "\n",
    "# T2K negative polarity\n",
    "POT_minus = 1.63 #1e21\n",
    "norm_rhc = nucleons_to_tons*zb_to_cm2*POT_minus/dE\n",
    "\n",
    "print(\"\\n numode total number of events = \", np.sum(ND280f['weights'])*norm_fhc)\n",
    "print(\"\\n nubarmode total number of events = \", np.sum(ND280r['weights'])*norm_rhc)"
   ]
  },
  {
   "cell_type": "markdown",
   "id": "random-johnston",
   "metadata": {},
   "source": [
    "# Class of kinematics"
   ]
  },
  {
   "cell_type": "code",
   "execution_count": 6,
   "id": "handled-sending",
   "metadata": {},
   "outputs": [
    {
     "name": "stdout",
     "output_type": "stream",
     "text": [
      "Total samples imported:  1680000\n",
      "Total samples imported:  1680000\n"
     ]
    }
   ],
   "source": [
    "nu = kin.kin(ND280p_events,const.m_mu,const.m_mu)\n",
    "nubar = kin.kin(ND280m_events,const.m_mu,const.m_mu)"
   ]
  },
  {
   "cell_type": "code",
   "execution_count": 7,
   "id": "approximate-question",
   "metadata": {},
   "outputs": [
    {
     "data": {
      "text/plain": [
       "<matplotlib.legend.Legend at 0x12c858b80>"
      ]
     },
     "execution_count": 7,
     "metadata": {},
     "output_type": "execute_result"
    },
    {
     "data": {
      "image/png": "[encoded data removed]",
      "text/plain": [
       "<Figure size 864x432 with 2 Axes>"
      ]
     },
     "metadata": {
      "needs_background": "light"
     },
     "output_type": "display_data"
    }
   ],
   "source": [
    "# plot the distribution in neutrino energy as a sanity check\n",
    "def plot_nuflux(ax, colour, MC, title):\n",
    "    # defs\n",
    "    kwargs = {\"facecolor\" : \"None\", \n",
    "              \"edgecolor\" : colour,\n",
    "              \"lw\"        : 2.0,\n",
    "              \"alpha\"     : 0.5,\n",
    "              \"weights\" : MC.w,\n",
    "              \"bins\" : 40,\n",
    "              \"density\" : True,\n",
    "              \"label\" : title} \n",
    "    \n",
    "    # hists\n",
    "    h = ax.hist(MC.Enu, range=(0.0,MC.Enu_max), **kwargs)\n",
    "    ax.set_xlabel(r\"$E_\\nu$ (GeV)\")\n",
    "\n",
    "fig,  axes = plt.subplots(nrows=1, ncols=2,figsize = (12,6))\n",
    "(ax1,ax2) = axes\n",
    "\n",
    "plot_nuflux(ax1,\"indigo\", nu, \n",
    "           r\"$\\nu_\\mu \\to \\nu_\\mu + \\mu^+ + \\mu^-$\")\n",
    "\n",
    "plot_nuflux(ax2,\"orange\", nubar, \n",
    "           r\"$\\overline{\\nu}_\\mu \\to \\overline{\\nu}_\\mu + \\mu^+ + \\mu^-$\")\n",
    "\n",
    "ax1.legend(loc=\"upper right\", frameon=False, fontsize=11)\n",
    "ax2.legend(loc=\"upper right\", frameon=False, fontsize=11)"
   ]
  },
  {
   "cell_type": "markdown",
   "id": "pregnant-courtesy",
   "metadata": {},
   "source": [
    "# Check a set of kinematical distributions\n"
   ]
  },
  {
   "cell_type": "code",
   "execution_count": 8,
   "id": "stopped-norway",
   "metadata": {},
   "outputs": [
    {
     "data": {
      "text/plain": [
       "1680000"
      ]
     },
     "execution_count": 8,
     "metadata": {},
     "output_type": "execute_result"
    }
   ],
   "source": [
    "np.size(nu.Z)"
   ]
  },
  {
   "cell_type": "code",
   "execution_count": 9,
   "id": "opponent-desire",
   "metadata": {},
   "outputs": [
    {
     "data": {
      "text/plain": [
       "array([15.69918919,  0.89444909, 14.97823197, ...,  5.06809579,\n",
       "        7.05766021,  9.36640239])"
      ]
     },
     "execution_count": 9,
     "metadata": {},
     "output_type": "execute_result"
    }
   ],
   "source": [
    "nu.Enu[nu.cp==1]"
   ]
  },
  {
   "cell_type": "code",
   "execution_count": null,
   "id": "bored-participation",
   "metadata": {},
   "outputs": [],
   "source": []
  },
  {
   "cell_type": "code",
   "execution_count": 1,
   "id": "overhead-cleveland",
   "metadata": {
    "scrolled": false
   },
   "outputs": [
    {
     "ename": "NameError",
     "evalue": "name 'plt' is not defined",
     "output_type": "error",
     "traceback": [
      "\u001b[0;31m---------------------------------------------------------------------------\u001b[0m",
      "\u001b[0;31mNameError\u001b[0m                                 Traceback (most recent call last)",
      "\u001b[0;32m<ipython-input-1-384de1dafca2>\u001b[0m in \u001b[0;36m<module>\u001b[0;34m\u001b[0m\n\u001b[1;32m      2\u001b[0m \u001b[0;34m\u001b[0m\u001b[0m\n\u001b[1;32m      3\u001b[0m \u001b[0;31m# figs\u001b[0m\u001b[0;34m\u001b[0m\u001b[0;34m\u001b[0m\u001b[0;34m\u001b[0m\u001b[0m\n\u001b[0;32m----> 4\u001b[0;31m \u001b[0mfig1\u001b[0m\u001b[0;34m,\u001b[0m  \u001b[0maxes1\u001b[0m \u001b[0;34m=\u001b[0m \u001b[0mplt\u001b[0m\u001b[0;34m.\u001b[0m\u001b[0msubplots\u001b[0m\u001b[0;34m(\u001b[0m\u001b[0mnrows\u001b[0m\u001b[0;34m=\u001b[0m\u001b[0;36m2\u001b[0m\u001b[0;34m,\u001b[0m \u001b[0mncols\u001b[0m\u001b[0;34m=\u001b[0m\u001b[0;36m3\u001b[0m\u001b[0;34m,\u001b[0m\u001b[0mfigsize\u001b[0m \u001b[0;34m=\u001b[0m \u001b[0;34m(\u001b[0m\u001b[0;36m16\u001b[0m\u001b[0;34m,\u001b[0m\u001b[0;36m5\u001b[0m\u001b[0;34m)\u001b[0m\u001b[0;34m)\u001b[0m\u001b[0;34m\u001b[0m\u001b[0;34m\u001b[0m\u001b[0m\n\u001b[0m\u001b[1;32m      5\u001b[0m \u001b[0mfig2\u001b[0m\u001b[0;34m,\u001b[0m  \u001b[0maxes2\u001b[0m \u001b[0;34m=\u001b[0m \u001b[0mplt\u001b[0m\u001b[0;34m.\u001b[0m\u001b[0msubplots\u001b[0m\u001b[0;34m(\u001b[0m\u001b[0mnrows\u001b[0m\u001b[0;34m=\u001b[0m\u001b[0;36m2\u001b[0m\u001b[0;34m,\u001b[0m \u001b[0mncols\u001b[0m\u001b[0;34m=\u001b[0m\u001b[0;36m3\u001b[0m\u001b[0;34m,\u001b[0m\u001b[0mfigsize\u001b[0m \u001b[0;34m=\u001b[0m \u001b[0;34m(\u001b[0m\u001b[0;36m16\u001b[0m\u001b[0;34m,\u001b[0m\u001b[0;36m5\u001b[0m\u001b[0;34m)\u001b[0m\u001b[0;34m)\u001b[0m\u001b[0;34m\u001b[0m\u001b[0;34m\u001b[0m\u001b[0m\n\u001b[1;32m      6\u001b[0m \u001b[0;34m\u001b[0m\u001b[0m\n",
      "\u001b[0;31mNameError\u001b[0m: name 'plt' is not defined"
     ]
    }
   ],
   "source": [
    "fsize = 14\n",
    "\n",
    "# figs\n",
    "fig1,  axes1 = plt.subplots(nrows=2, ncols=3,figsize = (16,5))\n",
    "fig2,  axes2 = plt.subplots(nrows=2, ncols=3,figsize = (16,5))\n",
    "\n",
    "def plot_dists(MC, colour, title, axes, mask):\n",
    "\n",
    "    ((ax1, ax2, ax3), (ax4, ax5, ax6)) = axes\n",
    "\n",
    "    # defs\n",
    "    kwargs = {\"facecolor\" : \"None\", \n",
    "              \"edgecolor\" : colour,\n",
    "              \"lw\"        : 2.0,\n",
    "              \"alpha\"     : 0.8,\n",
    "              \"weights\" : MC.w[mask],\n",
    "              \"bins\" : 20,\n",
    "              \"density\" : False,\n",
    "              \"label\"  : title} \n",
    "    \n",
    "    # hists\n",
    "    h = ax1.hist(MC.Eminus(mask), range=(0,MC.Enu_max*0.8), **kwargs)\n",
    "    ax1.set_xlabel(r\"$E_-$ (GeV)\")\n",
    "\n",
    "    h = ax2.hist(MC.minus_beam(mask)*const.rad_to_deg, range=(0,60), **kwargs)\n",
    "    ax2.set_xlabel(r\"$\\theta_-(^\\circ$)\")\n",
    "\n",
    "    h = ax3.hist(MC.sepangle(mask)*const.rad_to_deg, range=(0,90), **kwargs)\n",
    "    ax3.set_xlabel(r\"$\\theta_{\\ell^+ \\ell^-}$ ($^\\circ$)\")\n",
    "    \n",
    "    h = ax4.hist(MC.Eplus(mask), range=(0,MC.Enu_max*0.8), **kwargs)\n",
    "    ax4.set_xlabel(r\"$E_+$ (GeV)\")\n",
    "\n",
    "    h = ax5.hist(MC.plus_beam(mask)*const.rad_to_deg, range=(0,60), **kwargs)\n",
    "    ax5.set_xlabel(r\"$\\theta_+$ ($^\\circ$)\")\n",
    "\n",
    "    h = ax6.hist(MC.invmassSQR(mask), range=((MC.mm+MC.mp)**2,2.0), **kwargs)    \n",
    "    ax6.set_xlabel(r\"$m_{\\ell^+\\ell^-}$ (GeV$^2$)\")\n",
    "    \n",
    "    for ax in axes.flatten():\n",
    "        ax.set_yscale('log')\n",
    "        ax.set_ylim(ax.get_ylim()[0], ax.get_ylim()[1]*3)\n",
    "\n",
    "\n",
    "########################################\n",
    "# neutrino\n",
    "\n",
    "fig1.suptitle(\"Neutrino mode normalized histograms\", fontsize=22)\n",
    "plot_dists(nu,'green', \n",
    "           r\"$\\nu_\\mu \\to \\nu_\\mu + \\mu^+ + \\mu^-$ all\", axes1, mask=nu.all_events)\n",
    "plot_dists(nu,'orange', \n",
    "           r\"$\\nu_\\mu \\to \\nu_\\mu + \\mu^+ + \\mu^-$ coh\", axes1, mask=nu.only_coh)\n",
    "plot_dists(nu,'purple', \n",
    "           r\"$\\nu_\\mu \\to \\nu_\\mu + \\mu^+ + \\mu^-$ incoh\", axes1, mask=nu.only_incoh)\n",
    "\n",
    "axes1[0,0].legend(loc='upper right', frameon=False, fontsize=0.7*fsize)\n",
    "\n",
    "\n",
    "fig2.suptitle(\"Antineutrino mode normalized histograms\", fontsize=22)\n",
    "\n",
    "plot_dists(nubar,'green', \n",
    "           r\"$\\nu_\\mu \\to \\nu_\\mu + \\mu^+ + \\mu^- + $ all\", axes2, mask=nubar.all_events)\n",
    "plot_dists(nubar,'orange', \n",
    "           r\"$\\nu_\\mu \\to \\nu_\\mu + \\mu^+ + \\mu^- + $ coh\", axes2, mask=nubar.only_coh)\n",
    "plot_dists(nubar,'purple', \n",
    "           r\"$\\nu_\\mu \\to \\nu_\\mu + \\mu^+ + \\mu^- + $ incoh\", axes2, mask=nubar.only_incoh)\n",
    "\n",
    "axes2[0,0].legend(loc='upper right', frameon=False, fontsize=0.7*fsize)\n"
   ]
  },
  {
   "cell_type": "markdown",
   "id": "agricultural-allah",
   "metadata": {},
   "source": [
    "## Some trivial check of the numerics"
   ]
  },
  {
   "cell_type": "code",
   "execution_count": 19,
   "id": "tough-failure",
   "metadata": {},
   "outputs": [
    {
     "data": {
      "image/png": "[encoded data removed]",
      "text/plain": [
       "<Figure size 720x144 with 3 Axes>"
      ]
     },
     "metadata": {
      "needs_background": "light"
     },
     "output_type": "display_data"
    },
    {
     "data": {
      "image/png": "[encoded data removed]",
      "text/plain": [
       "<Figure size 720x144 with 3 Axes>"
      ]
     },
     "metadata": {
      "needs_background": "light"
     },
     "output_type": "display_data"
    }
   ],
   "source": [
    "# Test the different kinematical limits\n",
    "# charged lepton masses are recovered\n",
    "def check_masses(MC):\n",
    "    fig, (ax1, ax2, ax3) = plt.subplots(nrows=1, ncols=3,figsize = (10,2))\n",
    "    # charged lepton masses are recovered\n",
    "    mplus  = np.sqrt(Cfv.dot4(MC.Pplus, MC.Pplus))\n",
    "    mminus = np.sqrt(Cfv.dot4(MC.Pminus, MC.Pminus))\n",
    "    mnu = Cfv.dot4(MC.Pnu, MC.Pnu)\n",
    "    \n",
    "    a = mplus/MC.mp - 1.\n",
    "    b = mminus/MC.mm - 1.\n",
    "    c = mnu\n",
    "#     a = MC.mp\n",
    "#     b = MC.mm\n",
    "\n",
    "    ax1.set_xlim(np.min(a), np.max(a)), ax1.set_ylim(np.min(b), np.max(b))\n",
    "    ax2.set_xlim(np.min(a), np.max(a)), ax2.set_ylim(np.min(c), np.max(c))\n",
    "    ax3.set_xlim(np.min(b), np.max(b)), ax3.set_ylim(np.min(c), np.max(c))\n",
    "    ax1.set_xlabel('a'), ax1.set_ylabel('b')\n",
    "    ax2.set_xlabel('a'), ax2.set_ylabel('c')\n",
    "    ax3.set_xlabel('b'), ax3.set_ylabel('c')\n",
    "    \n",
    "    ax1.scatter(a,b, lw=0, s=6,c=\"r\")\n",
    "    ax2.scatter(a,c, lw=0, s=6,c=\"r\")\n",
    "    ax3.scatter(b,c, lw=0, s=6,c=\"r\")\n",
    "\n",
    "    \n",
    "check_masses(nu)\n",
    "check_masses(nubar)"
   ]
  },
  {
   "cell_type": "code",
   "execution_count": null,
   "id": "unlike-capability",
   "metadata": {},
   "outputs": [],
   "source": []
  }
 ],
 "metadata": {
  "kernelspec": {
   "display_name": "Python 3",
   "language": "python",
   "name": "python3"
  },
  "language_info": {
   "codemirror_mode": {
    "name": "ipython",
    "version": 3
   },
   "file_extension": ".py",
   "mimetype": "text/x-python",
   "name": "python",
   "nbconvert_exporter": "python",
   "pygments_lexer": "ipython3",
   "version": "3.9.2"
  }
 },
 "nbformat": 4,
 "nbformat_minor": 5
}
