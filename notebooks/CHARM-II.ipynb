{
 "cells": [
  {
   "cell_type": "markdown",
   "id": "contemporary-equipment",
   "metadata": {},
   "source": [
    "# Neutrino Trident Production\n",
    "\n",
    "This notebook loads and tests the MC events for neutrino trident production off nuclei and protons,\n",
    "\n",
    "$$\\nu_\\alpha \\,+\\, N \\,\\to\\, \\nu_\\beta \\,+\\, \\ell^+_{\\kappa} \\,+\\, \\ell^-_{\\gamma} \\,+\\, N.$$\n",
    "\n",
    "This notebook can be easily adapted to generate and analyse your own experiment definition in PATH=../exps/\n",
    "\n",
    "\n",
    "Note that only the four-momenta of the final state charged leptons and neutrino are provided, together with the neutrino energy $E_\\nu$ and the momentum transfer to the nuclear targer $Q^2$.\n",
    "\n",
    "This work is directly based on $\\textit{arXiv:1807.10973}$."
   ]
  },
  {
   "cell_type": "markdown",
   "id": "wanted-novel",
   "metadata": {},
   "source": [
    "## Init"
   ]
  },
  {
   "cell_type": "code",
   "execution_count": 1,
   "id": "centered-crown",
   "metadata": {},
   "outputs": [],
   "source": [
    "%load_ext autoreload\n",
    "%autoreload 2\n",
    "%matplotlib inline"
   ]
  },
  {
   "cell_type": "code",
   "execution_count": 2,
   "id": "continuous-electron",
   "metadata": {},
   "outputs": [],
   "source": [
    "import numpy as np\n",
    "from scipy import *\n",
    "import os\n",
    "import sys\n",
    "import matplotlib.pyplot as plt\n",
    "from matplotlib import rc, rcParams\n",
    "import matplotlib.lines as mlines\n",
    "from matplotlib.pyplot import *\n",
    "\n",
    "\n",
    "# Neutrino Trident Production\n",
    "\n",
    "from source import *"
   ]
  },
  {
   "cell_type": "markdown",
   "id": "ranking-oxide",
   "metadata": {},
   "source": [
    "## Define scattering targets and the total mass to be used\n",
    "\n",
    "CHARM-II muonic photons"
   ]
  },
  {
   "cell_type": "code",
   "execution_count": 3,
   "id": "certified-liability",
   "metadata": {},
   "outputs": [
    {
     "name": "stdout",
     "output_type": "stream",
     "text": [
      "all materials: 28.600 t\n"
     ]
    }
   ],
   "source": [
    "# masses in t \n",
    "# totmass=3.57e29*1.6726219*1e-27*1e-3*(const.m_AVG)*2/(const.m_proton+const.m_neutron)\n",
    "totmass=28.6\n",
    "massFe=0.8*totmass\n",
    "massC=0.2*totmass\n",
    "\n",
    "# mass, Z, A, PB or noPB for pelastic events\n",
    "materials = np.array([\\\n",
    "            [massC, 6, 12, False],\n",
    "            [massFe, 26, 56, False],\n",
    "            [6/12*massC + 26/56*massFe, 1, 1, True],\n",
    "            [6/12*massC + (56-26)/48*massFe, 0, 1, True]]).T\n",
    "\n",
    "# check total detector mass\n",
    "nuclei_mask=np.array(1-materials[-1], dtype=bool)\n",
    "total_det_mass=np.sum(materials[0][nuclei_mask])\n",
    "\n",
    "print(f\"all materials: {total_det_mass:.3f} t\")"
   ]
  },
  {
   "cell_type": "markdown",
   "id": "circular-diabetes",
   "metadata": {},
   "source": [
    "## Generate trident events with exp scripts in exp\n",
    "\n",
    "this call ./exp.sh, reads all output npy files in data/exp/ folder, and combines all generation cases (targets, nu vs nubar, scattering regime) into a single dictionary."
   ]
  },
  {
   "cell_type": "code",
   "execution_count": 67,
   "id": "noble-karaoke",
   "metadata": {
    "scrolled": true
   },
   "outputs": [
    {
     "name": "stdout",
     "output_type": "stream",
     "text": [
      "data/MINOS_FHC_LE/\n",
      "Trident channel: numu_to_numu_mu+_mu-\n",
      "\n",
      "Integral: 0.102699+-0.000247897, Chi2 prob: 0.103389\n",
      "correction: 0.148422\n",
      "Total number of events: 105000\n",
      "Number of NaNed events: 0\n",
      "Saving events to file: data/MINOS_FHC_LE/MC_events_numu_to_numu_mu+_mu-_coh_6_12_gv_0.000980_ga_0.000000_mz_0.100000.npy\n",
      "size of events: 1575000\n",
      "Trident channel: numubar_to_numubar_mu+_mu-\n",
      "\n",
      "Integral: 0.0234113+-7.84754e-05, Chi2 prob: 0.417136\n",
      "correction: 0.185068\n",
      "Total number of events: 105000\n",
      "Number of NaNed events: 0\n",
      "Saving events to file: data/MINOS_FHC_LE/MC_events_numubar_to_numubar_mu+_mu-_coh_6_12_gv_0.000980_ga_0.000000_mz_0.100000.npy\n",
      "size of events: 1575000\n",
      "Trident channel: numu_to_numu_mu+_mu-\n",
      "\n",
      "Integral: 1.14386+-0.00261823, Chi2 prob: 0.0409283\n",
      "correction: 0.140744\n",
      "Total number of events: 105000\n",
      "Number of NaNed events: 0\n",
      "Saving events to file: data/MINOS_FHC_LE/MC_events_numu_to_numu_mu+_mu-_coh_26_56_gv_0.000980_ga_0.000000_mz_0.100000.npy\n",
      "size of events: 1575000\n",
      "Trident channel: numubar_to_numubar_mu+_mu-\n",
      "\n",
      "Integral: 0.267235+-0.000810186, Chi2 prob: 0.439113\n",
      "correction: 0.144652\n",
      "Total number of events: 105000\n",
      "Number of NaNed events: 0\n",
      "Saving events to file: data/MINOS_FHC_LE/MC_events_numubar_to_numubar_mu+_mu-_coh_26_56_gv_0.000980_ga_0.000000_mz_0.100000.npy\n",
      "size of events: 1575000\n",
      "Trident channel: numu_to_numu_mu+_mu-\n",
      "\n",
      "Integral: 0.010728+-2.28786e-05, Chi2 prob: 0.0184085\n",
      "correction: 0.1545\n",
      "Total number of events: 105000\n",
      "Number of NaNed events: 0\n",
      "Saving events to file: data/MINOS_FHC_LE/MC_events_numu_to_numu_mu+_mu-_proton_PB_gv_0.000980_ga_0.000000_mz_0.100000.npy\n",
      "size of events: 1575000\n",
      "Trident channel: numubar_to_numubar_mu+_mu-\n",
      "\n",
      "Integral: 0.00241916+-7.53009e-06, Chi2 prob: 0.519748\n",
      "correction: 0.178527\n",
      "Total number of events: 105000\n",
      "Number of NaNed events: 0\n",
      "Saving events to file: data/MINOS_FHC_LE/MC_events_numubar_to_numubar_mu+_mu-_proton_PB_gv_0.000980_ga_0.000000_mz_0.100000.npy\n",
      "size of events: 1575000\n",
      "Trident channel: numu_to_numu_mu+_mu-\n",
      "\n",
      "Integral: 0.00166079+-3.37621e-06, Chi2 prob: 0.360584\n",
      "correction: 0.16061\n",
      "Total number of events: 105000\n",
      "Number of NaNed events: 0\n",
      "Saving events to file: data/MINOS_FHC_LE/MC_events_numu_to_numu_mu+_mu-_neutron_PB_gv_0.000980_ga_0.000000_mz_0.100000.npy\n",
      "size of events: 1575000\n",
      "Trident channel: numubar_to_numubar_mu+_mu-\n",
      "\n",
      "Integral: 0.000376714+-1.02309e-06, Chi2 prob: 0.820048\n",
      "correction: 0.149641\n",
      "Total number of events: 105000\n",
      "Number of NaNed events: 0\n",
      "Saving events to file: data/MINOS_FHC_LE/MC_events_numubar_to_numubar_mu+_mu-_neutron_PB_gv_0.000980_ga_0.000000_mz_0.100000.npy\n",
      "size of events: 1575000\n",
      "\n",
      "\n",
      "proton_PB\n",
      "coh_26_56\n",
      "coh_6_12\n",
      "proton_PB\n",
      "coh_26_56\n",
      "coh_6_12\n",
      "neutron_PB\n",
      "neutron_PB\n",
      "Files read: 8\n",
      "data/MINOS_RHC_LE/\n",
      "Trident channel: numu_to_numu_mu+_mu-\n",
      "\n",
      "Integral: 0.0621971+-0.000141215, Chi2 prob: 0.604084\n",
      "correction: 0.13371\n",
      "Total number of events: 105000\n",
      "Number of NaNed events: 0\n",
      "Saving events to file: data/MINOS_RHC_LE/MC_events_numu_to_numu_mu+_mu-_coh_6_12_gv_0.000980_ga_0.000000_mz_0.100000.npy\n",
      "size of events: 1575000\n",
      "Trident channel: numubar_to_numubar_mu+_mu-\n",
      "\n",
      "Integral: 0.0499323+-0.00016042, Chi2 prob: 0.573704\n",
      "correction: 0.171259\n",
      "Total number of events: 105000\n",
      "Number of NaNed events: 0\n",
      "Saving events to file: data/MINOS_RHC_LE/MC_events_numubar_to_numubar_mu+_mu-_coh_6_12_gv_0.000980_ga_0.000000_mz_0.100000.npy\n",
      "size of events: 1575000\n",
      "Trident channel: numu_to_numu_mu+_mu-\n",
      "\n",
      "Integral: 0.722427+-0.00155638, Chi2 prob: 0.254437\n",
      "correction: 0.14777\n",
      "Total number of events: 105000\n",
      "Number of NaNed events: 0\n",
      "Saving events to file: data/MINOS_RHC_LE/MC_events_numu_to_numu_mu+_mu-_coh_26_56_gv_0.000980_ga_0.000000_mz_0.100000.npy\n",
      "size of events: 1575000\n",
      "Trident channel: numubar_to_numubar_mu+_mu-\n",
      "\n",
      "Integral: 0.534656+-0.00170036, Chi2 prob: 0.538773\n",
      "correction: 0.144837\n",
      "Total number of events: 105000\n",
      "Number of NaNed events: 0\n",
      "Saving events to file: data/MINOS_RHC_LE/MC_events_numubar_to_numubar_mu+_mu-_coh_26_56_gv_0.000980_ga_0.000000_mz_0.100000.npy\n",
      "size of events: 1575000\n",
      "Trident channel: numu_to_numu_mu+_mu-\n",
      "\n",
      "Integral: 0.00628411+-1.31373e-05, Chi2 prob: 0.629339\n",
      "correction: 0.152815\n",
      "Total number of events: 105000\n",
      "Number of NaNed events: 0\n",
      "Saving events to file: data/MINOS_RHC_LE/MC_events_numu_to_numu_mu+_mu-_proton_PB_gv_0.000980_ga_0.000000_mz_0.100000.npy\n",
      "size of events: 1575000\n",
      "Trident channel: numubar_to_numubar_mu+_mu-\n",
      "\n",
      "Integral: 0.00542089+-1.59315e-05, Chi2 prob: 0.343985\n",
      "correction: 0.161033\n",
      "Total number of events: 105000\n",
      "Number of NaNed events: 0\n",
      "Saving events to file: data/MINOS_RHC_LE/MC_events_numubar_to_numubar_mu+_mu-_proton_PB_gv_0.000980_ga_0.000000_mz_0.100000.npy\n",
      "size of events: 1575000\n",
      "Trident channel: numu_to_numu_mu+_mu-\n",
      "\n",
      "Integral: 0.000985004+-1.93349e-06, Chi2 prob: 0.996917\n",
      "correction: 0.152361\n",
      "Total number of events: 105000\n",
      "Number of NaNed events: 0\n",
      "Saving events to file: data/MINOS_RHC_LE/MC_events_numu_to_numu_mu+_mu-_neutron_PB_gv_0.000980_ga_0.000000_mz_0.100000.npy\n",
      "size of events: 1575000\n",
      "Trident channel: numubar_to_numubar_mu+_mu-\n",
      "\n",
      "Integral: 0.000826762+-2.26028e-06, Chi2 prob: 0.413209\n",
      "correction: 0.16231\n",
      "Total number of events: 105000\n",
      "Number of NaNed events: 0\n",
      "Saving events to file: data/MINOS_RHC_LE/MC_events_numubar_to_numubar_mu+_mu-_neutron_PB_gv_0.000980_ga_0.000000_mz_0.100000.npy\n",
      "size of events: 1575000\n",
      "\n",
      "\n",
      "proton_PB\n",
      "coh_26_56\n",
      "coh_6_12\n",
      "proton_PB\n",
      "coh_26_56\n",
      "coh_6_12\n",
      "neutron_PB\n",
      "neutron_PB\n",
      "Files read: 8\n",
      "data/MINOS_FHC_ME/\n",
      "Trident channel: numu_to_numu_mu+_mu-\n",
      "\n",
      "Integral: 0.316399+-0.000530922, Chi2 prob: 0.54049\n",
      "correction: 0.164053\n",
      "Total number of events: 105000\n",
      "Number of NaNed events: 0\n",
      "Saving events to file: data/MINOS_FHC_ME/MC_events_numu_to_numu_mu+_mu-_coh_6_12_gv_0.000980_ga_0.000000_mz_0.100000.npy\n",
      "size of events: 1575000\n",
      "Trident channel: numu_to_numu_mu+_mu-\n",
      "\n",
      "Integral: 3.4097+-0.00553392, Chi2 prob: 0.349653\n",
      "correction: 0.162376\n",
      "Total number of events: 105000\n",
      "Number of NaNed events: 0\n",
      "Saving events to file: data/MINOS_FHC_ME/MC_events_numu_to_numu_mu+_mu-_coh_26_56_gv_0.000980_ga_0.000000_mz_0.100000.npy\n",
      "size of events: 1575000\n",
      "Trident channel: numu_to_numu_mu+_mu-\n",
      "\n",
      "Integral: 0.034208+-5.60386e-05, Chi2 prob: 0.461153\n",
      "correction: 0.155547\n",
      "Total number of events: 105000\n",
      "Number of NaNed events: 0\n",
      "Saving events to file: data/MINOS_FHC_ME/MC_events_numu_to_numu_mu+_mu-_proton_PB_gv_0.000980_ga_0.000000_mz_0.100000.npy\n",
      "size of events: 1575000\n",
      "Trident channel: numu_to_numu_mu+_mu-\n",
      "\n",
      "Integral: 0.00518851+-8.48041e-06, Chi2 prob: 0.998573\n",
      "correction: 0.158205\n",
      "Total number of events: 105000\n",
      "Number of NaNed events: 0\n",
      "Saving events to file: data/MINOS_FHC_ME/MC_events_numu_to_numu_mu+_mu-_neutron_PB_gv_0.000980_ga_0.000000_mz_0.100000.npy\n",
      "size of events: 1575000\n",
      "\n",
      "\n",
      "proton_PB\n",
      "coh_26_56\n",
      "coh_6_12\n",
      "neutron_PB\n",
      "Files read: 4\n"
     ]
    }
   ],
   "source": [
    "MINOS_LE_f=gen.generate_tridents(\"MINOS_FHC_LE\",9.8e-4,0.1,materials)\n",
    "MINOS_LE_r=gen.generate_tridents(\"MINOS_RHC_LE\",9.8e-4,0.1,materials)\n",
    "MINOS_ME_f=gen.generate_tridents(\"MINOS_FHC_ME\",9.8e-4,0.1,materials)"
   ]
  },
  {
   "cell_type": "markdown",
   "id": "cordless-motivation",
   "metadata": {},
   "source": [
    "## Compute number of events with correct normalization"
   ]
  },
  {
   "cell_type": "code",
   "execution_count": 68,
   "id": "placed-partition",
   "metadata": {},
   "outputs": [
    {
     "name": "stdout",
     "output_type": "stream",
     "text": [
      "\n",
      " numode LE total number of events =  2202.5294900270292762\n",
      "\n",
      " nubarmode LE total number of events =  645.9830689551599177\n",
      "\n",
      " numode ME total number of events =  5613.3127372862536855\n"
     ]
    }
   ],
   "source": [
    "#################\n",
    "# convert event weights to # of events\n",
    "invm2_to_incm2=1e-4\n",
    "dE=1.0\n",
    "zb_to_cm2 = 1e-45\n",
    "nucleons_to_tons = const.NAvo*1e6\n",
    "\n",
    "# NuMI LE FHC\n",
    "POT_FHC_LE = 10.56e20 #1 POT\n",
    "norm_FHC_LE = nucleons_to_tons*zb_to_cm2*POT_FHC_LE*invm2_to_incm2/dE\n",
    "\n",
    "# NuMI LE RHC\n",
    "POT_RHC_LE = 3.36e20 #1 POT\n",
    "norm_RHC_LE = nucleons_to_tons*zb_to_cm2*POT_RHC_LE*invm2_to_incm2/dE\n",
    "\n",
    "# NuMI ME FHC\n",
    "POT_FHC_ME = 9.69e20 #1 POT\n",
    "norm_FHC_ME = nucleons_to_tons*zb_to_cm2*POT_FHC_ME*invm2_to_incm2/dE\n",
    "\n",
    "print(\"\\n numode LE total number of events = \", np.sum(MINOS_LE_f['weights'])*norm_FHC_LE)\n",
    "print(\"\\n nubarmode LE total number of events = \", np.sum(MINOS_LE_r['weights'])*norm_RHC_LE)\n",
    "print(\"\\n numode ME total number of events = \", np.sum(MINOS_ME_f['weights'])*norm_FHC_ME)\n"
   ]
  },
  {
   "cell_type": "markdown",
   "id": "random-johnston",
   "metadata": {},
   "source": [
    "# Class of kinematics"
   ]
  },
  {
   "cell_type": "code",
   "execution_count": 54,
   "id": "handled-sending",
   "metadata": {},
   "outputs": [
    {
     "name": "stdout",
     "output_type": "stream",
     "text": [
      "Total samples imported:  840000\n",
      "Total samples imported:  840000\n",
      "Total samples imported:  420000\n"
     ]
    }
   ],
   "source": [
    "nu = kin.kin(MINOS_LE_f,const.m_mu,const.m_mu,Emax=50)\n",
    "nubar = kin.kin(MINOS_LE_r,const.m_mu,const.m_mu,Emax=50)\n",
    "nume = kin.kin(MINOS_ME_f,const.m_mu,const.m_mu,Emax=50)"
   ]
  },
  {
   "cell_type": "markdown",
   "id": "bigger-providence",
   "metadata": {},
   "source": [
    "## Events as a function of neutrino energy \n",
    "\n",
    "Comapre with ND280 -- NuMI much wider band than J-PARC, so we get more events at high energy"
   ]
  },
  {
   "cell_type": "code",
   "execution_count": 44,
   "id": "approximate-question",
   "metadata": {},
   "outputs": [
    {
     "data": {
      "text/plain": [
       "<matplotlib.legend.Legend at 0x12126b910>"
      ]
     },
     "execution_count": 44,
     "metadata": {},
     "output_type": "execute_result"
    },
    {
     "data": {
      "image/png": "[encoded data removed]",
      "text/plain": [
       "<Figure size 864x432 with 2 Axes>"
      ]
     },
     "metadata": {
      "needs_background": "light"
     },
     "output_type": "display_data"
    }
   ],
   "source": [
    "# plot the distribution in neutrino energy as a sanity check\n",
    "def plot_nuflux(ax, colour, MC, title):\n",
    "    # defs\n",
    "    kwargs = {\"facecolor\" : \"None\", \n",
    "              \"edgecolor\" : colour,\n",
    "              \"lw\"        : 2.0,\n",
    "              \"alpha\"     : 0.5,\n",
    "              \"weights\" : MC.w,\n",
    "              \"bins\" : 40,\n",
    "              \"density\" : True,\n",
    "              \"label\" : title} \n",
    "    \n",
    "    # hists\n",
    "    h = ax.hist(MC.Enu, range=(0.0,MC.Enu_max), **kwargs)\n",
    "    ax.set_xlabel(r\"$E_\\nu$ (GeV)\")\n",
    "\n",
    "fig,  axes = plt.subplots(nrows=1, ncols=2,figsize = (12,6))\n",
    "(ax1,ax2) = axes\n",
    "\n",
    "plot_nuflux(ax1,\"indigo\", nu, \n",
    "           r\"$\\nu_\\mu \\to \\nu_\\mu + \\mu^+ + \\mu^-$ LE\")\n",
    "\n",
    "plot_nuflux(ax2,\"orange\", nubar, \n",
    "           r\"$\\overline{\\nu}_\\mu \\to \\overline{\\nu}_\\mu + \\mu^+ + \\mu^-$ LE\")\n",
    "\n",
    "plot_nuflux(ax1,\"orange\", nume, \n",
    "           r\"$\\nu_\\mu \\to \\nu_\\mu + \\mu^+ + \\mu^-$ ME\")\n",
    "\n",
    "ax1.legend(loc=\"upper right\", frameon=False, fontsize=11)\n",
    "ax2.legend(loc=\"upper right\", frameon=False, fontsize=11)\n"
   ]
  },
  {
   "cell_type": "code",
   "execution_count": 45,
   "id": "insured-skill",
   "metadata": {},
   "outputs": [
    {
     "data": {
      "text/plain": [
       "49.999674280001486"
      ]
     },
     "execution_count": 45,
     "metadata": {},
     "output_type": "execute_result"
    }
   ],
   "source": [
    "np.max(nubar.Enu)"
   ]
  },
  {
   "cell_type": "markdown",
   "id": "pregnant-courtesy",
   "metadata": {},
   "source": [
    "# Check a set of kinematical distributions\n"
   ]
  },
  {
   "cell_type": "code",
   "execution_count": 46,
   "id": "overhead-cleveland",
   "metadata": {
    "scrolled": false
   },
   "outputs": [
    {
     "data": {
      "text/plain": [
       "<matplotlib.legend.Legend at 0x121c8ad90>"
      ]
     },
     "execution_count": 46,
     "metadata": {},
     "output_type": "execute_result"
    },
    {
     "data": {
      "image/png": "[encoded data removed]",
      "text/plain": [
       "<Figure size 1152x576 with 6 Axes>"
      ]
     },
     "metadata": {
      "needs_background": "light"
     },
     "output_type": "display_data"
    },
    {
     "data": {
      "image/png": "[encoded data removed]",
      "text/plain": [
       "<Figure size 1152x576 with 6 Axes>"
      ]
     },
     "metadata": {
      "needs_background": "light"
     },
     "output_type": "display_data"
    }
   ],
   "source": [
    "fsize = 14\n",
    "\n",
    "# figs\n",
    "fig1,  axes1 = plt.subplots(nrows=2, ncols=3,figsize = (16,8))\n",
    "fig2,  axes2 = plt.subplots(nrows=2, ncols=3,figsize = (16,8))\n",
    "\n",
    "def plot_dists(MC, colour, title, axes, mask):\n",
    "\n",
    "    ((ax1, ax2, ax3), (ax4, ax5, ax6)) = axes\n",
    "\n",
    "    # defs\n",
    "    kwargs = {\"facecolor\" : \"None\", \n",
    "              \"edgecolor\" : colour,\n",
    "              \"lw\"        : 2.0,\n",
    "              \"alpha\"     : 0.8,\n",
    "              \"weights\" : MC.w[mask],\n",
    "              \"bins\" : 20,\n",
    "              \"density\" : False,\n",
    "              \"label\"  : title} \n",
    "    \n",
    "    # hists\n",
    "    h = ax1.hist(MC.Eminus(mask), range=(0,MC.Enu_max*0.8), **kwargs)\n",
    "    ax1.set_xlabel(r\"$E_-$ (GeV)\")\n",
    "\n",
    "    h = ax2.hist(MC.minus_beam(mask)*const.rad_to_deg, range=(0,60), **kwargs)\n",
    "    ax2.set_xlabel(r\"$\\theta_-(^\\circ$)\")\n",
    "\n",
    "    h = ax3.hist(MC.sepangle(mask)*const.rad_to_deg, range=(0,90), **kwargs)\n",
    "    ax3.set_xlabel(r\"$\\theta_{\\ell^+ \\ell^-}$ ($^\\circ$)\")\n",
    "    \n",
    "    h = ax4.hist(MC.Eplus(mask), range=(0,MC.Enu_max*0.8), **kwargs)\n",
    "    ax4.set_xlabel(r\"$E_+$ (GeV)\")\n",
    "\n",
    "    h = ax5.hist(MC.plus_beam(mask)*const.rad_to_deg, range=(0,60), **kwargs)\n",
    "    ax5.set_xlabel(r\"$\\theta_+$ ($^\\circ$)\")\n",
    "\n",
    "    h = ax6.hist(MC.invmassSQR(mask), range=((MC.mm+MC.mp)**2,2.0), **kwargs)    \n",
    "    ax6.set_xlabel(r\"$m_{\\ell^+\\ell^-}$ (GeV$^2$)\")\n",
    "    \n",
    "    for ax in axes.flatten():\n",
    "        ax.set_yscale('log')\n",
    "        ax.set_ylim(ax.get_ylim()[0], ax.get_ylim()[1]*3)\n",
    "\n",
    "\n",
    "########################################\n",
    "# neutrino\n",
    "\n",
    "fig1.suptitle(\"Neutrino mode normalized histograms\", fontsize=22)\n",
    "plot_dists(nu,'green', \n",
    "           r\"$\\nu_\\mu \\to \\nu_\\mu + \\mu^+ + \\mu^-$ all\", axes1, mask=nu.all_events)\n",
    "plot_dists(nu,'orange', \n",
    "           r\"$\\nu_\\mu \\to \\nu_\\mu + \\mu^+ + \\mu^-$ coh\", axes1, mask=nu.only_coh)\n",
    "plot_dists(nu,'purple', \n",
    "           r\"$\\nu_\\mu \\to \\nu_\\mu + \\mu^+ + \\mu^-$ incoh\", axes1, mask=nu.only_incoh)\n",
    "\n",
    "axes1[0,0].legend(loc='upper right', frameon=False, fontsize=0.7*fsize)\n",
    "\n",
    "\n",
    "fig2.suptitle(\"Antineutrino mode normalized histograms\", fontsize=22)\n",
    "\n",
    "plot_dists(nubar,'green', \n",
    "           r\"$\\nu_\\mu \\to \\nu_\\mu + \\mu^+ + \\mu^- + $ all\", axes2, mask=nubar.all_events)\n",
    "plot_dists(nubar,'orange', \n",
    "           r\"$\\nu_\\mu \\to \\nu_\\mu + \\mu^+ + \\mu^- + $ coh\", axes2, mask=nubar.only_coh)\n",
    "plot_dists(nubar,'purple', \n",
    "           r\"$\\nu_\\mu \\to \\nu_\\mu + \\mu^+ + \\mu^- + $ incoh\", axes2, mask=nubar.only_incoh)\n",
    "\n",
    "axes2[0,0].legend(loc='upper right', frameon=False, fontsize=0.7*fsize)\n",
    "\n"
   ]
  },
  {
   "cell_type": "markdown",
   "id": "agricultural-allah",
   "metadata": {},
   "source": [
    "## Some trivial check of the numerics"
   ]
  },
  {
   "cell_type": "code",
   "execution_count": 47,
   "id": "tough-failure",
   "metadata": {},
   "outputs": [
    {
     "data": {
      "image/png": "[encoded data removed]",
      "text/plain": [
       "<Figure size 720x144 with 3 Axes>"
      ]
     },
     "metadata": {
      "needs_background": "light"
     },
     "output_type": "display_data"
    },
    {
     "data": {
      "image/png": "[encoded data removed]",
      "text/plain": [
       "<Figure size 720x144 with 3 Axes>"
      ]
     },
     "metadata": {
      "needs_background": "light"
     },
     "output_type": "display_data"
    }
   ],
   "source": [
    "# Test the different kinematical limits\n",
    "# charged lepton masses are recovered\n",
    "def check_masses(MC):\n",
    "    fig, (ax1, ax2, ax3) = plt.subplots(nrows=1, ncols=3,figsize = (10,2))\n",
    "    # charged lepton masses are recovered\n",
    "    mplus  = np.sqrt(Cfv.dot4(MC.Pplus, MC.Pplus))\n",
    "    mminus = np.sqrt(Cfv.dot4(MC.Pminus, MC.Pminus))\n",
    "    mnu = Cfv.dot4(MC.Pnu, MC.Pnu)\n",
    "    \n",
    "    a = mplus/MC.mp - 1.\n",
    "    b = mminus/MC.mm - 1.\n",
    "    c = mnu\n",
    "#     a = MC.mp\n",
    "#     b = MC.mm\n",
    "\n",
    "    ax1.set_xlim(np.min(a), np.max(a)), ax1.set_ylim(np.min(b), np.max(b))\n",
    "    ax2.set_xlim(np.min(a), np.max(a)), ax2.set_ylim(np.min(c), np.max(c))\n",
    "    ax3.set_xlim(np.min(b), np.max(b)), ax3.set_ylim(np.min(c), np.max(c))\n",
    "    ax1.set_xlabel('a'), ax1.set_ylabel('b')\n",
    "    ax2.set_xlabel('a'), ax2.set_ylabel('c')\n",
    "    ax3.set_xlabel('b'), ax3.set_ylabel('c')\n",
    "    \n",
    "    ax1.scatter(a,b, lw=0, s=6,c=\"r\")\n",
    "    ax2.scatter(a,c, lw=0, s=6,c=\"r\")\n",
    "    ax3.scatter(b,c, lw=0, s=6,c=\"r\")\n",
    "\n",
    "    \n",
    "check_masses(nu)\n",
    "check_masses(nubar)"
   ]
  },
  {
   "cell_type": "code",
   "execution_count": null,
   "id": "departmental-instrument",
   "metadata": {},
   "outputs": [],
   "source": []
  },
  {
   "cell_type": "code",
   "execution_count": null,
   "id": "square-dialogue",
   "metadata": {},
   "outputs": [],
   "source": []
  }
 ],
 "metadata": {
  "kernelspec": {
   "display_name": "Python 3",
   "language": "python",
   "name": "python3"
  },
  "language_info": {
   "codemirror_mode": {
    "name": "ipython",
    "version": 3
   },
   "file_extension": ".py",
   "mimetype": "text/x-python",
   "name": "python",
   "nbconvert_exporter": "python",
   "pygments_lexer": "ipython3",
   "version": "3.9.5"
  }
 },
 "nbformat": 4,
 "nbformat_minor": 5
}
